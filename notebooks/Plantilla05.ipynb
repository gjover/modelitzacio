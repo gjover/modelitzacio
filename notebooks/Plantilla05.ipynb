{
 "cells": [
  {
   "cell_type": "markdown",
   "id": "f231752c",
   "metadata": {
    "slideshow": {
     "slide_type": "slide"
    }
   },
   "source": [
    "## Pràctica 5\n",
    "### Una teulada per un canaló\n",
    "\n",
    "[<center><img src=./static/FiberGutter1.jpg width=50%></center>](#img_Gutter)"
   ]
  },
  {
   "cell_type": "code",
   "execution_count": 1,
   "id": "3e81cf04",
   "metadata": {
    "slideshow": {
     "slide_type": "skip"
    }
   },
   "outputs": [],
   "source": [
    "import numpy as np\n",
    "import pandas as pd\n",
    "import scipy\n",
    "from scipy import stats\n",
    "import matplotlib.pyplot as plt\n",
    "from IPython.display import Math, display\n",
    "import sympy as sp\n",
    "from sympy.physics.units.systems import SI\n",
    "from sympy.physics.units import meter, second, liter, hour, degree, convert_to\n",
    "from sympy import sin, cos, pi, Abs\n",
    "\n",
    "sp.init_printing()\n",
    "\n",
    "def show(*args):\n",
    "    out = \"\"\n",
    "    for arg in args:\n",
    "        if isinstance(arg, (sp.Expr, sp.Eq)):\n",
    "            arg = sp.latex(arg)\n",
    "        else:\n",
    "            arg = str(arg)\n",
    "        out += arg\n",
    "    display(Math(out))\n",
    "    \n",
    "qq = \"\\quad \""
   ]
  },
  {
   "cell_type": "markdown",
   "id": "7bc60942",
   "metadata": {
    "slideshow": {
     "slide_type": "slide"
    }
   },
   "source": [
    "## Una teulada per un canaló\n",
    "- Un fabricant de canalons ha de preparar una fitxa tècnica del seu producte.\n",
    "- Vol saber amb quin rang d'inclinació de la teula, intensitat de pluja i duració són compatibles els seus canalons.\n",
    "- Necessita saber aquests valors per què l'aigua no vessi amb un CL del 99%.\n",
    "- Els canalons són de mitja canya amb un diàmetre de $15.00 \\pm 0.01 \\,cm$."
   ]
  },
  {
   "cell_type": "markdown",
   "id": "33ea0809",
   "metadata": {
    "slideshow": {
     "slide_type": "subslide"
    }
   },
   "source": [
    "### Dades\n",
    "- Per validar el model hem contractat un laboratori d'assaigs que ha fet les següents mesures:\n",
    "    - Canaló de $12.00 \\pm 0.01 \\,m$\n",
    "    - Canonada baixant de $63.0 \\pm 0.1 \\,mm$\n",
    "    - Teulada amb superfície efectiva de $(12.00 \\pm 0.01 \\times 10.00 \\pm 0.01) \\,m^2$\n",
    "    - Intensitats de pluja creixents 1 minut a $30.00 \\pm 0.01 \\,l/h$, 2 minuts a $60.00 \\pm 0.01 \\,l/h$ i 4 minuts a $90.00 \\pm 0.01 \\,l/h$\n",
    "    - Es mesura el cabal d'aigua sobre la teula, el cabal d'aigua a la sortida de la canonada i el nivell d'aigua al canaló"
   ]
  },
  {
   "cell_type": "code",
   "execution_count": 2,
   "id": "51b10096",
   "metadata": {
    "slideshow": {
     "slide_type": "subslide"
    }
   },
   "outputs": [
    {
     "name": "stdout",
     "output_type": "stream",
     "text": [
      "Index(['t (s)', 'Flow in (ml/s)', 'Flow out (ml/s)', 'Level (mm)'], dtype='object')\n"
     ]
    },
    {
     "data": {
      "image/png": "[encoded data removed]",
      "text/plain": [
       "<Figure size 432x288 with 16 Axes>"
      ]
     },
     "metadata": {
      "needs_background": "light"
     },
     "output_type": "display_data"
    }
   ],
   "source": [
    "# Dades\n",
    "data = pd.read_csv(\"../data/gutter.csv\")\n",
    "print(data.columns)\n",
    "l = pd.plotting.scatter_matrix(data[data.columns])"
   ]
  },
  {
   "cell_type": "markdown",
   "id": "55ce969f",
   "metadata": {
    "slideshow": {
     "slide_type": "subslide"
    }
   },
   "source": [
    "### Coneixements previs\n",
    "- El cabal d'aigua a una canonada en funció de la columna d'aigua a l'entrada és:\n",
    "\n",
    "$$Q = A \\sqrt{2gh}$$\n",
    "\n",
    "    - Q és el cabal d'aigua\n",
    "    - A és l'àrea de la secció de la canonada\n",
    "    - g és l'acceleració de la gravetat ($9.80665 \\,m/s^2$)\n",
    "    - h és l'alçada de la columna d'aigua\n",
    "- L'àrea del segment circular és:\n",
    "\n",
    "$$\n",
    "\\begin{align}\n",
    "A & = \\frac{R^2}{2}\\left(\\theta - \\sin \\theta \\right) \\\\\n",
    "\\cos \\theta/2 & = \\frac{R - h}{R} \\\\\n",
    "\\sin \\theta/2 & = \\frac{\\sqrt{2Rh - h^2}}{R} \\\\\n",
    "\\sin \\theta &= 2 \\sin \\theta/2 \\cos \\theta/2 \\\\\n",
    "\\end{align}\n",
    "$$\n",
    "\n",
    "[<center><img src=./static/Circularsegment.png></center>](#img_Segment)"
   ]
  },
  {
   "cell_type": "code",
   "execution_count": 3,
   "id": "10007f19",
   "metadata": {
    "slideshow": {
     "slide_type": "subslide"
    }
   },
   "outputs": [
    {
     "data": {
      "text/latex": [
       "$\\displaystyle \\sqrt{2} A \\sqrt{g h}\\quad \\frac{R^{2} \\left(\\theta - \\sin{\\left(\\theta \\right)}\\right)}{2}$"
      ],
      "text/plain": [
       "<IPython.core.display.Math object>"
      ]
     },
     "metadata": {},
     "output_type": "display_data"
    }
   ],
   "source": [
    "from sympy.abc import A, g, h, R, theta\n",
    "\n",
    "# cabal d'aigua a una canonada\n",
    "Q = A * sp.sqrt(2 * g * h)\n",
    "\n",
    "# Àrea del segment circular\n",
    "a = R * R / 2 * (theta - sp.sin(theta))\n",
    "\n",
    "show(Q, qq, a)"
   ]
  },
  {
   "cell_type": "markdown",
   "id": "e7428d0b",
   "metadata": {
    "slideshow": {
     "slide_type": "slide"
    }
   },
   "source": [
    "## Apartats\n",
    "- Descriu i analitza el sistema rellevant per a l'estudi (5 punts)\n",
    "- Fes les assumpcions pertinents i argumenta-les adequadament (5 punts)\n",
    "- Modelitza i resol el model (10 punts)\n",
    "- Verifica i valida el model (10 punts)\n",
    "- Fes una anàlisi crítica dels resultats (5 punts)"
   ]
  },
  {
   "cell_type": "markdown",
   "id": "3991fe20",
   "metadata": {
    "slideshow": {
     "slide_type": "slide"
    }
   },
   "source": [
    "## Anàlisi del sistema"
   ]
  },
  {
   "cell_type": "markdown",
   "id": "1008763f",
   "metadata": {
    "slideshow": {
     "slide_type": "subslide"
    }
   },
   "source": [
    "### Context"
   ]
  },
  {
   "cell_type": "markdown",
   "id": "45ffcbb3",
   "metadata": {
    "slideshow": {
     "slide_type": "subslide"
    }
   },
   "source": [
    "### Paràmetres"
   ]
  },
  {
   "cell_type": "code",
   "execution_count": 4,
   "id": "79fc72ba",
   "metadata": {
    "slideshow": {
     "slide_type": "subslide"
    }
   },
   "outputs": [],
   "source": [
    "# Visualització de dades\n",
    "# l = data.plot(x=\"\", y=\"\")"
   ]
  },
  {
   "cell_type": "markdown",
   "id": "f6c99236",
   "metadata": {
    "slideshow": {
     "slide_type": "slide"
    }
   },
   "source": [
    "## Assumpcions"
   ]
  },
  {
   "cell_type": "markdown",
   "id": "e49d7bcb",
   "metadata": {
    "slideshow": {
     "slide_type": "slide"
    }
   },
   "source": [
    "## Modelització"
   ]
  },
  {
   "cell_type": "code",
   "execution_count": 5,
   "id": "da6bda99",
   "metadata": {},
   "outputs": [],
   "source": [
    "# P = sp.Function()(x)\n",
    "# Pp = sp.diff(P, x)\n",
    "# fP = \n",
    "# eq = sp.Eq(Pp, fP)"
   ]
  },
  {
   "cell_type": "code",
   "execution_count": 6,
   "id": "1c83e974",
   "metadata": {},
   "outputs": [],
   "source": [
    "# sp.classify_ode(eq)"
   ]
  },
  {
   "cell_type": "code",
   "execution_count": 7,
   "id": "1901f3b4",
   "metadata": {},
   "outputs": [],
   "source": [
    "# sp.dsolve(eq, P)"
   ]
  },
  {
   "cell_type": "markdown",
   "id": "fa23e197",
   "metadata": {
    "slideshow": {
     "slide_type": "slide"
    }
   },
   "source": [
    "### Coeficients de sensitivitat del model"
   ]
  },
  {
   "cell_type": "code",
   "execution_count": 8,
   "id": "709f4e26",
   "metadata": {
    "slideshow": {
     "slide_type": "subslide"
    }
   },
   "outputs": [],
   "source": [
    "# CX = X / F * sp.diff(F, X)"
   ]
  },
  {
   "cell_type": "markdown",
   "id": "e27f9faa",
   "metadata": {
    "slideshow": {
     "slide_type": "slide"
    }
   },
   "source": [
    "## Verificació i validació"
   ]
  },
  {
   "cell_type": "markdown",
   "id": "696ce194",
   "metadata": {
    "slideshow": {
     "slide_type": "subslide"
    }
   },
   "source": [
    "### Verificació"
   ]
  },
  {
   "cell_type": "markdown",
   "id": "502d9266",
   "metadata": {
    "slideshow": {
     "slide_type": "subslide"
    }
   },
   "source": [
    "### Validació"
   ]
  },
  {
   "cell_type": "code",
   "execution_count": 9,
   "id": "1851df72",
   "metadata": {},
   "outputs": [],
   "source": [
    "# Dades"
   ]
  },
  {
   "cell_type": "code",
   "execution_count": 10,
   "id": "4f8527a7",
   "metadata": {
    "slideshow": {
     "slide_type": "subslide"
    }
   },
   "outputs": [],
   "source": [
    "# Simulació"
   ]
  },
  {
   "cell_type": "code",
   "execution_count": 11,
   "id": "8faabffb",
   "metadata": {
    "slideshow": {
     "slide_type": "subslide"
    }
   },
   "outputs": [],
   "source": [
    "# Discrepància\n",
    "# E = S - D\n",
    "# E"
   ]
  },
  {
   "cell_type": "code",
   "execution_count": 12,
   "id": "53b978b3",
   "metadata": {
    "slideshow": {
     "slide_type": "subslide"
    }
   },
   "outputs": [],
   "source": [
    "# Derivades parcials\n",
    "# mesures = {}\n",
    "# SX = sp.diff(E, X).subs(valors).subs(mesures).n()"
   ]
  },
  {
   "cell_type": "code",
   "execution_count": 13,
   "id": "40a521be",
   "metadata": {
    "slideshow": {
     "slide_type": "subslide"
    }
   },
   "outputs": [],
   "source": [
    "# Incertesa dels paràmetres al quadrat\n",
    "# up2 = np.sum(np.power([\n",
    "#     SX * EX,\n",
    "# ], 2))\n",
    "# up2"
   ]
  },
  {
   "cell_type": "code",
   "execution_count": 14,
   "id": "aaf15579",
   "metadata": {
    "slideshow": {
     "slide_type": "subslide"
    }
   },
   "outputs": [],
   "source": [
    "# Incertesa de l'estimació de la discrepància\n",
    "# uV = np.sqrt(up2)\n",
    "\n",
    "# Discrepància\n",
    "# show(\"E = %0.3f \\pm %0.3f\" % (E, uV))"
   ]
  },
  {
   "cell_type": "code",
   "execution_count": 15,
   "id": "ac8a3cc9",
   "metadata": {
    "slideshow": {
     "slide_type": "subslide"
    }
   },
   "outputs": [],
   "source": [
    "# Nivell de confiança per un error del 5% amb nu graus de llibertat\n",
    "# t = 0.05 / ur\n",
    "# l, h = stats.t.cdf([-t, t], nu)\n",
    "# CL = h - l"
   ]
  },
  {
   "cell_type": "code",
   "execution_count": 16,
   "id": "bec205ee",
   "metadata": {
    "slideshow": {
     "slide_type": "subslide"
    }
   },
   "outputs": [],
   "source": [
    "# Interval de t per un cert nivell de confiança amb nu graus de llibertat\n",
    "# stats.t.interval(CL, nu) "
   ]
  },
  {
   "cell_type": "markdown",
   "id": "47e3a0ef",
   "metadata": {
    "slideshow": {
     "slide_type": "slide"
    }
   },
   "source": [
    "## Anàlisi crítica"
   ]
  },
  {
   "cell_type": "code",
   "execution_count": 17,
   "id": "dfc376cf",
   "metadata": {
    "slideshow": {
     "slide_type": "subslide"
    }
   },
   "outputs": [],
   "source": [
    "# Resultat\n"
   ]
  },
  {
   "cell_type": "markdown",
   "id": "e2cbe7a7",
   "metadata": {
    "slideshow": {
     "slide_type": "slide"
    }
   },
   "source": [
    " "
   ]
  },
  {
   "cell_type": "markdown",
   "id": "349fab8b",
   "metadata": {
    "slideshow": {
     "slide_type": "skip"
    }
   },
   "source": [
    "# Referències\n",
    "\n",
    "- <a id='bib_Edwards'></a> Edwards, D., **2001**. *Guide to mathematical modelling*. Palgrave, Basingstoke.\n",
    "- <a id='img_Gutter'></a> https://commons.wikimedia.org/wiki/File:FiberGutter1.jpg\n",
    "- <a id='img_Segment'></a> https://commons.wikimedia.org/wiki/File:Circularsegment.svg"
   ]
  },
  {
   "cell_type": "markdown",
   "id": "d3fd205b",
   "metadata": {
    "slideshow": {
     "slide_type": "skip"
    }
   },
   "source": [
    "Copyright (C) 2022 Gabriel Jover Mañas\n",
    "\n",
    "    Permission is granted to copy, distribute and/or modify this document\n",
    "    under the terms of the GNU Free Documentation License, Version 1.3\n",
    "    or any later version published by the Free Software Foundation;\n",
    "    with no Invariant Sections, no Front-Cover Texts, and no Back-Cover Texts.\n",
    "    A copy of the license is included in the section entitled \"GNU\n",
    "    Free Documentation License\".\n",
    "\n",
    "![GFDL][GFDL]\n",
    "\n",
    "    This program is free software: you can redistribute it and/or modify\n",
    "    it under the terms of the GNU General Public License as published by\n",
    "    the Free Software Foundation, either version 3 of the License, or\n",
    "    (at your option) any later version.\n",
    "\n",
    "    This program is distributed in the hope that it will be useful,\n",
    "    but WITHOUT ANY WARRANTY; without even the implied warranty of\n",
    "    MERCHANTABILITY or FITNESS FOR A PARTICULAR PURPOSE.  See the\n",
    "    GNU General Public License for more details.\n",
    "\n",
    "    You should have received a copy of the GNU General Public License\n",
    "    along with this program.  If not, see <https://www.gnu.org/licenses/>.\n",
    "\n",
    "![GPL3][GPL3]\n",
    "\n",
    "[GFDL]: https://www.gnu.org/graphics/gfdl-logo.svg\n",
    "[GPL3]: https://www.gnu.org/graphics/gplv3-or-later.svg"
   ]
  }
 ],
 "metadata": {
  "celltoolbar": "Slideshow",
  "kernelspec": {
   "display_name": "Python 3",
   "language": "python",
   "name": "python3"
  },
  "language_info": {
   "codemirror_mode": {
    "name": "ipython",
    "version": 3
   },
   "file_extension": ".py",
   "mimetype": "text/x-python",
   "name": "python",
   "nbconvert_exporter": "python",
   "pygments_lexer": "ipython3",
   "version": "3.9.9"
  },
  "livereveal": {
   "autolaunch": true
  },
  "rise": {
   "autolaunch": true,
   "scroll": false
  }
 },
 "nbformat": 4,
 "nbformat_minor": 5
}
