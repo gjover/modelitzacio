{
 "cells": [
  {
   "cell_type": "markdown",
   "id": "a47e3ba1",
   "metadata": {
    "slideshow": {
     "slide_type": "slide"
    }
   },
   "source": [
    "# Pròleg\n",
    "### Assignatura\n",
    "Primera part del curs Modelització i Simulació \n",
    "\n",
    "Grau [Matemàtica Computacional i Analítica de Dades][MCAD]\n",
    "\n",
    "[MCAD]: https://www.uab.cat/web/estudiar/listado-de-grados/informacion-general-1216708258897.html?param1=1345740824235"
   ]
  },
  {
   "cell_type": "markdown",
   "id": "2d5f0268",
   "metadata": {
    "slideshow": {
     "slide_type": "slide"
    }
   },
   "source": [
    "## Objectius\n",
    "\n",
    "- Formular models adequats a les necessitats del problema real \n",
    "- d'analitzar-los formalment i/o computacionalment segons convingui.\n"
   ]
  },
  {
   "cell_type": "markdown",
   "id": "d926c958",
   "metadata": {
    "slideshow": {
     "slide_type": "slide"
    }
   },
   "source": [
    "## Continguts\n",
    "- [Que és un model?][Introduccio]\n",
    "- [El cicle de la modelització][Introduccio]\n",
    "    - [Formulació del problema][Sistema]\n",
    "    - [Anàlisis del sistema][Sistema]\n",
    "    - [Modelització][Modelitzacio]\n",
    "    - [Recol·lecció i anàlisis de dades][Dades]\n",
    "    - [Validació i verificació del model][Verificacio]\n",
    "    - [Interpretació dels resultats][Interpretacio]\n",
    "- [Cassos pràctics][Cas01]\n",
    "\n",
    "[Introduccio]: https://mybinder.org/v2/gh/gjover/modelitzacio.git/main?filepath=notebooks/Introduccio.ipynb\n",
    "[Sistema]: https://mybinder.org/v2/gh/gjover/modelitzacio.git/main?filepath=notebooks/Analisi_del_sistema.ipynb\n",
    "[Modelitzacio]: https://mybinder.org/v2/gh/gjover/modelitzacio.git/main?filepath=notebooks/Modelitzacio.ipynb\n",
    "[Dades]: https://mybinder.org/v2/gh/gjover/modelitzacio.git/main?filepath=notebooks/Analisi_de_dades.ipynb\n",
    "[Verificacio]: https://mybinder.org/v2/gh/gjover/modelitzacio.git/main?filepath=notebooks/Validacio_i_verificacio.ipynb\n",
    "[Interpretacio]: https://mybinder.org/v2/gh/gjover/modelitzacio.git/main?filepath=notebooks/Interpretacio.ipynb\n",
    "[Cas01]: https://mybinder.org/v2/gh/gjover/modelitzacio.git/main?filepath=notebooks/Cas01.ipynb"
   ]
  },
  {
   "cell_type": "markdown",
   "id": "e95d9554",
   "metadata": {
    "slideshow": {
     "slide_type": "slide"
    }
   },
   "source": [
    "## Eines informàtiques\n",
    "- Contingut disponible a github\n",
    "    - https://github.com/gjover/modelitzacio\n",
    "- Notebooks a binder\n",
    "    - https://mybinder.org/v2/gh/gjover/modelitzacio.git/main?filepath=notebooks/Proleg.ipynb"
   ]
  },
  {
   "cell_type": "markdown",
   "id": "63b9cd4d",
   "metadata": {
    "slideshow": {
     "slide_type": "slide"
    }
   },
   "source": [
    "## Programari\n",
    "\n",
    "- Python: https://docs.python.org/es/3/tutorial/index.html\n",
    "- Jupyter Notebooks: https://jupyter-notebook.readthedocs.io/en/latest/notebook.html"
   ]
  },
  {
   "cell_type": "markdown",
   "id": "bdb8a88f",
   "metadata": {
    "slideshow": {
     "slide_type": "subslide"
    }
   },
   "source": [
    "### Instal·lació\n",
    "\n",
    "- Es recomana fer la instal·lació amb conda\n",
    "\n",
    "`\n",
    "git clone https://github.com/gjover/modelitzacio.git\n",
    "cd modelitzacio/binder\n",
    "conda env create -f environment.yml\n",
    "source postBuild`"
   ]
  },
  {
   "cell_type": "markdown",
   "id": "7c2c3be3",
   "metadata": {
    "slideshow": {
     "slide_type": "subslide"
    }
   },
   "source": [
    "### Eines d'instal·lació\n",
    "- git: https://git-scm.com/downloads\n",
    "- conda: https://docs.conda.io/projects/conda/en/latest/user-guide/install/index.html"
   ]
  },
  {
   "cell_type": "markdown",
   "id": "1f2305fd",
   "metadata": {
    "slideshow": {
     "slide_type": "subslide"
    }
   },
   "source": [
    "### Conda\n",
    "- Conda es una eina per gestionar entorns virtuals i paquets python\n",
    "- amb `conda env create -f environment.yml` creem un entorn amb tots els paquets necessaris per al curs\n",
    "- per activar-lo fem `conda activate rise`\n",
    "- dins de l'entorn podem fer servir ipython o jupyter notebooks\n",
    "- per arrancar el servidor Jupyter Notebooks ho fem amb `conda env create -f environment.yml`"
   ]
  },
  {
   "cell_type": "markdown",
   "id": "76c84b60",
   "metadata": {
    "slideshow": {
     "slide_type": "slide"
    }
   },
   "source": [
    "### python\n",
    "- Llenguatge interpretat\n",
    "- Extensible\n",
    "- Multitud de llibreries"
   ]
  },
  {
   "cell_type": "code",
   "execution_count": 9,
   "id": "fd03cb78",
   "metadata": {
    "slideshow": {
     "slide_type": "fragment"
    }
   },
   "outputs": [
    {
     "name": "stdout",
     "output_type": "stream",
     "text": [
      "31.41592653589793\n"
     ]
    }
   ],
   "source": [
    "import numpy as np\n",
    "\n",
    "r = 5\n",
    "c = 2 * np.pi * r\n",
    "\n",
    "print(c)"
   ]
  },
  {
   "cell_type": "markdown",
   "id": "fb6ebc27",
   "metadata": {
    "slideshow": {
     "slide_type": "slide"
    }
   },
   "source": [
    "## documentació\n",
    "- Podeu accedir a la documentació de les funcions i mètodes\n",
    "- A ipython:\n",
    "    - amb el signe d'interrogació (?)\n",
    "- A Jupyter:\n",
    "    - amb la comanda help"
   ]
  },
  {
   "cell_type": "markdown",
   "id": "b61198f4",
   "metadata": {
    "slideshow": {
     "slide_type": "subslide"
    }
   },
   "source": [
    "### ipython\n",
    "```\n",
    "In [1]: import numpy as np\n",
    "\n",
    "In [2]: np.sin?\n",
    "\n",
    "Call signature:  np.sin(*args, **kwargs)\n",
    "Type:            ufunc\n",
    "String form:     <ufunc 'sin'>\n",
    "File:            ~/.conda/envs/rise/lib/python3.10/site-packages/numpy/__init__.py\n",
    "Docstring:      \n",
    "sin(x, /, out=None, *, where=True, casting='same_kind', order='K', dtype=None, subok=True[, signature, extobj])\n",
    "\n",
    "Trigonometric sine, element-wise.\n",
    "\n",
    "Parameters\n",
    "----------\n",
    "x : array_like\n",
    "    Angle, in radians (:math:`2 \\pi` rad equals 360 degrees).\n",
    "out : ndarray, None, or tuple of ndarray and None, optional\n",
    "    A location into which the result is stored. If provided, it must have\n",
    "    a shape that the inputs broadcast to. If not provided or None,\n",
    "    a freshly-allocated array is returned. A tuple (possible only as a\n",
    "    keyword argument) must have length equal to the number of outputs.\n",
    "where : array_like, optional\n",
    "    This condition is broadcast over the input. At locations where the\n",
    "    condition is True, the `out` array will be set to the ufunc result.\n",
    "    Elsewhere, the `out` array will retain its original value.\n",
    "    Note that if an uninitialized `out` array is created via the default\n",
    "    ``out=None``, locations within it where the condition is False will\n",
    "    remain uninitialized.\n",
    "**kwargs\n",
    "    For other keyword-only arguments, see the\n",
    "    :ref:`ufunc docs <ufuncs.kwargs>`.\n",
    "\n",
    "Returns\n",
    "-------\n",
    "y : array_like\n",
    "    The sine of each element of x.\n",
    "    This is a scalar if `x` is a scalar.\n",
    "\n",
    "See Also\n",
    "--------\n",
    "arcsin, sinh, cos\n",
    "```"
   ]
  },
  {
   "cell_type": "markdown",
   "id": "a621b8d3",
   "metadata": {
    "slideshow": {
     "slide_type": "subslide"
    }
   },
   "source": [
    "### jupyter notebook"
   ]
  },
  {
   "cell_type": "code",
   "execution_count": 2,
   "id": "1d8fbaab",
   "metadata": {
    "slideshow": {
     "slide_type": "fragment"
    }
   },
   "outputs": [
    {
     "name": "stdout",
     "output_type": "stream",
     "text": [
      "Help on function simplify in module sympy.simplify.simplify:\n",
      "\n",
      "simplify(expr, ratio=1.7, measure=<function count_ops at 0x7f1c8f1b1900>, rational=False, inverse=False, doit=True, **kwargs)\n",
      "    Simplifies the given expression.\n",
      "    \n",
      "    Explanation\n",
      "    ===========\n",
      "    \n",
      "    Simplification is not a well defined term and the exact strategies\n",
      "    this function tries can change in the future versions of SymPy. If\n",
      "    your algorithm relies on \"simplification\" (whatever it is), try to\n",
      "    determine what you need exactly  -  is it powsimp()?, radsimp()?,\n",
      "    together()?, logcombine()?, or something else? And use this particular\n",
      "    function directly, because those are well defined and thus your algorithm\n",
      "    will be robust.\n",
      "    \n",
      "    Nonetheless, especially for interactive use, or when you don't know\n",
      "    anything about the structure of the expression, simplify() tries to apply\n",
      "    intelligent heuristics to make the input expression \"simpler\".  For\n",
      "    example:\n",
      "    \n",
      "    >>> from sympy import simplify, cos, sin\n",
      "    >>> from sympy.abc import x, y\n",
      "    >>> a = (x + x**2)/(x*sin(y)**2 + x*cos(y)**2)\n",
      "    >>> a\n",
      "    (x**2 + x)/(x*sin(y)**2 + x*cos(y)**2)\n",
      "    >>> simplify(a)\n",
      "    x + 1\n",
      "    \n",
      "    Note that we could have obtained the same result by using specific\n",
      "    simplification functions:\n",
      "    \n",
      "    >>> from sympy import trigsimp, cancel\n",
      "    >>> trigsimp(a)\n",
      "    (x**2 + x)/x\n",
      "    >>> cancel(_)\n",
      "    x + 1\n",
      "    \n",
      "    In some cases, applying :func:`simplify` may actually result in some more\n",
      "    complicated expression. The default ``ratio=1.7`` prevents more extreme\n",
      "    cases: if (result length)/(input length) > ratio, then input is returned\n",
      "    unmodified.  The ``measure`` parameter lets you specify the function used\n",
      "    to determine how complex an expression is.  The function should take a\n",
      "    single argument as an expression and return a number such that if\n",
      "    expression ``a`` is more complex than expression ``b``, then\n",
      "    ``measure(a) > measure(b)``.  The default measure function is\n",
      "    :func:`~.count_ops`, which returns the total number of operations in the\n",
      "    expression.\n",
      "    \n",
      "    For example, if ``ratio=1``, ``simplify`` output can't be longer\n",
      "    than input.\n",
      "    \n",
      "    ::\n",
      "    \n",
      "        >>> from sympy import sqrt, simplify, count_ops, oo\n",
      "        >>> root = 1/(sqrt(2)+3)\n",
      "    \n",
      "    Since ``simplify(root)`` would result in a slightly longer expression,\n",
      "    root is returned unchanged instead::\n",
      "    \n",
      "       >>> simplify(root, ratio=1) == root\n",
      "       True\n",
      "    \n",
      "    If ``ratio=oo``, simplify will be applied anyway::\n",
      "    \n",
      "        >>> count_ops(simplify(root, ratio=oo)) > count_ops(root)\n",
      "        True\n",
      "    \n",
      "    Note that the shortest expression is not necessary the simplest, so\n",
      "    setting ``ratio`` to 1 may not be a good idea.\n",
      "    Heuristically, the default value ``ratio=1.7`` seems like a reasonable\n",
      "    choice.\n",
      "    \n",
      "    You can easily define your own measure function based on what you feel\n",
      "    should represent the \"size\" or \"complexity\" of the input expression.  Note\n",
      "    that some choices, such as ``lambda expr: len(str(expr))`` may appear to be\n",
      "    good metrics, but have other problems (in this case, the measure function\n",
      "    may slow down simplify too much for very large expressions).  If you don't\n",
      "    know what a good metric would be, the default, ``count_ops``, is a good\n",
      "    one.\n",
      "    \n",
      "    For example:\n",
      "    \n",
      "    >>> from sympy import symbols, log\n",
      "    >>> a, b = symbols('a b', positive=True)\n",
      "    >>> g = log(a) + log(b) + log(a)*log(1/b)\n",
      "    >>> h = simplify(g)\n",
      "    >>> h\n",
      "    log(a*b**(1 - log(a)))\n",
      "    >>> count_ops(g)\n",
      "    8\n",
      "    >>> count_ops(h)\n",
      "    5\n",
      "    \n",
      "    So you can see that ``h`` is simpler than ``g`` using the count_ops metric.\n",
      "    However, we may not like how ``simplify`` (in this case, using\n",
      "    ``logcombine``) has created the ``b**(log(1/a) + 1)`` term.  A simple way\n",
      "    to reduce this would be to give more weight to powers as operations in\n",
      "    ``count_ops``.  We can do this by using the ``visual=True`` option:\n",
      "    \n",
      "    >>> print(count_ops(g, visual=True))\n",
      "    2*ADD + DIV + 4*LOG + MUL\n",
      "    >>> print(count_ops(h, visual=True))\n",
      "    2*LOG + MUL + POW + SUB\n",
      "    \n",
      "    >>> from sympy import Symbol, S\n",
      "    >>> def my_measure(expr):\n",
      "    ...     POW = Symbol('POW')\n",
      "    ...     # Discourage powers by giving POW a weight of 10\n",
      "    ...     count = count_ops(expr, visual=True).subs(POW, 10)\n",
      "    ...     # Every other operation gets a weight of 1 (the default)\n",
      "    ...     count = count.replace(Symbol, type(S.One))\n",
      "    ...     return count\n",
      "    >>> my_measure(g)\n",
      "    8\n",
      "    >>> my_measure(h)\n",
      "    14\n",
      "    >>> 15./8 > 1.7 # 1.7 is the default ratio\n",
      "    True\n",
      "    >>> simplify(g, measure=my_measure)\n",
      "    -log(a)*log(b) + log(a) + log(b)\n",
      "    \n",
      "    Note that because ``simplify()`` internally tries many different\n",
      "    simplification strategies and then compares them using the measure\n",
      "    function, we get a completely different result that is still different\n",
      "    from the input expression by doing this.\n",
      "    \n",
      "    If ``rational=True``, Floats will be recast as Rationals before simplification.\n",
      "    If ``rational=None``, Floats will be recast as Rationals but the result will\n",
      "    be recast as Floats. If rational=False(default) then nothing will be done\n",
      "    to the Floats.\n",
      "    \n",
      "    If ``inverse=True``, it will be assumed that a composition of inverse\n",
      "    functions, such as sin and asin, can be cancelled in any order.\n",
      "    For example, ``asin(sin(x))`` will yield ``x`` without checking whether\n",
      "    x belongs to the set where this relation is true. The default is\n",
      "    False.\n",
      "    \n",
      "    Note that ``simplify()`` automatically calls ``doit()`` on the final\n",
      "    expression. You can avoid this behavior by passing ``doit=False`` as\n",
      "    an argument.\n",
      "    \n",
      "    Also, it should be noted that simplifying the boolian expression is not\n",
      "    well defined. If the expression prefers automatic evaluation (such as\n",
      "    :obj:`~.Eq()` or :obj:`~.Or()`), simplification will return ``True`` or\n",
      "    ``False`` if truth value can be determined. If the expression is not\n",
      "    evaluated by default (such as :obj:`~.Predicate()`), simplification will\n",
      "    not reduce it and you should use :func:`~.refine()` or :func:`~.ask()`\n",
      "    function. This inconsistency will be resolved in future version.\n",
      "    \n",
      "    See Also\n",
      "    ========\n",
      "    \n",
      "    sympy.assumptions.refine.refine : Simplification using assumptions.\n",
      "    sympy.assumptions.ask.ask : Query for boolean expressions using assumptions.\n",
      "\n"
     ]
    }
   ],
   "source": [
    "import sympy as sp\n",
    "help(sp.simplify)"
   ]
  },
  {
   "cell_type": "markdown",
   "id": "93b17f10",
   "metadata": {
    "slideshow": {
     "slide_type": "slide"
    }
   },
   "source": [
    "## Llibreries\n",
    "- sympy: https://docs.sympy.org/latest/tutorial/index.html\n",
    "- numpy: https://numpy.org/doc/stable/user/absolute_beginners.html\n",
    "- matplotlib: https://matplotlib.org/stable/tutorials/introductory/pyplot.html\n",
    "- pandas: https://pandas.pydata.org/docs/user_guide/10min.html"
   ]
  },
  {
   "cell_type": "code",
   "execution_count": 3,
   "id": "b29f83e4",
   "metadata": {
    "slideshow": {
     "slide_type": "subslide"
    }
   },
   "outputs": [
    {
     "data": {
      "image/png": "[encoded data removed]",
      "text/latex": [
       "$\\displaystyle \\frac{d}{d t} P{\\left(t \\right)} = \\frac{a \\left(M - P{\\left(t \\right)}\\right) P{\\left(t \\right)}}{M}$"
      ],
      "text/plain": [
       "d          a⋅(M - P(t))⋅P(t)\n",
       "──(P(t)) = ─────────────────\n",
       "dt                 M        "
      ]
     },
     "execution_count": 3,
     "metadata": {},
     "output_type": "execute_result"
    }
   ],
   "source": [
    "import sympy as sp\n",
    "from sympy.abc import t, a, M\n",
    "sp.init_printing()\n",
    "P = sp.symbols('P', cls=sp.Function)\n",
    "\n",
    "dP = sp.diff(P(t), t)\n",
    "f = a * P(t) * (M - P(t)) / M\n",
    "eq = sp.Eq(dP, f)\n",
    "eq"
   ]
  },
  {
   "cell_type": "code",
   "execution_count": 4,
   "id": "be20adb6",
   "metadata": {
    "slideshow": {
     "slide_type": "fragment"
    }
   },
   "outputs": [
    {
     "data": {
      "image/png": "[encoded data removed]",
      "text/latex": [
       "$\\displaystyle P{\\left(t \\right)} = \\frac{M e^{C_{1} M + a t}}{e^{C_{1} M + a t} - 1}$"
      ],
      "text/plain": [
       "           C₁⋅M + a⋅t \n",
       "        M⋅ℯ           \n",
       "P(t) = ───────────────\n",
       "        C₁⋅M + a⋅t    \n",
       "       ℯ           - 1"
      ]
     },
     "execution_count": 4,
     "metadata": {},
     "output_type": "execute_result"
    }
   ],
   "source": [
    "sp.dsolve(eq)"
   ]
  },
  {
   "cell_type": "code",
   "execution_count": 5,
   "id": "bf7ceb06",
   "metadata": {
    "scrolled": true,
    "slideshow": {
     "slide_type": "subslide"
    }
   },
   "outputs": [
    {
     "data": {
      "image/png": "[encoded data removed]",
      "text/plain": [
       "<Figure size 432x288 with 1 Axes>"
      ]
     },
     "metadata": {
      "needs_background": "light"
     },
     "output_type": "display_data"
    }
   ],
   "source": [
    "import numpy as np\n",
    "import matplotlib.pyplot as plt\n",
    "\n",
    "X = np.linspace(-2, 2, 50)\n",
    "Y1 = 1 / (1 + np.exp(-2 * X))\n",
    "Y2 = 0.5 + X / 2\n",
    "\n",
    "fig, ax = plt.subplots()\n",
    "fig.suptitle('Comportament logistic')\n",
    "\n",
    "ax.plot(X, Y1, X, Y2)\n",
    "ax.set_ylabel('Població')\n",
    "ax.set_xlabel('temps (s)')\n",
    "ax.set_ylim([0, 1])\n",
    "\n",
    "plt.show()"
   ]
  },
  {
   "cell_type": "code",
   "execution_count": 6,
   "id": "2bb44052",
   "metadata": {
    "scrolled": true,
    "slideshow": {
     "slide_type": "subslide"
    }
   },
   "outputs": [
    {
     "name": "stdout",
     "output_type": "stream",
     "text": [
      "   Energy (keV)  Counts (#)\n",
      "0             0        22.0\n",
      "1             5        24.0\n",
      "2            10        21.0\n",
      "3            15        19.0\n",
      "4            20        18.0\n"
     ]
    },
    {
     "data": {
      "image/png": "[encoded data removed]",
      "text/plain": [
       "<Figure size 432x288 with 1 Axes>"
      ]
     },
     "metadata": {
      "needs_background": "light"
     },
     "output_type": "display_data"
    }
   ],
   "source": [
    "import pandas as pd\n",
    "import matplotlib.pyplot as plt\n",
    "\n",
    "Cd = pd.read_csv(\"../data/Cd_spec.csv\")\n",
    "print(Cd.head())\n",
    "\n",
    "plot = Cd.plot.scatter(x=Cd.columns[0], y=Cd.columns[1])\n",
    "#plot.set_xlim([24500, 25500])\n",
    "plt.show()"
   ]
  },
  {
   "cell_type": "markdown",
   "id": "6bbdbf80",
   "metadata": {
    "slideshow": {
     "slide_type": "slide"
    }
   },
   "source": [
    " "
   ]
  },
  {
   "cell_type": "markdown",
   "id": "d3fd205b",
   "metadata": {
    "slideshow": {
     "slide_type": "skip"
    }
   },
   "source": [
    "Copyright (C) 2022 Gabriel Jover Mañas\n",
    "\n",
    "    Permission is granted to copy, distribute and/or modify this document\n",
    "    under the terms of the GNU Free Documentation License, Version 1.3\n",
    "    or any later version published by the Free Software Foundation;\n",
    "    with no Invariant Sections, no Front-Cover Texts, and no Back-Cover Texts.\n",
    "    A copy of the license is included in the section entitled \"GNU\n",
    "    Free Documentation License\".\n",
    "\n",
    "![GFDL][GFDL]\n",
    "\n",
    "    This program is free software: you can redistribute it and/or modify\n",
    "    it under the terms of the GNU General Public License as published by\n",
    "    the Free Software Foundation, either version 3 of the License, or\n",
    "    (at your option) any later version.\n",
    "\n",
    "    This program is distributed in the hope that it will be useful,\n",
    "    but WITHOUT ANY WARRANTY; without even the implied warranty of\n",
    "    MERCHANTABILITY or FITNESS FOR A PARTICULAR PURPOSE.  See the\n",
    "    GNU General Public License for more details.\n",
    "\n",
    "    You should have received a copy of the GNU General Public License\n",
    "    along with this program.  If not, see <https://www.gnu.org/licenses/>.\n",
    "\n",
    "![GPL3][GPL3]\n",
    "\n",
    "[GFDL]: https://www.gnu.org/graphics/gfdl-logo.svg\n",
    "[GPL3]: https://www.gnu.org/graphics/gplv3-or-later.svg"
   ]
  }
 ],
 "metadata": {
  "celltoolbar": "Slideshow",
  "kernelspec": {
   "display_name": "Python 3 (ipykernel)",
   "language": "python",
   "name": "python3"
  },
  "language_info": {
   "codemirror_mode": {
    "name": "ipython",
    "version": 3
   },
   "file_extension": ".py",
   "mimetype": "text/x-python",
   "name": "python",
   "nbconvert_exporter": "python",
   "pygments_lexer": "ipython3",
   "version": "3.10.1"
  },
  "livereveal": {
   "autolaunch": true
  },
  "rise": {
   "autolaunch": true,
   "scroll": true
  }
 },
 "nbformat": 4,
 "nbformat_minor": 5
}
