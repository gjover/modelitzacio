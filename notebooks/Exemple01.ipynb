{
 "cells": [
  {
   "cell_type": "markdown",
   "id": "46af8f9b",
   "metadata": {
    "slideshow": {
     "slide_type": "slide"
    }
   },
   "source": [
    "## Exemple 1\n",
    "### Plou a bots i barrals\n",
    "\n",
    "[<center><img src=./static/Les_Parapluies_de_Viborg.jpg width=50%></center>](#img_Parapluies)\n",
    "\n",
    "[Edwards 2001](#bib_Edwards) Cap. 3.4"
   ]
  },
  {
   "cell_type": "code",
   "execution_count": 1,
   "id": "2e740ab1",
   "metadata": {
    "execution": {
     "iopub.execute_input": "2023-03-11T18:42:23.425679Z",
     "iopub.status.busy": "2023-03-11T18:42:23.425266Z",
     "iopub.status.idle": "2023-03-11T18:42:24.096251Z",
     "shell.execute_reply": "2023-03-11T18:42:24.095793Z"
    },
    "slideshow": {
     "slide_type": "skip"
    }
   },
   "outputs": [],
   "source": [
    "import numpy as np\n",
    "import scipy\n",
    "import matplotlib.pyplot as plt\n",
    "from IPython.display import Math, display\n",
    "import sympy as sp\n",
    "from sympy.physics.units.systems import SI\n",
    "from sympy.physics.units import meter, second, liter, hour, degree, convert_to\n",
    "from sympy import sin, cos, pi, Abs\n",
    "\n",
    "sp.init_printing()\n",
    "\n",
    "def show(*args):\n",
    "    out = \"\"\n",
    "    for arg in args:\n",
    "        if isinstance(arg, (sp.Expr, sp.Eq)):\n",
    "            arg = sp.latex(arg)\n",
    "        else:\n",
    "            arg = str(arg)\n",
    "        out += arg\n",
    "    display(Math(out))\n",
    "    \n",
    "qq = \"\\quad \""
   ]
  },
  {
   "cell_type": "markdown",
   "id": "9b3a624a",
   "metadata": {
    "slideshow": {
     "slide_type": "slide"
    }
   },
   "source": [
    "## Formulació del problema\n",
    "- Àmbit d'estudi: Està plovent, i he d'anar a casa\n",
    "- Canvi que es busca: Mullar-me el mínim possible\n",
    "- Precisió de l'estudi: 100 ml"
   ]
  },
  {
   "cell_type": "markdown",
   "id": "441dbe63",
   "metadata": {
    "slideshow": {
     "slide_type": "slide"
    }
   },
   "source": [
    "## Anàlisis del sistema\n",
    "- Context\n",
    "- Factors i esdeveniments mesurables\n",
    "- Relacions, comportament i estats"
   ]
  },
  {
   "cell_type": "markdown",
   "id": "c6b37fc5",
   "metadata": {
    "slideshow": {
     "slide_type": "subslide"
    }
   },
   "source": [
    "## Anàlisis del sistema\n",
    "### Context\n",
    "- Està plovent\n",
    "- Fa un poc de vent i les gotes cauen amb cert angle"
   ]
  },
  {
   "cell_type": "markdown",
   "id": "00556cd4",
   "metadata": {
    "slideshow": {
     "slide_type": "subslide"
    }
   },
   "source": [
    "## Anàlisis del sistema\n",
    "### Factors i esdeveniments mesurables\n",
    "- Distancia a recórrer: $1000\\;m$\n",
    "- Velocitat de les gotes: $4 \\;ms^{-1}$\n",
    "- Angle de les gotes: $10 ^{\\circ}$\n",
    "- Flux de pluja: $4 \\;l \\; m^{-2} h^{-1}$\n",
    "- Velocitat caminant: $2 \\;ms^{-1}$\n",
    "- Velocitat corrent: $6 \\;ms^{-1}$\n",
    "- Mides del cos: $50 \\times 20 \\times 180 \\;cm^3$"
   ]
  },
  {
   "cell_type": "markdown",
   "id": "949c0361",
   "metadata": {
    "slideshow": {
     "slide_type": "subslide"
    }
   },
   "source": [
    "## Anàlisis del sistema\n",
    "### Relacions, comportament i estats\n",
    "<img src=./static/Plou.png width=50%>"
   ]
  },
  {
   "cell_type": "markdown",
   "id": "9e1fc98d",
   "metadata": {
    "slideshow": {
     "slide_type": "subslide"
    }
   },
   "source": [
    "## Anàlisis del sistema\n",
    "### Relacions, comportament i estats\n",
    "- Com més estona estic sota l'aigua, més em mullo\n",
    "- Com més fort plou més em mullo\n",
    "- Com més vent fa més em mullo"
   ]
  },
  {
   "cell_type": "markdown",
   "id": "33ef8ea7",
   "metadata": {
    "slideshow": {
     "slide_type": "slide"
    }
   },
   "source": [
    "## Modelat\n",
    "- Representació matemàtica de variables i relacions\n",
    "- Anàlisi del model\n",
    "- Interpretació del model en el context"
   ]
  },
  {
   "cell_type": "markdown",
   "id": "ae461377",
   "metadata": {
    "slideshow": {
     "slide_type": "subslide"
    }
   },
   "source": [
    "<img src=./static/Plou_sim.png width=50%>"
   ]
  },
  {
   "cell_type": "markdown",
   "id": "70087278",
   "metadata": {
    "slideshow": {
     "slide_type": "subslide"
    }
   },
   "source": [
    "## Modelat\n",
    "### Representació matemàtica de variables i relacions\n",
    "\n",
    "- Distancia a recórrer: $D = 1000\\;m$\n",
    "- Flux de pluja: $\\phi = 4 \\;l \\; m^{-2} h^{-1}$\n",
    "- Velocitat caminant: $v_{lent} = 2 \\;ms^{-1}$\n",
    "- Velocitat corrent: $v_{ràpid} = 6 \\;ms^{-1}$\n",
    "- Velocitat de les gotes: $u = 4 \\;ms^{-1}$\n",
    "- Angle de les gotes: $\\theta = 10^{\\circ}$\n",
    "- Mides del cos: $(x,y,z) = 50 \\times 20 \\times 180 \\;cm^3$"
   ]
  },
  {
   "cell_type": "code",
   "execution_count": 2,
   "id": "9a094709",
   "metadata": {
    "execution": {
     "iopub.execute_input": "2023-03-11T18:42:24.098833Z",
     "iopub.status.busy": "2023-03-11T18:42:24.098472Z",
     "iopub.status.idle": "2023-03-11T18:42:24.105233Z",
     "shell.execute_reply": "2023-03-11T18:42:24.104837Z"
    },
    "slideshow": {
     "slide_type": "subslide"
    }
   },
   "outputs": [],
   "source": [
    "from sympy.abc import D, v, u, theta, x, y, z\n",
    "flux = sp.symbols(\"\\phi\")\n",
    "\n",
    "valors = {\n",
    "    D: 1000 * meter,\n",
    "    flux: 4 * liter / meter/ meter / hour,\n",
    "    v: 2 * meter / second,\n",
    "    u: 4 * meter / second,\n",
    "    theta: 10 * pi / 180,\n",
    "    x: 0.50 * meter,\n",
    "    y: 0.20 * meter,\n",
    "    z: 1.80 * meter,\n",
    "}"
   ]
  },
  {
   "cell_type": "markdown",
   "id": "c1d52ae4",
   "metadata": {
    "slideshow": {
     "slide_type": "subslide"
    }
   },
   "source": [
    "## Modelat\n",
    "### Representació matemàtica de variables i relacions\n",
    "- El volum d'aigua depén del flux i del temps\n",
    "    - Volum d'aigua al cap: $V_s = \\phi_z \\times t$\n",
    "- El volum d'aigua depén de la velocitat del vent\n",
    "    - Volum d'aigua al frontal: $V_f = \\phi_y \\times t \\times u\\, sin(\\theta)$\n",
    "- Temps sota l'aigua: $t = D / v$"
   ]
  },
  {
   "cell_type": "code",
   "execution_count": 3,
   "id": "2c3a3cb6",
   "metadata": {
    "execution": {
     "iopub.execute_input": "2023-03-11T18:42:24.107035Z",
     "iopub.status.busy": "2023-03-11T18:42:24.106876Z",
     "iopub.status.idle": "2023-03-11T18:42:24.113418Z",
     "shell.execute_reply": "2023-03-11T18:42:24.113062Z"
    },
    "slideshow": {
     "slide_type": "subslide"
    }
   },
   "outputs": [
    {
     "data": {
      "text/latex": [
       "$\\displaystyle V_s = \\frac{D \\phi}{v}\\quad V_f = \\frac{D \\phi u \\sin{\\left(\\theta \\right)}}{v}$"
      ],
      "text/plain": [
       "<IPython.core.display.Math object>"
      ]
     },
     "metadata": {},
     "output_type": "display_data"
    }
   ],
   "source": [
    "t = D / v\n",
    "Vs = flux * t\n",
    "Vf = flux * t * u *sin(theta)\n",
    "\n",
    "show(\n",
    "    \"V_s = \", Vs, qq,\n",
    "    \"V_f = \", Vf,\n",
    ")"
   ]
  },
  {
   "cell_type": "markdown",
   "id": "5676de5b",
   "metadata": {
    "slideshow": {
     "slide_type": "subslide"
    }
   },
   "source": [
    "## Modelat\n",
    "### Anàlisi del model\n",
    "- Anàlisi dimensional"
   ]
  },
  {
   "cell_type": "code",
   "execution_count": 4,
   "id": "fab80213",
   "metadata": {
    "execution": {
     "iopub.execute_input": "2023-03-11T18:42:24.114918Z",
     "iopub.status.busy": "2023-03-11T18:42:24.114785Z",
     "iopub.status.idle": "2023-03-11T18:42:24.126366Z",
     "shell.execute_reply": "2023-03-11T18:42:24.126049Z"
    },
    "slideshow": {
     "slide_type": "fragment"
    }
   },
   "outputs": [
    {
     "data": {
      "text/latex": [
       "$\\displaystyle length\\quad \\frac{length^{2}}{time}$"
      ],
      "text/plain": [
       "<IPython.core.display.Math object>"
      ]
     },
     "metadata": {},
     "output_type": "display_data"
    }
   ],
   "source": [
    "show(\n",
    "    SI.get_dimensional_expr(Vs.subs(valors)), qq,\n",
    "    SI.get_dimensional_expr(Vf.subs(valors)),\n",
    ")"
   ]
  },
  {
   "cell_type": "markdown",
   "id": "96461514",
   "metadata": {
    "slideshow": {
     "slide_type": "subslide"
    }
   },
   "source": [
    "## Modelat\n",
    "### Anàlisi del model\n",
    "- Anàlisi dimensional\n",
    "    - El volum d'aigua depèn de la superfície exposada\n",
    "    - Assumim un cos en forma de paral·lelepípede\n",
    "    - El flux de pluja i la velocitat són proporcionals\n",
    "        - Introduirem un factor de normalització $I$\n",
    "        - La velocitat relativa de la pluja depèn de la nostra velocitat"
   ]
  },
  {
   "cell_type": "code",
   "execution_count": 5,
   "id": "9925eac9",
   "metadata": {
    "execution": {
     "iopub.execute_input": "2023-03-11T18:42:24.127892Z",
     "iopub.status.busy": "2023-03-11T18:42:24.127755Z",
     "iopub.status.idle": "2023-03-11T18:42:24.142626Z",
     "shell.execute_reply": "2023-03-11T18:42:24.142219Z"
    },
    "slideshow": {
     "slide_type": "subslide"
    }
   },
   "outputs": [
    {
     "data": {
      "text/latex": [
       "$\\displaystyle V_s = \\frac{D \\phi x y \\cos{\\left(\\theta \\right)}}{v}\\quad length^{3}\\quad V_f = \\frac{D \\phi x z \\left(u \\sin{\\left(\\theta \\right)} + v\\right)}{u v}\\quad length^{3}$"
      ],
      "text/plain": [
       "<IPython.core.display.Math object>"
      ]
     },
     "metadata": {},
     "output_type": "display_data"
    }
   ],
   "source": [
    "I = flux / u\n",
    "\n",
    "Ss = x * y\n",
    "Vs = I * t * u * cos(theta) * Ss\n",
    "\n",
    "Sf = x * z\n",
    "Vf = I * t * (u * sin(theta) + v) * Sf\n",
    "\n",
    "show(\n",
    "    \"V_s = \", Vs, qq,\n",
    "    SI.get_dimensional_expr(Vs.subs(valors)), qq,\n",
    "    \"V_f = \", Vf, qq,\n",
    "    SI.get_dimensional_expr(Vf.subs(valors)),\n",
    ")"
   ]
  },
  {
   "cell_type": "code",
   "execution_count": 6,
   "id": "3e0a5620",
   "metadata": {
    "execution": {
     "iopub.execute_input": "2023-03-11T18:42:24.144395Z",
     "iopub.status.busy": "2023-03-11T18:42:24.144243Z",
     "iopub.status.idle": "2023-03-11T18:42:24.255258Z",
     "shell.execute_reply": "2023-03-11T18:42:24.254841Z"
    },
    "slideshow": {
     "slide_type": "subslide"
    }
   },
   "outputs": [
    {
     "data": {
      "text/latex": [
       "$\\displaystyle V = \\frac{D \\phi x \\left(u y \\cos{\\left(\\theta \\right)} + z \\left(u \\sin{\\left(\\theta \\right)} + v\\right)\\right)}{u v}\\quad length^{3}$"
      ],
      "text/plain": [
       "<IPython.core.display.Math object>"
      ]
     },
     "metadata": {},
     "output_type": "display_data"
    }
   ],
   "source": [
    "V = Vs + Vf\n",
    "\n",
    "show(\n",
    "    \"V = \", sp.simplify(V), qq,\n",
    "    SI.get_dimensional_expr(V.subs(valors)), \n",
    ")"
   ]
  },
  {
   "cell_type": "code",
   "execution_count": 7,
   "id": "eddfbaae",
   "metadata": {
    "execution": {
     "iopub.execute_input": "2023-03-11T18:42:24.257069Z",
     "iopub.status.busy": "2023-03-11T18:42:24.256915Z",
     "iopub.status.idle": "2023-03-11T18:42:24.338315Z",
     "shell.execute_reply": "2023-03-11T18:42:24.337946Z"
    },
    "slideshow": {
     "slide_type": "subslide"
    }
   },
   "outputs": [
    {
     "data": {
      "text/latex": [
       "$\\displaystyle V(v_{m/s}) = \\frac{0.25 v_{m/s} + 0.111111111111111 \\cos{\\left(\\frac{\\pi}{18} \\right)} + 1.0 \\sin{\\left(\\frac{\\pi}{18} \\right)}}{v_{m/s}}$"
      ],
      "text/plain": [
       "<IPython.core.display.Math object>"
      ]
     },
     "metadata": {},
     "output_type": "display_data"
    }
   ],
   "source": [
    "v_ms = sp.symbols(\"v_{m/s}\")\n",
    "\n",
    "val = valors.copy()\n",
    "val[v] = v_ms * meter / second\n",
    "val[flux] = convert_to(val[flux], liter / meter/ meter / second)\n",
    "\n",
    "V_v = sp.simplify(V.subs(val) / liter)\n",
    "\n",
    "show(\"V(v_{m/s}) = \", V_v)"
   ]
  },
  {
   "cell_type": "code",
   "execution_count": 8,
   "id": "5ff14f2a",
   "metadata": {
    "execution": {
     "iopub.execute_input": "2023-03-11T18:42:24.340042Z",
     "iopub.status.busy": "2023-03-11T18:42:24.339899Z",
     "iopub.status.idle": "2023-03-11T18:42:24.445982Z",
     "shell.execute_reply": "2023-03-11T18:42:24.445528Z"
    },
    "slideshow": {
     "slide_type": "subslide"
    }
   },
   "outputs": [
    {
     "data": {
      "image/png": "[encoded data removed]",
      "text/plain": [
       "<Figure size 640x480 with 1 Axes>"
      ]
     },
     "metadata": {},
     "output_type": "display_data"
    },
    {
     "data": {
      "text/latex": [
       "$\\displaystyle V_{2m/s} = 0.39153563066747665\\quad V_{6m/s} = 0.29717854355582557$"
      ],
      "text/plain": [
       "<IPython.core.display.Math object>"
      ]
     },
     "metadata": {},
     "output_type": "display_data"
    }
   ],
   "source": [
    "V_lam = sp.lambdify(v_ms, V_v, \"numpy\")\n",
    "\n",
    "X = np.linspace(2, 6, 50)\n",
    "Y = V_lam(X)\n",
    "\n",
    "plt.plot(X, Y)\n",
    "plt.xlabel('velocitat (m/s)')\n",
    "plt.ylabel('Aigua (L)')\n",
    "plt.show()\n",
    "\n",
    "show(\"V_{2m/s} = \", V_lam(2), qq, \"V_{6m/s} = \", V_lam(6))"
   ]
  },
  {
   "cell_type": "markdown",
   "id": "f1acd820",
   "metadata": {
    "slideshow": {
     "slide_type": "slide"
    }
   },
   "source": [
    "## Modelat\n",
    "### Interpretació del model en el context\n"
   ]
  },
  {
   "cell_type": "markdown",
   "id": "34ec1f97",
   "metadata": {
    "slideshow": {
     "slide_type": "fragment"
    }
   },
   "source": [
    "- El nostre model es pot dividir entre el volum superficial i frontal"
   ]
  },
  {
   "cell_type": "markdown",
   "id": "c7172cf7",
   "metadata": {
    "slideshow": {
     "slide_type": "fragment"
    }
   },
   "source": [
    "- Una component del volum frontal és independent de la nostra velocitat"
   ]
  },
  {
   "cell_type": "markdown",
   "id": "55cd7dcc",
   "metadata": {
    "slideshow": {
     "slide_type": "fragment"
    }
   },
   "source": [
    "- L'altre component és inversament proporcional a la nostra velocitat"
   ]
  },
  {
   "cell_type": "markdown",
   "id": "77b2e1d2",
   "metadata": {
    "slideshow": {
     "slide_type": "slide"
    }
   },
   "source": [
    "## Recol·lecció i anàlisis de dades\n",
    "- Experiment\n",
    "- Procés de mesura\n",
    "- Ajust del model a les dades"
   ]
  },
  {
   "cell_type": "markdown",
   "id": "d6c6b5d1",
   "metadata": {
    "slideshow": {
     "slide_type": "subslide"
    }
   },
   "source": [
    "## Recol·lecció i anàlisis de dades\n",
    "### Experiment\n",
    "- Mesura amb un got horitzontal a diferents velocitats\n",
    "- Mesura amb un got vertical\n",
    "- Mesurem amb una xeringuilla amb precisió de $0.2 \\,mL$"
   ]
  },
  {
   "cell_type": "code",
   "execution_count": 9,
   "id": "c24760e0",
   "metadata": {
    "execution": {
     "iopub.execute_input": "2023-03-11T18:42:24.448150Z",
     "iopub.status.busy": "2023-03-11T18:42:24.447956Z",
     "iopub.status.idle": "2023-03-11T18:42:24.502973Z",
     "shell.execute_reply": "2023-03-11T18:42:24.502605Z"
    },
    "slideshow": {
     "slide_type": "subslide"
    }
   },
   "outputs": [
    {
     "data": {
      "text/latex": [
       "$\\displaystyle V = \\frac{\\pi D \\phi d^{2} \\left(u \\sin{\\left(\\theta \\right)} + u + v\\right)}{4 u v}\\quad length^{3}$"
      ],
      "text/plain": [
       "<IPython.core.display.Math object>"
      ]
     },
     "metadata": {},
     "output_type": "display_data"
    }
   ],
   "source": [
    "from sympy.abc import d\n",
    "valors[d] = 0.05 * meter\n",
    "\n",
    "S = pi * (d/2)**2\n",
    "\n",
    "Vs = I * t * u * S\n",
    "Vf = I * t * (u * sin(theta) + v) * S\n",
    "\n",
    "V = Vs + Vf\n",
    "\n",
    "show(\n",
    "    \"V = \", sp.simplify(V), qq,\n",
    "    SI.get_dimensional_expr(V.subs(valors)), \n",
    ")"
   ]
  },
  {
   "cell_type": "code",
   "execution_count": 10,
   "id": "c529859b",
   "metadata": {
    "execution": {
     "iopub.execute_input": "2023-03-11T18:42:24.504765Z",
     "iopub.status.busy": "2023-03-11T18:42:24.504592Z",
     "iopub.status.idle": "2023-03-11T18:42:24.571423Z",
     "shell.execute_reply": "2023-03-11T18:42:24.570743Z"
    },
    "slideshow": {
     "slide_type": "subslide"
    }
   },
   "outputs": [
    {
     "data": {
      "text/latex": [
       "$\\displaystyle Vs_{2m/s} = 0.0011\\quad Vf_{2m/s} = 0.00074$"
      ],
      "text/plain": [
       "<IPython.core.display.Math object>"
      ]
     },
     "metadata": {},
     "output_type": "display_data"
    },
    {
     "data": {
      "text/latex": [
       "$\\displaystyle Vs_{1m/s} = 0.0022\\quad Vf_{1m/s} = 0.00092$"
      ],
      "text/plain": [
       "<IPython.core.display.Math object>"
      ]
     },
     "metadata": {},
     "output_type": "display_data"
    },
    {
     "data": {
      "text/latex": [
       "$\\displaystyle Vs_{0.5m/s} = 0.0044\\quad Vf_{0.5m/s} = 0.0013$"
      ],
      "text/plain": [
       "<IPython.core.display.Math object>"
      ]
     },
     "metadata": {},
     "output_type": "display_data"
    }
   ],
   "source": [
    "v_ms = sp.symbols(\"v_{m/s}\")\n",
    "\n",
    "val = valors.copy()\n",
    "val[v] = v_ms * meter / second\n",
    "val[flux] = convert_to(val[flux], liter / meter/ meter / second)\n",
    "\n",
    "Vs_v = sp.simplify(Vs.subs(val) / liter)\n",
    "Vf_v = sp.simplify(Vf.subs(val) / liter)\n",
    "\n",
    "show(\"Vs_{2m/s} = \", Vs_v.subs({v_ms: 2}).n(2), qq, \"Vf_{2m/s} = \", Vf_v.subs({v_ms: 2}).n(2))\n",
    "show(\"Vs_{1m/s} = \", Vs_v.subs({v_ms: 1}).n(2), qq, \"Vf_{1m/s} = \", Vf_v.subs({v_ms: 1}).n(2))\n",
    "show(\"Vs_{0.5m/s} = \", Vs_v.subs({v_ms: 0.5}).n(2), qq, \"Vf_{0.5m/s} = \", Vf_v.subs({v_ms: 0.5}).n(2))"
   ]
  },
  {
   "cell_type": "markdown",
   "id": "7f52b004",
   "metadata": {
    "slideshow": {
     "slide_type": "subslide"
    }
   },
   "source": [
    "## Recol·lecció i anàlisis de dades\n",
    "### Procés de mesura\n",
    "|     | $V_s$ mesurat | $V_s$ esperat | $V_f$ mesurat | $V_f$ esperat |\n",
    "| --- | :---: | :---: | :---: | :---: |\n",
    "| 2 m/s | 1.0 ± 0.2 mL | $1.1$ | 0.6 ± 0.2 mL | $0.7$ |\n",
    "| 1 m/s | 2.2 ± 0.2 mL | $2.1$ | 0.8 ± 0.2 mL | $0.9$ |\n",
    "| 0.5 m/s | 4.4 ± 0.2 mL | $4.3$ | 1.2  ± 0.2 mL | $1.3$ |"
   ]
  },
  {
   "cell_type": "markdown",
   "id": "77aae86a",
   "metadata": {
    "slideshow": {
     "slide_type": "subslide"
    }
   },
   "source": [
    "## Recol·lecció i anàlisis de dades\n",
    "### Ajust del model a les dades\n",
    "- No tenim dades suficients per ajustar"
   ]
  },
  {
   "cell_type": "markdown",
   "id": "97eb139c",
   "metadata": {
    "slideshow": {
     "slide_type": "slide"
    }
   },
   "source": [
    "## Validació i verificació del model\n",
    "- El model serveix per resoldre el problema\n",
    "- El model és prou precís"
   ]
  },
  {
   "cell_type": "markdown",
   "id": "0ba0f5a8",
   "metadata": {
    "slideshow": {
     "slide_type": "subslide"
    }
   },
   "source": [
    "## Validació i verificació del model\n",
    "### El model serveix per resoldre el problema\n",
    "- El model ens permet calcular quant ens banyarem\n",
    "- Ens dona un criteri per triar la nostra velocitat\n",
    "- Ens hi ha permés interpretar millor el problema"
   ]
  },
  {
   "cell_type": "markdown",
   "id": "3109b9bd",
   "metadata": {
    "slideshow": {
     "slide_type": "subslide"
    }
   },
   "source": [
    "## Validació i verificació del model\n",
    "### El model és prou precís\n",
    "- Demanàvem una precisió de $100 mL$\n",
    "- Assumim un 10% d'error, dominat per l'error sistemàtic\n",
    "- La predicció seria:\n",
    "    - A $2 \\,m/s$ mullar-se $390 \\pm 40\\,mL$ \n",
    "    - A $6 \\,m/s$ mullar-se $300 \\pm 30\\,mL$ "
   ]
  },
  {
   "cell_type": "markdown",
   "id": "b9ed1961",
   "metadata": {
    "slideshow": {
     "slide_type": "slide"
    }
   },
   "source": [
    "## Interpretació dels resultats\n",
    "- Anàlisi crítica\n",
    "- Revisió i millora del model"
   ]
  },
  {
   "cell_type": "markdown",
   "id": "83ead201",
   "metadata": {
    "slideshow": {
     "slide_type": "subslide"
    }
   },
   "source": [
    "## Interpretació dels resultats\n",
    "### Anàlisi crítica\n",
    "- Com més ràpid anem menys ens mullarem\n",
    "- La direcció del vent ens pot ajudar a mullar-nos menys\n",
    "- Hem disposat de poques dades experimentals\n",
    "- Però ens ha permès validar el model"
   ]
  },
  {
   "cell_type": "markdown",
   "id": "050a070c",
   "metadata": {
    "slideshow": {
     "slide_type": "subslide"
    }
   },
   "source": [
    "## Interpretació dels resultats\n",
    "### Revisió i millora del model\n",
    "- El model és adequat per als requeriments inicials"
   ]
  },
  {
   "cell_type": "markdown",
   "id": "a56fb8c1",
   "metadata": {
    "slideshow": {
     "slide_type": "slide"
    }
   },
   "source": [
    " "
   ]
  },
  {
   "cell_type": "markdown",
   "id": "52168795",
   "metadata": {
    "slideshow": {
     "slide_type": "skip"
    }
   },
   "source": [
    "# Referències\n",
    "\n",
    "- <a id='bib_Edwards'></a> Edwards, D., **2001**. *Guide to mathematical modelling*. Palgrave, Basingstoke.\n",
    "- <a id='img_Parapluies'></a> https://commons.wikimedia.org/wiki/File:Les_Parapluies_de_Viborg.jpg"
   ]
  },
  {
   "cell_type": "markdown",
   "id": "f1804866",
   "metadata": {
    "slideshow": {
     "slide_type": "skip"
    }
   },
   "source": [
    "Copyright (C) 2022 Gabriel Jover Mañas\n",
    "\n",
    "    Permission is granted to copy, distribute and/or modify this document\n",
    "    under the terms of the GNU Free Documentation License, Version 1.3\n",
    "    or any later version published by the Free Software Foundation;\n",
    "    with no Invariant Sections, no Front-Cover Texts, and no Back-Cover Texts.\n",
    "    A copy of the license is included in the section entitled \"GNU\n",
    "    Free Documentation License\".\n",
    "\n",
    "![GFDL][GFDL]\n",
    "\n",
    "    This program is free software: you can redistribute it and/or modify\n",
    "    it under the terms of the GNU General Public License as published by\n",
    "    the Free Software Foundation, either version 3 of the License, or\n",
    "    (at your option) any later version.\n",
    "\n",
    "    This program is distributed in the hope that it will be useful,\n",
    "    but WITHOUT ANY WARRANTY; without even the implied warranty of\n",
    "    MERCHANTABILITY or FITNESS FOR A PARTICULAR PURPOSE.  See the\n",
    "    GNU General Public License for more details.\n",
    "\n",
    "    You should have received a copy of the GNU General Public License\n",
    "    along with this program.  If not, see <https://www.gnu.org/licenses/>.\n",
    "\n",
    "![GPL3][GPL3]\n",
    "\n",
    "[GFDL]: https://www.gnu.org/graphics/gfdl-logo.svg\n",
    "[GPL3]: https://www.gnu.org/graphics/gplv3-or-later.svg"
   ]
  }
 ],
 "metadata": {
  "jupytext": {
   "formats": "ipynb,py:percent"
  },
  "kernelspec": {
   "display_name": "Python 3 (ipykernel)",
   "language": "python",
   "name": "python3"
  },
  "language_info": {
   "codemirror_mode": {
    "name": "ipython",
    "version": 3
   },
   "file_extension": ".py",
   "mimetype": "text/x-python",
   "name": "python",
   "nbconvert_exporter": "python",
   "pygments_lexer": "ipython3",
   "version": "3.9.16"
  }
 },
 "nbformat": 4,
 "nbformat_minor": 5
}
