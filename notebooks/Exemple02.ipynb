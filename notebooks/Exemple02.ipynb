{
 "cells": [
  {
   "cell_type": "markdown",
   "id": "641920f2",
   "metadata": {
    "slideshow": {
     "slide_type": "slide"
    }
   },
   "source": [
    "## Exemple 2\n",
    "### Dissolució\n",
    "\n",
    "[<center><img src=./static/Water_Tank.jpg width=50%></center>](#img_Water_Tank)"
   ]
  },
  {
   "cell_type": "code",
   "execution_count": 1,
   "id": "101f35c6",
   "metadata": {
    "execution": {
     "iopub.execute_input": "2023-03-11T18:42:27.102408Z",
     "iopub.status.busy": "2023-03-11T18:42:27.101782Z",
     "iopub.status.idle": "2023-03-11T18:42:27.955019Z",
     "shell.execute_reply": "2023-03-11T18:42:27.954275Z"
    },
    "slideshow": {
     "slide_type": "skip"
    }
   },
   "outputs": [],
   "source": [
    "import numpy as np\n",
    "import pandas as pd\n",
    "import scipy\n",
    "from scipy import stats\n",
    "import matplotlib.pyplot as plt\n",
    "from IPython.display import Math, display\n",
    "import sympy as sp\n",
    "from sympy.physics.units.systems import SI\n",
    "from sympy.physics.units import meter, second, liter, hour, degree, convert_to\n",
    "from sympy import sin, cos, pi, Abs\n",
    "\n",
    "sp.init_printing()\n",
    "\n",
    "def show(*args):\n",
    "    out = \"\"\n",
    "    for arg in args:\n",
    "        if isinstance(arg, (sp.Expr, sp.Eq)):\n",
    "            arg = sp.latex(arg)\n",
    "        else:\n",
    "            arg = str(arg)\n",
    "        out += arg\n",
    "    display(Math(out))\n",
    "    \n",
    "qq = \"\\quad \""
   ]
  },
  {
   "cell_type": "markdown",
   "id": "9a97cad4",
   "metadata": {
    "slideshow": {
     "slide_type": "slide"
    }
   },
   "source": [
    "## Dissolució\n",
    "- Tenim una planta química on hem de reduir la concentració d'un producte químic\n",
    "- El nostre sistema està compost d'un dipòsit amb un cabal continu d'entrada i sortida\n",
    "- Volem saber quina serà la concentració a la sortida amb una precisió de $0.01\\, mg/l$\n",
    "- El volum dels dipòsits és de $1000.0 \\,m^3$\n",
    "- Es carrega $1 \\,Kg$ de producte cada hora"
   ]
  },
  {
   "cell_type": "markdown",
   "id": "31ef1485",
   "metadata": {
    "slideshow": {
     "slide_type": "slide"
    }
   },
   "source": [
    "## Anàlisi del sistema"
   ]
  },
  {
   "cell_type": "markdown",
   "id": "ade2742a",
   "metadata": {
    "slideshow": {
     "slide_type": "subslide"
    }
   },
   "source": [
    "### Context\n"
   ]
  },
  {
   "cell_type": "markdown",
   "id": "2913d90e",
   "metadata": {
    "slideshow": {
     "slide_type": "subslide"
    }
   },
   "source": [
    "### Paràmetres\n",
    "- Cabal d'aigua $Q$\n",
    "- Concentració de reactiu $x$\n",
    "- Quantitat de reactiu inicial $M = 1000.0 \\,g$\n",
    "- Volum d'aigua de cada dipòsit $V = 1000.0 \\,m^3$\n",
    "- Concentració inicial del reactiu $C = M/V$"
   ]
  },
  {
   "cell_type": "markdown",
   "id": "32637860",
   "metadata": {
    "slideshow": {
     "slide_type": "slide"
    }
   },
   "source": [
    "## Assumpcions\n"
   ]
  },
  {
   "cell_type": "markdown",
   "id": "dc27c0c5",
   "metadata": {
    "slideshow": {
     "slide_type": "subslide"
    }
   },
   "source": [
    "$$\n",
    "\\begin{aligned}\n",
    "x' & = -x \\cdot Q/V\n",
    "\\end{aligned}\n",
    "$$"
   ]
  },
  {
   "cell_type": "markdown",
   "id": "eec95d90",
   "metadata": {
    "slideshow": {
     "slide_type": "slide"
    }
   },
   "source": [
    "## Modelització"
   ]
  },
  {
   "cell_type": "code",
   "execution_count": 2,
   "id": "2f85ca69",
   "metadata": {
    "execution": {
     "iopub.execute_input": "2023-03-11T18:42:27.957429Z",
     "iopub.status.busy": "2023-03-11T18:42:27.957178Z",
     "iopub.status.idle": "2023-03-11T18:42:28.370939Z",
     "shell.execute_reply": "2023-03-11T18:42:28.370401Z"
    },
    "slideshow": {
     "slide_type": "subslide"
    }
   },
   "outputs": [
    {
     "data": {
      "text/latex": [
       "$\\displaystyle C e^{- \\frac{Q t}{V}}$"
      ],
      "text/plain": [
       "<IPython.core.display.Math object>"
      ]
     },
     "metadata": {},
     "output_type": "display_data"
    }
   ],
   "source": [
    "from sympy.abc import t, C, V, T\n",
    "Q = sp.Symbol('Q', nonzero=True, positive=True)\n",
    "\n",
    "x = sp.Function('x')(t)\n",
    "\n",
    "xp = sp.diff(x, t)\n",
    "\n",
    "fx = - x * Q/V\n",
    "\n",
    "eq = sp.Eq(xp, fx)\n",
    "\n",
    "ics = {x.subs(t, 0): C}\n",
    "\n",
    "sol = sp.dsolve(eq, x, ics=ics)\n",
    "xt = sol.rhs\n",
    "show(xt)"
   ]
  },
  {
   "cell_type": "code",
   "execution_count": 3,
   "id": "771cd03d",
   "metadata": {
    "execution": {
     "iopub.execute_input": "2023-03-11T18:42:28.372700Z",
     "iopub.status.busy": "2023-03-11T18:42:28.372576Z",
     "iopub.status.idle": "2023-03-11T18:42:28.796680Z",
     "shell.execute_reply": "2023-03-11T18:42:28.796140Z"
    },
    "slideshow": {
     "slide_type": "subslide"
    }
   },
   "outputs": [
    {
     "data": {
      "text/plain": [
       "<matplotlib.legend.Legend at 0x7f1433f301c0>"
      ]
     },
     "execution_count": 3,
     "metadata": {},
     "output_type": "execute_result"
    },
    {
     "data": {
      "image/png": "[encoded data removed]",
      "text/plain": [
       "<Figure size 640x480 with 1 Axes>"
      ]
     },
     "metadata": {},
     "output_type": "display_data"
    }
   ],
   "source": [
    "# Comportament del model\n",
    "valors = {C: 1, V: 1000000, Q: 100000} # mg/l, l, l/min\n",
    "\n",
    "fxt = sp.lambdify(t, xt.subs(valors))\n",
    "\n",
    "temps = np.linspace(0, 60, 50)\n",
    "con = fxt(temps)\n",
    "l = plt.plot(temps, con)\n",
    "plt.legend([\"$x$\"])"
   ]
  },
  {
   "cell_type": "code",
   "execution_count": 4,
   "id": "c503205f",
   "metadata": {
    "execution": {
     "iopub.execute_input": "2023-03-11T18:42:28.798571Z",
     "iopub.status.busy": "2023-03-11T18:42:28.798428Z",
     "iopub.status.idle": "2023-03-11T18:42:29.175567Z",
     "shell.execute_reply": "2023-03-11T18:42:29.175104Z"
    }
   },
   "outputs": [],
   "source": [
    "valors = {C: 1, V: 1000000, Q: 100000}\n",
    "\n",
    "X = np.linspace(1, 4*60, 1000)\n",
    "Y=[]\n",
    "x0=0\n",
    "Cx0=0\n",
    "for x in X:\n",
    "    if x - x0 >= 60:\n",
    "        x0 += 60\n",
    "        Cx0 = xt.subs(valors).subs(t, 60).evalf()\n",
    "        valors = {C: 1 + Cx0 , V: 1000000, Q: 100000}\n",
    "        \n",
    "    Y.append(xt.subs(valors).subs(t, x-x0))\n",
    "\n",
    "#fig, ax = plt.subplots()\n",
    "#ax.plot(X, Y)\n",
    "#ax.semilogy(X, Y)\n",
    "#ax.legend(['$x(t)$'])\n",
    "#ax.set_xlabel('t')\n",
    "\n",
    "plt.show()"
   ]
  },
  {
   "cell_type": "markdown",
   "id": "4f518024",
   "metadata": {
    "slideshow": {
     "slide_type": "slide"
    }
   },
   "source": [
    "## Anàlisi crítica"
   ]
  },
  {
   "cell_type": "markdown",
   "id": "fe6ecf16",
   "metadata": {
    "slideshow": {
     "slide_type": "subslide"
    }
   },
   "source": []
  },
  {
   "cell_type": "markdown",
   "id": "60908244",
   "metadata": {
    "slideshow": {
     "slide_type": "slide"
    }
   },
   "source": [
    " "
   ]
  },
  {
   "cell_type": "markdown",
   "id": "93dbdc0f",
   "metadata": {
    "slideshow": {
     "slide_type": "skip"
    }
   },
   "source": [
    "# Referències\n",
    "\n",
    "- <a id='bib_Edwards'></a> Edwards, D., **2001**. *Guide to mathematical modelling*. Palgrave, Basingstoke.\n",
    "- <a id='img_Water_Tank'></a> https://commons.wikimedia.org/wiki/File:Pueblo_Chemical_Agent-Destruction_Pilot_Plant_Process_Water_Tank_(8400072584).jpg"
   ]
  },
  {
   "cell_type": "markdown",
   "id": "1bda6c05",
   "metadata": {
    "slideshow": {
     "slide_type": "skip"
    }
   },
   "source": [
    "Copyright (C) 2022 Gabriel Jover Mañas\n",
    "\n",
    "    Permission is granted to copy, distribute and/or modify this document\n",
    "    under the terms of the GNU Free Documentation License, Version 1.3\n",
    "    or any later version published by the Free Software Foundation;\n",
    "    with no Invariant Sections, no Front-Cover Texts, and no Back-Cover Texts.\n",
    "    A copy of the license is included in the section entitled \"GNU\n",
    "    Free Documentation License\".\n",
    "\n",
    "![GFDL][GFDL]\n",
    "\n",
    "    This program is free software: you can redistribute it and/or modify\n",
    "    it under the terms of the GNU General Public License as published by\n",
    "    the Free Software Foundation, either version 3 of the License, or\n",
    "    (at your option) any later version.\n",
    "\n",
    "    This program is distributed in the hope that it will be useful,\n",
    "    but WITHOUT ANY WARRANTY; without even the implied warranty of\n",
    "    MERCHANTABILITY or FITNESS FOR A PARTICULAR PURPOSE.  See the\n",
    "    GNU General Public License for more details.\n",
    "\n",
    "    You should have received a copy of the GNU General Public License\n",
    "    along with this program.  If not, see <https://www.gnu.org/licenses/>.\n",
    "\n",
    "![GPL3][GPL3]\n",
    "\n",
    "[GFDL]: static/gfdl-logo-small.png\n",
    "[GPL3]: static/gplv3-127x51.png"
   ]
  }
 ],
 "metadata": {
  "jupytext": {
   "formats": "ipynb,py:percent"
  },
  "kernelspec": {
   "display_name": "Python 3 (ipykernel)",
   "language": "python",
   "name": "python3"
  },
  "language_info": {
   "codemirror_mode": {
    "name": "ipython",
    "version": 3
   },
   "file_extension": ".py",
   "mimetype": "text/x-python",
   "name": "python",
   "nbconvert_exporter": "python",
   "pygments_lexer": "ipython3",
   "version": "3.9.16"
  }
 },
 "nbformat": 4,
 "nbformat_minor": 5
}
