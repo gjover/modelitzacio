{
 "cells": [
  {
   "cell_type": "code",
   "execution_count": 11,
   "id": "b65b9630",
   "metadata": {},
   "outputs": [],
   "source": [
    "import sys\n",
    "import numpy\n",
    "import scipy\n",
    "import sage\n",
    "import matplotlib\n",
    "import pandas\n",
    "import sympy\n",
    "import sklearn_pandas\n",
    "import bokeh\n",
    "import rise\n",
    "import jupytext"
   ]
  },
  {
   "cell_type": "code",
   "execution_count": 12,
   "id": "a7327d12",
   "metadata": {},
   "outputs": [
    {
     "name": "stdout",
     "output_type": "stream",
     "text": [
      "python 3.9.16 \n",
      "numpy 1.24.2\n",
      "scipy 1.10.0\n",
      "sage 9.4\n",
      "matplotlib 3.7.0\n",
      "pandas 1.5.3\n",
      "sympy 1.8\n",
      "sklearn_pandas 2.2.0\n",
      "bokeh 3.0.3\n",
      "rise 5.7.1\n",
      "jupytext 1.14.4\n"
     ]
    }
   ],
   "source": [
    "print(\"python\", sys.version.split(\"|\")[0])\n",
    "modules = [\"numpy\", \"scipy\", \"sage\", \"matplotlib\", \"pandas\", \"sympy\", \"sklearn_pandas\", \"bokeh\", \"rise\", \"jupytext\"]\n",
    "for module in modules:\n",
    "    print(module, globals()[module].__version__)"
   ]
  }
 ],
 "metadata": {
  "kernelspec": {
   "display_name": "Python 3 (ipykernel)",
   "language": "python",
   "name": "python3"
  },
  "language_info": {
   "codemirror_mode": {
    "name": "ipython",
    "version": 3
   },
   "file_extension": ".py",
   "mimetype": "text/x-python",
   "name": "python",
   "nbconvert_exporter": "python",
   "pygments_lexer": "ipython3",
   "version": "3.9.16"
  }
 },
 "nbformat": 4,
 "nbformat_minor": 5
}
