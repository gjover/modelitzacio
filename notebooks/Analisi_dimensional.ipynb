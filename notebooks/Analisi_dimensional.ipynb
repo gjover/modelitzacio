{
 "cells": [
  {
   "cell_type": "markdown",
   "id": "4e6f93e3",
   "metadata": {
    "hideCode": false,
    "hidePrompt": false,
    "slideshow": {
     "slide_type": "slide"
    }
   },
   "source": [
    "# Analisi dimensional"
   ]
  },
  {
   "cell_type": "markdown",
   "id": "6179116d",
   "metadata": {
    "hideCode": false,
    "hidePrompt": false,
    "slideshow": {
     "slide_type": "slide"
    }
   },
   "source": [
    "### Anàlisi dimensional\n",
    "- En sistema internacional defineix 7 unitats de mesura (s, m, kg, A, K, mol, cd)\n",
    "- La resta de magnituds físiques es poden expressar en termes d'aquestes unitats\n",
    "- Qualsevol magnitud la podem descompondre en les seves dimensions\n",
    "- Per simplicitat treballarem amb T, L i M"
   ]
  },
  {
   "cell_type": "markdown",
   "id": "67423198",
   "metadata": {
    "slideshow": {
     "slide_type": "notes"
    }
   },
   "source": [
    "- Podem repassar el canvi d'unitats\n",
    "- Recordem l'accident del mars climate orbiter a 1999"
   ]
  },
  {
   "cell_type": "markdown",
   "id": "28868dd3",
   "metadata": {
    "slideshow": {
     "slide_type": "subslide"
    }
   },
   "source": [
    "[àrea] = $L^2$\n",
    "\n",
    "[velocitat] = $L T^{-1}$\n",
    "\n",
    "[densitat] = $M L^{-3}$\n",
    "\n",
    "[angle] = $L L^{-1}$ = 1"
   ]
  },
  {
   "cell_type": "markdown",
   "id": "9b04876b",
   "metadata": {
    "slideshow": {
     "slide_type": "subslide"
    }
   },
   "source": [
    "- Qualsevol model que escriguem ha de ser consistent\n",
    "- Una avaluació bàsica de la seva consistència és l'anàlisi dimensional\n",
    "- Les dimensions dels membres de l'equació han de ser iguals\n",
    "- Les dimensions dels factors d'una suma han de ser iguals\n",
    "- Les variables de les funcions trascendents han de ser adimensionals"
   ]
  },
  {
   "cell_type": "markdown",
   "id": "e1042fb6",
   "metadata": {
    "slideshow": {
     "slide_type": "slide"
    }
   },
   "source": [
    "### Exemple: Atracció de la terra\n",
    "- Newton va descriure que l'atracció de dos cossos celestials és proporcional a les seves masses\n",
    "    i inversament proporcional al quadrat de la seva distància\n",
    "$$F \\propto \\frac{M_1 M_2}{r^2}$$\n",
    "\n",
    "$[F] = [MLT^{-2}]$\n",
    "\n",
    "$\\left[ \\frac{M_1 M_2}{r^2}  \\right] = [M^2 L^{-2}]$"
   ]
  },
  {
   "cell_type": "markdown",
   "id": "b3977547",
   "metadata": {
    "slideshow": {
     "slide_type": "subslide"
    }
   },
   "source": [
    "- L'expressió de la llei de gravitació universal és\n",
    "$$F = G \\frac{M_1 M_2}{r^2}$$\n",
    "\n",
    "$[F] = [MLT^{-2}] = [G] \\left[ \\frac{M_1 M_2}{r^2}  \\right] = [G][M^2 L^{-2}]$\n",
    "\n",
    "$[G] = [M^{-1} L^3 T^{-2} ]$"
   ]
  },
  {
   "cell_type": "markdown",
   "id": "556dc388",
   "metadata": {
    "slideshow": {
     "slide_type": "slide"
    }
   },
   "source": [
    "### Exemple: oscil·lació del pèndol\n",
    "- L'oscil·lació d'un pèndol es pot expressar com:\n",
    "\n",
    "$$\\frac{d\\theta}{dt} = \\omega B cos(\\omega t)$$\n",
    "\n",
    "- On $t$ es el temps i $\\theta$ es l'angle"
   ]
  },
  {
   "cell_type": "markdown",
   "id": "ac81b8f5",
   "metadata": {
    "slideshow": {
     "slide_type": "subslide"
    }
   },
   "source": [
    "- Si fem l'anàlisi dimensional de l'expressió obtindrem\n",
    "$$\n",
    "\\begin{align}\n",
    "\\left[\\frac{d\\theta}{dt}\\right] = [T^{-1}] \\qquad [\\omega t] & = 1 \\qquad & [\\omega B] & = [T^{-1}] \\\\\n",
    "[\\omega] & = [T^{-1}] \\qquad & [B] & = 1 \\\\\n",
    "\\end{align}\n",
    "$$"
   ]
  },
  {
   "cell_type": "markdown",
   "id": "fa88c984",
   "metadata": {
    "slideshow": {
     "slide_type": "slide"
    }
   },
   "source": [
    "- Sovint, l'anàlisi dimensional ens pot servir per corregir o descartar una formulació\n",
    "- També ens pot servir per identificar les relacions entre paràmetres"
   ]
  },
  {
   "cell_type": "markdown",
   "id": "1dee5cff",
   "metadata": {
    "slideshow": {
     "slide_type": "subslide"
    }
   },
   "source": [
    "- Considerem el pèndol i cerquem el seu període $p$\n",
    "- Identifiquem que la seva oscil·lació depèn de la llargària del pèndol $l$, la seva massa $m$ i la força de la gravetat $g$\n",
    "\n",
    "$$[p] = [T] = [l^a m^b g^c] = [L^a M^b (L T^{-2})^c]$$"
   ]
  },
  {
   "cell_type": "markdown",
   "id": "f97cfa8e",
   "metadata": {
    "slideshow": {
     "slide_type": "subslide"
    }
   },
   "source": [
    "$$\n",
    "\\begin{align}\n",
    "T&: &-2c & = 1 \\\\\n",
    "L&: &a + c & = 0 \\\\\n",
    "M&: &b & = 0 \\\\\n",
    "\\end{align}\n",
    "$$\n",
    "\n",
    "$$[p] = [l^{1/2} g^{-1/2}] $$\n",
    "\n",
    "- Obtenint que $p \\propto \\sqrt{l/g}$"
   ]
  },
  {
   "cell_type": "markdown",
   "id": "1e1a4673",
   "metadata": {
    "slideshow": {
     "slide_type": "subslide"
    }
   },
   "source": [
    "- Podem millorar el nostre model afegint el fregament de l'aire $R$ i l'angle $\\theta$\n",
    "\n",
    "$$[p] = [T] = [l^a m^b g^c R^d \\theta^e] = [L^a M^b (LT^{-2})^c (M L T^{-2})^d 1^e]$$"
   ]
  },
  {
   "cell_type": "markdown",
   "id": "0f61de61",
   "metadata": {
    "slideshow": {
     "slide_type": "subslide"
    }
   },
   "source": [
    "$$\n",
    "\\begin{align}\n",
    "T&: &-2c -2d & = 1 \\\\\n",
    "L&: &a + c + d& = 0 \\\\\n",
    "M&: &b + d & = 0 \\\\\n",
    "\\end{align}\n",
    "$$\n",
    "\n",
    "- $e$ pot tindre qualsevol valor\n",
    "- Ens sobra un grau de llibertat que ens permet expressar la relació en funció de $d$"
   ]
  },
  {
   "cell_type": "markdown",
   "id": "bb2a8d65",
   "metadata": {
    "slideshow": {
     "slide_type": "subslide"
    }
   },
   "source": [
    "$$\n",
    "\\begin{align}\n",
    "b & = -d \\\\\n",
    "c & = -d - 1/2 \\\\\n",
    "a & = 1/2 \\\\\n",
    "\\end{align}\n",
    "$$\n",
    "\n",
    "$$[p] = [l^{1/2} m^{-d} g^{-1/2 - d} R^d \\theta^e]$$\n",
    "\n",
    "- Obtenint que $p \\propto \\sqrt{l/g} \\cdot f\\left(\\frac{R}{mg}, \\theta \\right)$"
   ]
  },
  {
   "cell_type": "markdown",
   "id": "ad2917da",
   "metadata": {
    "slideshow": {
     "slide_type": "subslide"
    }
   },
   "source": [
    "- Si expressem la solució en funció de $c$\n",
    "$$\n",
    "\\begin{align}\n",
    "d & = -c - 1/2 \\\\\n",
    "b & = c + 1/2 \\\\\n",
    "a & = 1/2 \\\\\n",
    "\\end{align}\n",
    "$$\n",
    "\n",
    "$$[p] = [l^{1/2} m^{1/2 + c} g^{c} R^{-1/2 -c} \\theta^e]$$\n",
    "\n",
    "- Obtenint que $p \\propto \\sqrt{ml/R} \\cdot f\\left(\\frac{R}{mg}, \\theta \\right)$"
   ]
  },
  {
   "cell_type": "markdown",
   "id": "e07e9c25",
   "metadata": {
    "slideshow": {
     "slide_type": "subslide"
    }
   },
   "source": [
    "- Podem interpretar que el període d'oscil·lació té un factor que depèn de la gravetat $\\sqrt{l/g}$\n",
    "- Té un factor d'esmorteïment que depèn de R $\\sqrt{ml/R}$\n",
    "- I altres factors adimensionals com $\\theta$ i $\\frac{R}{mg}$"
   ]
  },
  {
   "cell_type": "markdown",
   "id": "0fd2d18d",
   "metadata": {
    "hideCode": false,
    "hidePrompt": false,
    "slideshow": {
     "slide_type": "skip"
    }
   },
   "source": [
    "# Bibliografia\n",
    "\n",
    "- <a id='bib_Edwards'></a> Edwards, D., **2001**. *Guide to mathematical modelling*. Palgrave, Basingstoke.\n",
    "- <a id='bib_'></a> Dym, Clive L., **2004**. Principles of mathematical modeling. Elsevier Academic Press.\n"
   ]
  },
  {
   "cell_type": "markdown",
   "id": "b9d62c82",
   "metadata": {
    "hideCode": false,
    "hidePrompt": false,
    "slideshow": {
     "slide_type": "skip"
    }
   },
   "source": [
    "Copyright (C) 2022 Gabriel Jover Mañas\n",
    "\n",
    "    Permission is granted to copy, distribute and/or modify this document\n",
    "    under the terms of the GNU Free Documentation License, Version 1.3\n",
    "    or any later version published by the Free Software Foundation;\n",
    "    with no Invariant Sections, no Front-Cover Texts, and no Back-Cover Texts.\n",
    "    A copy of the license is included in the section entitled \"GNU\n",
    "    Free Documentation License\".\n",
    "\n",
    "![GFDL][GFDL]\n",
    "\n",
    "    This program is free software: you can redistribute it and/or modify\n",
    "    it under the terms of the GNU General Public License as published by\n",
    "    the Free Software Foundation, either version 3 of the License, or\n",
    "    (at your option) any later version.\n",
    "\n",
    "    This program is distributed in the hope that it will be useful,\n",
    "    but WITHOUT ANY WARRANTY; without even the implied warranty of\n",
    "    MERCHANTABILITY or FITNESS FOR A PARTICULAR PURPOSE.  See the\n",
    "    GNU General Public License for more details.\n",
    "\n",
    "    You should have received a copy of the GNU General Public License\n",
    "    along with this program.  If not, see <https://www.gnu.org/licenses/>.\n",
    "\n",
    "![GPL3][GPL3]\n",
    "\n",
    "[GFDL]: https://www.gnu.org/graphics/gfdl-logo.svg\n",
    "[GPL3]: https://www.gnu.org/graphics/gplv3-or-later.svg"
   ]
  }
 ],
 "metadata": {
  "jupytext": {
   "formats": "auto:percent,ipynb"
  },
  "kernelspec": {
   "display_name": "Python 3 (ipykernel)",
   "language": "python",
   "name": "python3"
  },
  "language_info": {
   "codemirror_mode": {
    "name": "ipython",
    "version": 3
   },
   "file_extension": ".py",
   "mimetype": "text/x-python",
   "name": "python",
   "nbconvert_exporter": "python",
   "pygments_lexer": "ipython3",
   "version": "3.11.7"
  }
 },
 "nbformat": 4,
 "nbformat_minor": 5
}
