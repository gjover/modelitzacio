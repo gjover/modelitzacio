{
 "cells": [
  {
   "cell_type": "markdown",
   "id": "a47e3ba1",
   "metadata": {
    "slideshow": {
     "slide_type": "slide"
    }
   },
   "source": [
    "# Modelització\n",
    "## Recol·lecció i anàlisis de dades"
   ]
  },
  {
   "cell_type": "markdown",
   "id": "81b40523",
   "metadata": {
    "slideshow": {
     "slide_type": "subslide"
    }
   },
   "source": [
    "- **Experimentació**\n",
    "- **Errors i incerteses**\n",
    "- **Nivell de confiança**"
   ]
  },
  {
   "cell_type": "markdown",
   "id": "ec5534b3",
   "metadata": {
    "slideshow": {
     "slide_type": "notes"
    }
   },
   "source": [
    "- Un cop hem resolt el nostre model hem de contrastar-lo amb la realitat\n",
    "- L'anàlisi del model ens ha de servir per identificar quines són les dades rellevants\n",
    "- Les dades provenen de mesures de magnituds físiques, enquestes o altres anàlisis"
   ]
  },
  {
   "cell_type": "code",
   "execution_count": 1,
   "id": "7ee9713f",
   "metadata": {
    "slideshow": {
     "slide_type": "skip"
    }
   },
   "outputs": [],
   "source": [
    "import numpy as np\n",
    "from scipy import optimize\n",
    "import pandas as pd\n",
    "import matplotlib.pyplot as plt"
   ]
  },
  {
   "cell_type": "markdown",
   "id": "8bce80dd",
   "metadata": {
    "slideshow": {
     "slide_type": "slide"
    }
   },
   "source": [
    "## Experimentació\n",
    "- Les dades experimentals poden ser útils a diferents etapes del cicle de modelització\n",
    "- Són necessàries per refutar el nostre model, calibrar-lo i verificar-lo"
   ]
  },
  {
   "cell_type": "markdown",
   "id": "8f53a61e",
   "metadata": {
    "slideshow": {
     "slide_type": "subslide"
    }
   },
   "source": [
    "### Mètode científic\n",
    "- Observació d'un fenomen\n",
    "- Formulació d'una hipòtesi\n",
    "- Disseny d'un experiment\n",
    "- Refutació de la hipòtesi\n",
    "- Formulació de la llei"
   ]
  },
  {
   "cell_type": "markdown",
   "id": "a9090710",
   "metadata": {
    "slideshow": {
     "slide_type": "subslide"
    }
   },
   "source": [
    "### L'experiment\n",
    "- Disseny\n",
    "    - Estudiar que, com i quantes mesures necessitem per obtenir certa precisió\n",
    "- Execució\n",
    "    - Construcció, calibrat i mesura\n",
    "- Anàlisi de dades\n",
    "    - Obtenció de la mesura i estimació de la incertesa (amb cert nivell de confiança)    "
   ]
  },
  {
   "cell_type": "markdown",
   "id": "6fac26f8",
   "metadata": {
    "slideshow": {
     "slide_type": "subslide"
    }
   },
   "source": [
    "**Resolució**: Diferencia entre dos punts distingibles d'un sistema de mesura\n",
    "\n",
    "**Precisió**: Correspondència amb exactitud del resultat de la mesura amb el seu valor real. \n",
    "\n",
    "**Error**: Distribució aleatòria dels punts mesurats al voltant del valor de la mesura"
   ]
  },
  {
   "cell_type": "markdown",
   "id": "b535196d",
   "metadata": {
    "slideshow": {
     "slide_type": "slide"
    }
   },
   "source": [
    "## Errors i incerteses\n",
    "- Els mètodes de mesura són imperfectes\n",
    "- Sempre hi ha soroll o altres factors desconeguts que limiten la resolució de la mesura\n",
    "- Les incerteses de les mesures limitaran la precisió del nostre model\n",
    "- A partir de les incerteses de les mesures directes avaluarem la incertesa de la mesura indirecta"
   ]
  },
  {
   "cell_type": "markdown",
   "id": "e180e7ad",
   "metadata": {
    "slideshow": {
     "slide_type": "notes"
    }
   },
   "source": [
    "- Tindrem diferents fonts d'incerteses\n",
    "    - Els valors de les mesures tindran errors\n",
    "    - Els paràmetres del model també tindran errors\n",
    "    - Els càlculs tindran certa resolució numèrica"
   ]
  },
  {
   "cell_type": "code",
   "execution_count": 2,
   "id": "0d9221a1",
   "metadata": {
    "slideshow": {
     "slide_type": "skip"
    }
   },
   "outputs": [],
   "source": [
    "data = pd.read_csv(\"../data/err.csv\")[4:10]\n",
    "\n",
    "x = data['x'].to_numpy()\n",
    "y = data['y'].to_numpy()\n",
    "yerr = data['yerr'].to_numpy()\n",
    "\n",
    "line = lambda x, *p: p[0] + p[1] * x\n",
    "pline, covline = optimize.curve_fit(line, x, y, [0, -1], sigma=yerr)\n",
    "\n",
    "log = lambda x, *p: p[0] + p[1] * np.log(x)\n",
    "plog, covlog = optimize.curve_fit(log, x, y, [0, 1], sigma=yerr)"
   ]
  },
  {
   "cell_type": "code",
   "execution_count": 3,
   "id": "5d9a7228",
   "metadata": {
    "scrolled": true,
    "slideshow": {
     "slide_type": "subslide"
    }
   },
   "outputs": [
    {
     "data": {
      "image/png": "[encoded data removed]",
      "text/plain": [
       "<Figure size 432x288 with 1 Axes>"
      ]
     },
     "metadata": {
      "needs_background": "light"
     },
     "output_type": "display_data"
    }
   ],
   "source": [
    "data.plot(kind='scatter', x='x', y='y', yerr='yerr')\n",
    "l = plt.plot(x, line(x, *pline), x, log(x, *plog))"
   ]
  },
  {
   "cell_type": "markdown",
   "id": "0bc01b35",
   "metadata": {
    "slideshow": {
     "slide_type": "subslide"
    }
   },
   "source": [
    "### Errors\n",
    "- En qualsevol mesura podem tindre factors desconeguts que faran que el valor mesurat sigui diferent del valor real\n",
    "\n",
    "$$X_i = X_{real\\,i} + \\delta_{1i} + \\delta_{2i} + \\delta_{3i}$$\n"
   ]
  },
  {
   "cell_type": "markdown",
   "id": "87ca8309",
   "metadata": {
    "slideshow": {
     "slide_type": "subslide"
    }
   },
   "source": [
    "- Per evitar confusions anomenaré:\n",
    "    - errors: Valor desconeguts que pertorben la mesura del valor real ($\\delta \\, \\beta \\, \\epsilon$)\n",
    "    - incerteses: Estimació dels errors d'una mesura (u, b, s)"
   ]
  },
  {
   "cell_type": "markdown",
   "id": "c9d493ba",
   "metadata": {
    "slideshow": {
     "slide_type": "notes"
    }
   },
   "source": [
    "- Exemples amb diferents elements de mesura"
   ]
  },
  {
   "cell_type": "markdown",
   "id": "fefbdf0d",
   "metadata": {
    "slideshow": {
     "slide_type": "subslide"
    }
   },
   "source": [
    "- El valor mesurat el representarem\n",
    "\n",
    "$$ X = X_{mesurat} \\pm u_x$$\n",
    "\n",
    "- $u_x$ és el rang d'incertesa dins del que estimem que es troben els errors estadístics i sistemàtics"
   ]
  },
  {
   "cell_type": "markdown",
   "id": "1069ff29",
   "metadata": {
    "slideshow": {
     "slide_type": "subslide"
    }
   },
   "source": [
    "- **Error estadístic**: Aquell que varia durant el procés de mesura\n",
    "\n",
    "- De N mesures podem obtenir:\n",
    "\n",
    "$$\n",
    "\\begin{align}\n",
    "\\bar{X} & = \\frac{1}{N}\\sum_{i=1}^N X_i \\\\\n",
    "s_X & = \\left[ \\frac{1}{N-1}\\sum_{i=0}^N \\left(X_i - \\bar{X} \\right)^2 \\right]^{1/2}\n",
    "\\end{align}\n",
    "$$"
   ]
  },
  {
   "cell_type": "markdown",
   "id": "c0c4f195",
   "metadata": {
    "slideshow": {
     "slide_type": "subslide"
    }
   },
   "source": [
    "- **Error sistemàtic**: aquell que no varia durant el procés de mesura\n",
    "    - Donada una configuració del sistema de mesura, l'error no varia."
   ]
  },
  {
   "cell_type": "code",
   "execution_count": 4,
   "id": "da4b3465",
   "metadata": {
    "hideCode": true,
    "scrolled": true,
    "slideshow": {
     "slide_type": "subslide"
    }
   },
   "outputs": [
    {
     "data": {
      "image/png": "[encoded data removed]",
      "text/plain": [
       "<Figure size 432x288 with 1 Axes>"
      ]
     },
     "metadata": {
      "needs_background": "light"
     },
     "output_type": "display_data"
    }
   ],
   "source": [
    "x = np.random.normal(np.zeros(100000) + 1.6)\n",
    "plt.hist(x, bins=40)\n",
    "l = plt.plot([2, 2], [0, 10000], [0.6, 2.6], [5000, 5000], \"r\")"
   ]
  },
  {
   "cell_type": "markdown",
   "id": "e91a5f0c",
   "metadata": {
    "slideshow": {
     "slide_type": "subslide"
    }
   },
   "source": [
    "- La incertesa estadística la podem avaluar a partir desviació estàndard de la mesura\n",
    "- La incertesa sistemàtica és més complexa d'estimar:\n",
    "    - Es pot estimar al procés de calibració\n",
    "    - Combinant diferents sistemes de mesura\n",
    "    - Analitzant el comportament del sistema de mesura"
   ]
  },
  {
   "cell_type": "markdown",
   "id": "5a471ae9",
   "metadata": {
    "slideshow": {
     "slide_type": "notes"
    }
   },
   "source": [
    "- Exemple d'estimació d'incerteses sistemàtiques:\n",
    "    - calibració d'un termoparell\n",
    "    - estudi de la corba de vàries mesures"
   ]
  },
  {
   "cell_type": "markdown",
   "id": "d811fcf0",
   "metadata": {
    "slideshow": {
     "slide_type": "subslide"
    }
   },
   "source": [
    "- A banda de les incerteses del sistema de mesura en podem trobar d'altres:\n",
    "    - Mesures temporals\n",
    "        - El procés de mesura requereix un temps on el sistema pot fluctuar\n",
    "    - Mesures mostra a mostra\n",
    "        - Les mostres mesurades no són idèntiques i la variabilitat de les mostres introdueixen una incertesa en la caracterització del conjunt\n",
    "    - Mesures efímeres\n",
    "        - Són experiments que es poden fer un sol cop o cada experiment no es pot reproduir en les mateixes condicions"
   ]
  },
  {
   "cell_type": "markdown",
   "id": "281ee2ab",
   "metadata": {
    "slideshow": {
     "slide_type": "subslide"
    }
   },
   "source": [
    "### Propagació d'errors\n",
    "- Per mesurar alguns paràmetres ho farem de manera indirecta\n",
    "- Combinarem la mesura de diferents mesures directes\n",
    "- A la mesura combinada li asignarem una incertesa estàndard combinada $u_c$"
   ]
  },
  {
   "cell_type": "markdown",
   "id": "3c890ef8",
   "metadata": {},
   "source": [
    "- A partir de mesures directes de variables $x_i$\n",
    "- podem mesurar indirectament una altra variable mitjançant una funció de reducció de dades \n",
    "$$r = r(x_i)$$"
   ]
  },
  {
   "cell_type": "markdown",
   "id": "b27ba636",
   "metadata": {
    "slideshow": {
     "slide_type": "notes"
    }
   },
   "source": [
    "- Exemple de mesures de superfície o la densitat d'un gas $\\rho = P/RT$"
   ]
  },
  {
   "cell_type": "markdown",
   "id": "511d4906",
   "metadata": {
    "slideshow": {
     "slide_type": "subslide"
    }
   },
   "source": [
    "- Podem optar per dues estratègies\n",
    "    - Mètode de Monte Carlo\n",
    "    - Mètode de sèries de Taylor"
   ]
  },
  {
   "cell_type": "markdown",
   "id": "4e7d5297",
   "metadata": {
    "slideshow": {
     "slide_type": "subslide"
    }
   },
   "source": [
    "#### Monte Carlo:\n",
    "    - Assignem distribucions a cada incertesa (sistemàtica o estadística)\n",
    "    - Calculem $r$ assignant valors aleatoris amb les distribucions assignades\n",
    "    - Extraem $u_c$ de les distribucions de valors obtinguts\n",
    "    $$X_i = X_{real\\,i} + \\epsilon_{Xi} + \\beta_{1i} + \\beta_{2i}$$"
   ]
  },
  {
   "cell_type": "code",
   "execution_count": 5,
   "id": "be33dcef",
   "metadata": {
    "hideCode": true,
    "scrolled": true,
    "slideshow": {
     "slide_type": "subslide"
    }
   },
   "outputs": [
    {
     "data": {
      "image/png": "[encoded data removed]",
      "text/plain": [
       "<Figure size 432x288 with 1 Axes>"
      ]
     },
     "metadata": {
      "needs_background": "light"
     },
     "output_type": "display_data"
    }
   ],
   "source": [
    "x = np.random.normal(np.zeros(100000) + 1.6)\n",
    "l = plt.hist(x, bins=40)"
   ]
  },
  {
   "cell_type": "markdown",
   "id": "d483b04e",
   "metadata": {
    "slideshow": {
     "slide_type": "slide"
    }
   },
   "source": [
    "#### Sèries de Taylor\n",
    "- Sigui:\n",
    "    - $r = r(x, y)$ una funció continua amb derivades contínues en el domini d'interès\n",
    "    - $(x_k, y_k)$ el set de mesures $k$ per determinar $r_k$\n",
    "    - $\\beta_{xk}$ i $\\epsilon_{xk}$ els errors sistemàtics i estadístics de la mesura $k$ de $x$\n",
    "    - $x_{real}$ i $y_{real}$ són els valors reals desconeguts\n",
    "    \n",
    "$$\n",
    "\\begin{align}\n",
    "x_k & = x_{real} + \\beta_{xk} + \\epsilon_{xk} \\\\\n",
    "y_k & = y_{real} + \\beta_{yk} + \\epsilon_{yk}\n",
    "\\end{align}\n",
    "$$"
   ]
  },
  {
   "cell_type": "markdown",
   "id": "cca65c6c",
   "metadata": {
    "slideshow": {
     "slide_type": "subslide"
    }
   },
   "source": [
    "- Expandint $r$ en series de Taylor obtenim:\n",
    "$$r_k = r_{real} + \\frac{\\partial r}{\\partial x}(x_k - x_{real}) \n",
    "        + \\frac{\\partial r}{\\partial y}(y_k - y_{real})\n",
    "        + R_2$$\n",
    "        \n",
    "- Com $(x_{real}, y_{real})$ són desconegudes les aproximem avaluant-les a $(x_k, y_k)$\n",
    "- Sent $R_2$ la resta de termes de derivades segones i superiors"
   ]
  },
  {
   "cell_type": "markdown",
   "id": "2591e755",
   "metadata": {
    "slideshow": {
     "slide_type": "subslide"
    }
   },
   "source": [
    "$R_2 = \\frac{1}{!2} \\left[\n",
    "        \\frac{\\partial^2 r}{\\partial x^2}(x_k - x_{real})^2 \n",
    "        + 2\\frac{\\partial^2 r}{\\partial x \\partial y}(x_k - x_{real})(y_k - y_{real})\n",
    "        + \\frac{\\partial^2 r}{\\partial y^2}(y_k - y_{real})^2 \n",
    "        \\right]$\n",
    "- Aquest terme serà negligible si:\n",
    "    - les derivades avaluades entre $(x_{real}, y_{real})$ i $(x_k, y_k)$ són d'una magnitud raonable\n",
    "    - els errors de $x$ i $y$ són petits"
   ]
  },
  {
   "cell_type": "markdown",
   "id": "afb4e4f7",
   "metadata": {
    "slideshow": {
     "slide_type": "subslide"
    }
   },
   "source": [
    "- Sigui:\n",
    "    - $\\delta_{r_k}$ l'error total de $r$ a la mesura $k$\n",
    "    - $\\theta_x = \\frac{\\partial r}{\\partial x}$ i $\\theta_y = \n",
    "      \\frac{\\partial r}{\\partial y}$\n",
    "\n",
    "$$\\delta_{r_k} = \\theta_x (\\beta_{xk} + \\epsilon_{xk})\n",
    "               + \\theta_y (\\beta_{yk} + \\epsilon_{yk})$$\n"
   ]
  },
  {
   "cell_type": "markdown",
   "id": "5b451e5d",
   "metadata": {
    "slideshow": {
     "slide_type": "subslide"
    }
   },
   "source": [
    "- Del conjunt de mesures obtindrem:\n",
    "\n",
    "$$\n",
    "\\begin{align}\n",
    "\\sigma_{\\delta_r} & = \\lim(N \\rightarrow \\infty) \n",
    "                    \\left[ \\frac{1}{N} \\sum^N_{k=1}(\\delta_{r_k})^2\\right] \\\\\n",
    "                  & = \\theta_x^2 \\sigma_{\\beta_x}^2\n",
    "                    + 2\\theta_x \\theta_y \\sigma_{\\beta_x \\beta_y}\n",
    "                    + \\theta_y^2 \\sigma_{\\beta_y}^2\n",
    "                    + \\theta_x^2 \\sigma_{\\epsilon_x}^2\n",
    "                    + 2\\theta_x \\theta_y \\sigma_{\\epsilon_x \\epsilon_y}\n",
    "                    + \\theta_y^2 \\sigma_{\\epsilon_y}^2\n",
    "\\end{align}\n",
    "$$\n",
    "                    \n",
    "*(Assumint que no hi ha correlacions entre error sistemàtics i estadístics)*"
   ]
  },
  {
   "cell_type": "markdown",
   "id": "6c685c2e",
   "metadata": {
    "slideshow": {
     "slide_type": "subslide"
    }
   },
   "source": [
    "- Sigui:\n",
    "    - $u_c^2$ l'estimació de la variància de la distribució d'errors totals\n",
    "    - $b^2$ l'estimació de la variància de la distribució d'errors sistemàtics\n",
    "    - $s^2$ l'estimació de la variància de la distribució d'errors estadístics\n",
    "    - $b_{xy}$ l'estimació de la covariància de la distribució d'errors sistemàtics\n",
    "    - $s_{xy}$ l'estimació de la covariància de la distribució d'errors estadístics\n",
    "    \n",
    "$$ u_c^2 = \\theta_x^2 b_x^2 + 2\\theta_x \\theta_y b_{xy} + \\theta_y^2 b_y^2\n",
    "       + \\theta_x^2 s_x^2 + 2\\theta_x \\theta_y s_{xy} + \\theta_y^2 s_y^2$$"
   ]
  },
  {
   "cell_type": "markdown",
   "id": "d3747c36",
   "metadata": {
    "slideshow": {
     "slide_type": "subslide"
    }
   },
   "source": [
    "- Per al cas general per $r = r(x_i)$\n",
    "    \n",
    "$$ u_c^2 = \\sum_{i=1}^J \\theta_i^2 b_i^2\n",
    "       + \\sum_{i=1}^{J-1}\\sum_{k=i+1}^J 2\\theta_i \\theta_i b_{ik}\n",
    "       + \\sum_{i=1}^J \\theta_i^2 s_i^2\n",
    "       + \\sum_{i=1}^{J-1}\\sum_{k=i+1}^J 2\\theta_i \\theta_k s_{ik}$$"
   ]
  },
  {
   "cell_type": "markdown",
   "id": "8dd06232",
   "metadata": {
    "slideshow": {
     "slide_type": "subslide"
    }
   },
   "source": [
    "$$\n",
    "\\begin{align}\n",
    "b_r^2 & = \\sum_{i=1}^J \\theta_i^2 b_i^2\n",
    "       + \\sum_{i=1}^{J-1}\\sum_{k=i+1}^J 2\\theta_i \\theta_i b_{ik} \\\\\n",
    "s_r^2 & = \\sum_{i=1}^J \\theta_i^2 s_i^2\n",
    "       + \\sum_{i=1}^{J-1}\\sum_{k=i+1}^J 2\\theta_i \\theta_k s_{ik} \\\\  \n",
    "       \\\\\n",
    "u_r^2 & = (b_r^2 + s_r^2) \\\\\n",
    "\\end{align}\n",
    "$$"
   ]
  },
  {
   "cell_type": "markdown",
   "id": "2ba704de",
   "metadata": {
    "slideshow": {
     "slide_type": "slide"
    }
   },
   "source": [
    "## Nivell de confiança\n",
    "- Alguns models necessiten un resultat amb cert nivell de confiança\n",
    "- El valor real ha d'estar dins de la incertesa amb cert nivell de confiança\n",
    "- Ens cal estimar la distribució d’incertesa combinada"
   ]
  },
  {
   "cell_type": "markdown",
   "id": "caca3949",
   "metadata": {
    "slideshow": {
     "slide_type": "subslide"
    }
   },
   "source": [
    "- El mètode de Monte Carlo ens pot donar la distribució $u_r$\n",
    "    - Podem definir l'interval de cobertura on trobarem cert percentatge de nivell de confiança"
   ]
  },
  {
   "cell_type": "markdown",
   "id": "13180bce",
   "metadata": {
    "slideshow": {
     "slide_type": "subslide"
    }
   },
   "source": [
    "- Amb el mètode de sèries de Taylor hem d'assumir una distribució de la incertesa combinada\n",
    "- Si tenim suficients dades podem assumir una distribució normal de $r$\n",
    "- Fent servir t-test podem obtenir la incertesa $U_r$ com:\n",
    "$$U_r^2 = t^2 u_c^2 $$"
   ]
  },
  {
   "cell_type": "markdown",
   "id": "5c91454d",
   "metadata": {
    "slideshow": {
     "slide_type": "subslide"
    }
   },
   "source": [
    "- Al cas pràctic general, a partir de $N>9$, podem considerar $t=2$ per un $95\\%$ C.L. "
   ]
  },
  {
   "cell_type": "markdown",
   "id": "b0ad566c",
   "metadata": {
    "slideshow": {
     "slide_type": "fragment"
    }
   },
   "source": [
    "- En cas contrari, podem valorar els graus de llibertat $\\nu_r$ a partir de l'aproximació de Welch–Satterthwaite\n",
    "    - estimant els graus de llibertat $\\nu_{s_i}$ i $\\nu_{b_i}$\n",
    "$$\n",
    "\\begin{align}\n",
    "\\nu_{s_i} & = N_i -1 \\\\\n",
    "\\nu_{b_i} & \\approx \\frac{1}{2} \\left( \\frac{\\Delta b_i}{b_i} \\right)^{-2}\n",
    "\\end{align}\n",
    "$$"
   ]
  },
  {
   "cell_type": "markdown",
   "id": "2f7c2e80",
   "metadata": {
    "slideshow": {
     "slide_type": "subslide"
    }
   },
   "source": [
    "- Amb l'assumpció de mostres grans:\n",
    "$$\n",
    "\\begin{align}\n",
    "U_r^2 & = t^2 u_c^2 \\\\\n",
    "      & = 2^2 (b_r^2 + s_r^2) \\\\\n",
    "\\end{align}\n",
    "$$\n"
   ]
  },
  {
   "cell_type": "markdown",
   "id": "09da97bf",
   "metadata": {
    "slideshow": {
     "slide_type": "subslide"
    }
   },
   "source": [
    "- En el cas que les covariàncies siguin zero, podem simplificar a:\n",
    "$$U_r^2 = \\sum_{i=1}^J \\theta_i^2 U_i^2$$"
   ]
  },
  {
   "cell_type": "markdown",
   "id": "6fd0aa1a",
   "metadata": {
    "slideshow": {
     "slide_type": "slide"
    }
   },
   "source": [
    " "
   ]
  },
  {
   "cell_type": "markdown",
   "id": "349fab8b",
   "metadata": {
    "slideshow": {
     "slide_type": "skip"
    }
   },
   "source": [
    "# Bibliografia\n",
    "\n",
    "- <a id='bib_Edwards'></a> Edwards, D., **2001**. *Guide to mathematical modelling*. Palgrave, Basingstoke.\n",
    "- <a id='bib_Coleman'></a> Coleman, Hugh W. & Steele, W. Glenn, **2018**. *Experimentation, validation, and uncertainty analysis for engineers*. Wiley."
   ]
  },
  {
   "cell_type": "markdown",
   "id": "d3fd205b",
   "metadata": {
    "slideshow": {
     "slide_type": "skip"
    }
   },
   "source": [
    "Copyright (C) 2022 Gabriel Jover Mañas\n",
    "\n",
    "    Permission is granted to copy, distribute and/or modify this document\n",
    "    under the terms of the GNU Free Documentation License, Version 1.3\n",
    "    or any later version published by the Free Software Foundation;\n",
    "    with no Invariant Sections, no Front-Cover Texts, and no Back-Cover Texts.\n",
    "    A copy of the license is included in the section entitled \"GNU\n",
    "    Free Documentation License\".\n",
    "\n",
    "![GFDL][GFDL]\n",
    "\n",
    "    This program is free software: you can redistribute it and/or modify\n",
    "    it under the terms of the GNU General Public License as published by\n",
    "    the Free Software Foundation, either version 3 of the License, or\n",
    "    (at your option) any later version.\n",
    "\n",
    "    This program is distributed in the hope that it will be useful,\n",
    "    but WITHOUT ANY WARRANTY; without even the implied warranty of\n",
    "    MERCHANTABILITY or FITNESS FOR A PARTICULAR PURPOSE.  See the\n",
    "    GNU General Public License for more details.\n",
    "\n",
    "    You should have received a copy of the GNU General Public License\n",
    "    along with this program.  If not, see <https://www.gnu.org/licenses/>.\n",
    "\n",
    "![GPL3][GPL3]\n",
    "\n",
    "[GFDL]: https://www.gnu.org/graphics/gfdl-logo.svg\n",
    "[GPL3]: https://www.gnu.org/graphics/gplv3-or-later.svg"
   ]
  }
 ],
 "metadata": {
  "celltoolbar": "Slideshow",
  "kernelspec": {
   "display_name": "Python 3 (ipykernel)",
   "language": "python",
   "name": "python3"
  },
  "language_info": {
   "codemirror_mode": {
    "name": "ipython",
    "version": 3
   },
   "file_extension": ".py",
   "mimetype": "text/x-python",
   "name": "python",
   "nbconvert_exporter": "python",
   "pygments_lexer": "ipython3",
   "version": "3.10.2"
  },
  "livereveal": {
   "autolaunch": true
  },
  "rise": {
   "autolaunch": true,
   "scroll": true
  }
 },
 "nbformat": 4,
 "nbformat_minor": 5
}
