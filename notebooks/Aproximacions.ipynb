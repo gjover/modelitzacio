{
 "cells": [
  {
   "cell_type": "markdown",
   "id": "80554bc0",
   "metadata": {
    "slideshow": {
     "slide_type": "slide"
    }
   },
   "source": [
    "# Modelització"
   ]
  },
  {
   "cell_type": "markdown",
   "id": "6a45a87d",
   "metadata": {
    "slideshow": {
     "slide_type": "notes"
    }
   },
   "source": [
    "## Aproximacions\n",
    "\n",
    "En desenvolupar el nostre model ens podem trobar amb expressions complexes que poden resultar en un model massa complex o difícil de calcular.\n",
    "\n",
    "Quan plantegem el model ens podem trobar que en combinar diferents funcions ens trobem amb un model complex:\n",
    "\n",
    "\\begin{align}\n",
    "y &= \\sqrt{f(x)} e^{f(x)} \\\\\n",
    "f(x) &= x^2 + 2x + 1/x \\\\\n",
    "y & =  \\sqrt{x^2 + 2x + 1/x} e^{x^2 + 2x + 1/x} \\\\\n",
    "\\end{align}\n",
    "\n",
    "També ens podem trobar que en construir el model acabem amb equacions diferencials no lineals:\n",
    "\n",
    "$$P' = a P \\sin(\\pi/2(1 + P/M))$$\n",
    "\n",
    "O podem tindre equacions diferencials que hem de resoldre per aproximació numèrica:\n",
    "\n",
    "$$\\frac{\\partial a \\sqrt{b + x(t)}}{\\partial t} = c + d \\sqrt{x(t)}$$\n",
    "\n",
    "En aquestes situacions podem fer aproximacions per\n",
    "- simplificar el model\n",
    "- simplificar el càlcul\n",
    "- fer aproximacions numeèriques"
   ]
  },
  {
   "cell_type": "markdown",
   "id": "56de70e2",
   "metadata": {},
   "source": [
    "### Factors d'escala i es relatiu dels termes\n",
    "- Un model amb cert nombre de variables, no tots solen tindre el mateix pes en el resultat final.\n",
    "- Podem analitzar l'ordre de magnitud relatiu dels diferents termes.\n",
    "- Si algun terme és poc rellevant, el podem eliminar per simplificar el model."
   ]
  },
  {
   "cell_type": "markdown",
   "id": "a8a1d361",
   "metadata": {},
   "source": [
    "### Exemple:\n",
    "- Tenim un model de la forma\n",
    "$$y = \\sqrt{x^2 + 2x + 1/x} \\,e^{x^2 + 1/x}$$\n",
    "- Si la resolució de $x$ és de l'ordre $1\\%$"
   ]
  },
  {
   "cell_type": "markdown",
   "id": "ddfdb79b",
   "metadata": {},
   "source": [
    "- Si $x \\sim O(10)$\n",
    "    - $x^2 + 2x + 1/x \\sim O(10^2 + 10 + 10^{-1})$ i ho podem reduir a $x^2 + 2x$\n",
    "    \n",
    "    $$y = \\sqrt{x^2 + 2x} \\,e^{x^2}$$\n",
    "    "
   ]
  },
  {
   "cell_type": "markdown",
   "id": "ebd7cb84",
   "metadata": {},
   "source": [
    "- Si $x \\sim O(10^{-1})$\n",
    "    - $x^2 + 2x + 1/x \\sim O(10^{-2} + 10^{-1} + 10^2)$ i ho podem reduir a $1/x$\n",
    "\n",
    "$$y = \\sqrt{1/x} \\,e^{1/x}$$"
   ]
  },
  {
   "cell_type": "markdown",
   "id": "b3081968",
   "metadata": {},
   "source": [
    "- Si tenim múltiples variables, hem de fer l'exercici amb cada una d'elles\n",
    "- A vegades podem fer desenvolupaments en sèries de Taylor per simplificar encara més"
   ]
  },
  {
   "cell_type": "markdown",
   "id": "4cb29a11",
   "metadata": {},
   "source": [
    "### Exemple:\n",
    "- Tenim un model de la forma\n",
    "$$z = a + b \\sin(\\omega x) - a \\cos(\\omega y)$$\n",
    "- Si les resolucions de $x$ i $y$ són de l'ordre $1\\%$ i tenim valors de $\\omega x$ i $\\omega y$ al voltant de 0.1"
   ]
  },
  {
   "cell_type": "markdown",
   "id": "0e9b988f",
   "metadata": {},
   "source": [
    "- Per Taylor tenim:\n",
    "$$z = a + b (\\omega x - \\frac{1}{6}\\omega^3 x^3 + \\dots) - a (1 - \\frac{1}{2}\\omega^2 y^2 + \\dots)$$\n",
    "\n",
    "- i ho podem reduir a:\n",
    "$$z = a + b \\omega x - a (1 - \\frac{1}{2}\\omega^2 y^2 )$$\n",
    "\n",
    "$$z = b \\omega x + \\frac{a}{2}\\omega^2 y^2 $$"
   ]
  },
  {
   "cell_type": "markdown",
   "id": "b08602fc",
   "metadata": {},
   "source": [
    "### Linearització de les equacions diferencials\n",
    "\n"
   ]
  },
  {
   "cell_type": "markdown",
   "id": "051f94fd",
   "metadata": {},
   "source": [
    "El nostre model també pot arribar a expressar-se com un sistema d'equacions diferencials no linears que ens pot complicar la resolució.\n",
    "\n",
    "$$P' = a P \\sin(\\pi/2(1 + P/M))$$\n",
    "\n",
    "En aquests casos podem estudiar el rang d'aplicació del nostre model per buscar aproximacions.\n",
    "\n",
    "Potser ens interessa estudiar les situacions extremes o regions d'estabilitat on $P'$ sigui zero o ens pot interessar un rang molt concret de la nostra variable.\n",
    "\n",
    "En aquestes situacions podem intentar linealitzar el nostre model mitjançant les sèries de Taylor o expansions binomials."
   ]
  },
  {
   "cell_type": "markdown",
   "id": "b8515bd6",
   "metadata": {},
   "source": [
    "Si a l'exemple que hem posat suposem que el nostre estudi és per valors petits de $P/M$, podríem aproximar:\n",
    "\n",
    "\\begin{align}\n",
    "P' &= a P \\sin(\\pi/2(1 + P/M)) \\\\\n",
    "&= a P \\cos\\left(\\frac{\\pi P}{2M}\\right) \\\\\n",
    "&= a P \\left(1 - \\left(\\frac{\\pi P}{2M}\\right)^2 + O(P^4)\\right)\\\\\n",
    "\\end{align}\n"
   ]
  },
  {
   "cell_type": "markdown",
   "id": "a4ee76f1",
   "metadata": {},
   "source": [
    "El mateix tipus d'aproximacions s'aplica al resoldre numèricament algunes equacions diferencials com veurem a continuació.\n",
    "\n",
    "En qualsevol cas, haurem d'estimar l'error introduït per l'aproximació numèrica i avaluar fins a quin ordre necessitem fer el càlcul.\n",
    "\n",
    "Això ho podem fer observant la convergència de resultats de les aproximacions d'ordres superiors."
   ]
  },
  {
   "cell_type": "markdown",
   "id": "3d4a3dc1",
   "metadata": {},
   "source": [
    "Exemple:"
   ]
  },
  {
   "cell_type": "code",
   "execution_count": 1,
   "id": "844586de",
   "metadata": {},
   "outputs": [
    {
     "data": {
      "text/latex": [
       "$\\displaystyle \\frac{a \\frac{d}{d t} x{\\left(t \\right)}}{2 \\sqrt{b + x{\\left(t \\right)}}}$"
      ],
      "text/plain": [
       "a*Derivative(x(t), t)/(2*sqrt(b + x(t)))"
      ]
     },
     "execution_count": 1,
     "metadata": {},
     "output_type": "execute_result"
    }
   ],
   "source": [
    "import numpy as np\n",
    "import sympy as sp\n",
    "from sympy.abc import a, b, c, d, t\n",
    "import matplotlib.pyplot as plt\n",
    "\n",
    "x = sp.Function('x')(t)\n",
    "\n",
    "y = a * sp.sqrt(x + b)\n",
    "yp = sp.diff(y, t)\n",
    "yp"
   ]
  },
  {
   "cell_type": "code",
   "execution_count": 2,
   "id": "a45389d0",
   "metadata": {},
   "outputs": [
    {
     "data": {
      "text/latex": [
       "$\\displaystyle c + d \\sqrt{x{\\left(t \\right)}}$"
      ],
      "text/plain": [
       "c + d*sqrt(x(t))"
      ]
     },
     "execution_count": 2,
     "metadata": {},
     "output_type": "execute_result"
    }
   ],
   "source": [
    "fx = c + d * sp.sqrt(x)\n",
    "fx"
   ]
  },
  {
   "cell_type": "code",
   "execution_count": 3,
   "id": "cdc9484d",
   "metadata": {},
   "outputs": [
    {
     "data": {
      "text/latex": [
       "$\\displaystyle \\frac{a \\frac{d}{d t} x{\\left(t \\right)}}{2 \\sqrt{b + x{\\left(t \\right)}}} = c + d \\sqrt{x{\\left(t \\right)}}$"
      ],
      "text/plain": [
       "Eq(a*Derivative(x(t), t)/(2*sqrt(b + x(t))), c + d*sqrt(x(t)))"
      ]
     },
     "execution_count": 3,
     "metadata": {},
     "output_type": "execute_result"
    }
   ],
   "source": [
    "eq = sp.Eq(yp, fx)\n",
    "eq"
   ]
  },
  {
   "cell_type": "code",
   "execution_count": 4,
   "id": "d464eb38",
   "metadata": {},
   "outputs": [
    {
     "data": {
      "text/plain": [
       "('separable', '1st_power_series', 'lie_group', 'separable_Integral')"
      ]
     },
     "execution_count": 4,
     "metadata": {},
     "output_type": "execute_result"
    }
   ],
   "source": [
    "sp.classify_ode(eq)"
   ]
  },
  {
   "cell_type": "code",
   "execution_count": 5,
   "id": "77b822b3",
   "metadata": {},
   "outputs": [
    {
     "data": {
      "text/latex": [
       "$\\displaystyle - \\frac{a \\int\\limits^{x{\\left(t \\right)}} \\frac{1}{\\sqrt{y + b} \\left(\\sqrt{y} d + c\\right)}\\, dy}{2} = C_{1} - t$"
      ],
      "text/plain": [
       "Eq(-a*Integral(1/(sqrt(_y + b)*(sqrt(_y)*d + c)), (_y, x(t)))/2, C1 - t)"
      ]
     },
     "execution_count": 5,
     "metadata": {},
     "output_type": "execute_result"
    }
   ],
   "source": [
    "xt = sp.dsolve(eq, x)\n",
    "xt"
   ]
  },
  {
   "cell_type": "code",
   "execution_count": 6,
   "id": "b14098a9",
   "metadata": {},
   "outputs": [
    {
     "data": {
      "text/latex": [
       "$\\displaystyle x{\\left(t \\right)} = \\frac{2 t \\sqrt{C_{1} + b} \\left(\\sqrt{C_{1}} d + c\\right)}{a} + C_{1} + O\\left(t^{2}\\right)$"
      ],
      "text/plain": [
       "Eq(x(t), 2*t*sqrt(C1 + b)*(sqrt(C1)*d + c)/a + C1 + O(t**2))"
      ]
     },
     "execution_count": 6,
     "metadata": {},
     "output_type": "execute_result"
    }
   ],
   "source": [
    "xt2 = sp.dsolve(eq, x, hint='1st_power_series', n=2)\n",
    "xt2"
   ]
  },
  {
   "cell_type": "code",
   "execution_count": 7,
   "id": "45e6c9af",
   "metadata": {},
   "outputs": [
    {
     "data": {
      "text/latex": [
       "$\\displaystyle x{\\left(t \\right)} = \\frac{t^{2} \\sqrt{C_{1} + b} \\left(\\sqrt{C_{1}} d + c\\right) \\left(\\frac{\\sqrt{C_{1}} d + c}{\\sqrt{C_{1} + b}} + \\frac{d \\sqrt{C_{1} + b}}{\\sqrt{C_{1}}}\\right)}{a^{2}} + \\frac{2 t \\sqrt{C_{1} + b} \\left(\\sqrt{C_{1}} d + c\\right)}{a} + C_{1} + O\\left(t^{3}\\right)$"
      ],
      "text/plain": [
       "Eq(x(t), t**2*sqrt(C1 + b)*(sqrt(C1)*d + c)*((sqrt(C1)*d + c)/sqrt(C1 + b) + d*sqrt(C1 + b)/sqrt(C1))/a**2 + 2*t*sqrt(C1 + b)*(sqrt(C1)*d + c)/a + C1 + O(t**3))"
      ]
     },
     "execution_count": 7,
     "metadata": {},
     "output_type": "execute_result"
    }
   ],
   "source": [
    "xt3 = sp.dsolve(eq, x, hint='1st_power_series', n=3)\n",
    "xt3"
   ]
  },
  {
   "cell_type": "code",
   "execution_count": 8,
   "id": "fa580146",
   "metadata": {},
   "outputs": [
    {
     "data": {
      "text/latex": [
       "$\\displaystyle x{\\left(t \\right)} = \\frac{t^{3} \\sqrt{C_{1} + b} \\left(\\sqrt{C_{1}} d + c\\right) \\left(2 \\sqrt{C_{1} + b} \\left(\\sqrt{C_{1}} d + c\\right) \\left(- \\frac{\\sqrt{C_{1}} d + c}{2 \\left(C_{1} + b\\right)^{\\frac{3}{2}}} + \\frac{d}{\\sqrt{C_{1}} \\sqrt{C_{1} + b}} - \\frac{d \\sqrt{C_{1} + b}}{2 C_{1}^{\\frac{3}{2}}}\\right) + \\frac{\\left(\\sqrt{C_{1}} d + c\\right) \\left(\\frac{\\sqrt{C_{1}} d + c}{\\sqrt{C_{1} + b}} + \\frac{d \\sqrt{C_{1} + b}}{\\sqrt{C_{1}}}\\right)}{\\sqrt{C_{1} + b}} + \\frac{d \\sqrt{C_{1} + b} \\left(\\frac{\\sqrt{C_{1}} d + c}{\\sqrt{C_{1} + b}} + \\frac{d \\sqrt{C_{1} + b}}{\\sqrt{C_{1}}}\\right)}{\\sqrt{C_{1}}}\\right)}{3 a^{3}} + \\frac{t^{2} \\sqrt{C_{1} + b} \\left(\\sqrt{C_{1}} d + c\\right) \\left(\\frac{\\sqrt{C_{1}} d + c}{\\sqrt{C_{1} + b}} + \\frac{d \\sqrt{C_{1} + b}}{\\sqrt{C_{1}}}\\right)}{a^{2}} + \\frac{2 t \\sqrt{C_{1} + b} \\left(\\sqrt{C_{1}} d + c\\right)}{a} + C_{1} + O\\left(t^{4}\\right)$"
      ],
      "text/plain": [
       "Eq(x(t), t**3*sqrt(C1 + b)*(sqrt(C1)*d + c)*(2*sqrt(C1 + b)*(sqrt(C1)*d + c)*(-(sqrt(C1)*d + c)/(2*(C1 + b)**(3/2)) + d/(sqrt(C1)*sqrt(C1 + b)) - d*sqrt(C1 + b)/(2*C1**(3/2))) + (sqrt(C1)*d + c)*((sqrt(C1)*d + c)/sqrt(C1 + b) + d*sqrt(C1 + b)/sqrt(C1))/sqrt(C1 + b) + d*sqrt(C1 + b)*((sqrt(C1)*d + c)/sqrt(C1 + b) + d*sqrt(C1 + b)/sqrt(C1))/sqrt(C1))/(3*a**3) + t**2*sqrt(C1 + b)*(sqrt(C1)*d + c)*((sqrt(C1)*d + c)/sqrt(C1 + b) + d*sqrt(C1 + b)/sqrt(C1))/a**2 + 2*t*sqrt(C1 + b)*(sqrt(C1)*d + c)/a + C1 + O(t**4))"
      ]
     },
     "execution_count": 8,
     "metadata": {},
     "output_type": "execute_result"
    }
   ],
   "source": [
    "xt4 = sp.dsolve(eq, x, hint='1st_power_series', n=4)\n",
    "xt4"
   ]
  },
  {
   "cell_type": "code",
   "execution_count": 9,
   "id": "110eed03",
   "metadata": {},
   "outputs": [
    {
     "data": {
      "text/latex": [
       "$\\displaystyle C_{1} + \\frac{2 t \\sqrt{C_{1} + b} \\left(\\sqrt{C_{1}} d + c\\right)}{a}$"
      ],
      "text/plain": [
       "C1 + 2*t*sqrt(C1 + b)*(sqrt(C1)*d + c)/a"
      ]
     },
     "execution_count": 9,
     "metadata": {},
     "output_type": "execute_result"
    }
   ],
   "source": [
    "xt2.rhs.removeO()"
   ]
  },
  {
   "cell_type": "code",
   "execution_count": 10,
   "id": "a2b39748",
   "metadata": {},
   "outputs": [
    {
     "data": {
      "text/latex": [
       "$\\displaystyle 0.235559590946687$"
      ],
      "text/plain": [
       "0.235559590946687"
      ]
     },
     "execution_count": 10,
     "metadata": {},
     "output_type": "execute_result"
    }
   ],
   "source": [
    "valors = {'C1':0.1, a:1000, b:2, c:3, d:4}\n",
    "xt4.rhs.removeO().subs(valors).subs(t, 10).n()"
   ]
  },
  {
   "cell_type": "code",
   "execution_count": 11,
   "id": "9087bff9",
   "metadata": {},
   "outputs": [
    {
     "data": {
      "text/plain": [
       "<matplotlib.legend.Legend at 0x7f6081f78c10>"
      ]
     },
     "execution_count": 11,
     "metadata": {},
     "output_type": "execute_result"
    },
    {
     "data": {
      "image/png": "[encoded data removed]",
      "text/plain": [
       "<Figure size 640x480 with 1 Axes>"
      ]
     },
     "metadata": {},
     "output_type": "display_data"
    }
   ],
   "source": [
    "xt2_ = xt2.rhs.removeO().subs(valors).n()\n",
    "fxt2 = sp.lambdify('t', xt2_)\n",
    "\n",
    "xt3_ = xt3.rhs.removeO().subs(valors).n()\n",
    "fxt3 = sp.lambdify('t', xt3_)\n",
    "\n",
    "xt4_ = xt4.rhs.removeO().subs(valors).n()\n",
    "fxt4 = sp.lambdify('t', xt4_)\n",
    "\n",
    "\n",
    "tt = np.linspace(0, 30)\n",
    "x2 = fxt2(tt)\n",
    "x3 = fxt3(tt)\n",
    "x4 = fxt4(tt)\n",
    "\n",
    "l = plt.plot(tt, x2, tt, x3, tt, x4)\n",
    "plt.legend([\"O(2)\", \"O(3)\", \"O(4)\"])"
   ]
  },
  {
   "cell_type": "markdown",
   "id": "eab95609",
   "metadata": {},
   "source": [
    "Si necessitem valors de $x(t)$ entre 0 i 10, podem estimar l'error observant la convergència de les successives aproximacions."
   ]
  },
  {
   "cell_type": "code",
   "execution_count": 12,
   "id": "62e76eb3",
   "metadata": {},
   "outputs": [],
   "source": [
    "xt5 = sp.dsolve(eq, x, hint='1st_power_series', n=5)\n",
    "xt5_ = xt5.rhs.removeO().subs(valors).n()"
   ]
  },
  {
   "cell_type": "code",
   "execution_count": 13,
   "id": "f8a999cd",
   "metadata": {},
   "outputs": [],
   "source": [
    "diff = np.array([xt2_.subs(t, 10) - xt5_.subs(t, 10),\n",
    "       xt3_.subs(t, 10) - xt5_.subs(t, 10),\n",
    "       xt4_.subs(t, 10) - xt5_.subs(t, 10),])"
   ]
  },
  {
   "cell_type": "code",
   "execution_count": 14,
   "id": "ae7dc8ed",
   "metadata": {
    "scrolled": true
   },
   "outputs": [
    {
     "data": {
      "image/png": "[encoded data removed]",
      "text/plain": [
       "<Figure size 640x480 with 1 Axes>"
      ]
     },
     "metadata": {},
     "output_type": "display_data"
    }
   ],
   "source": [
    "plt.plot(abs(diff))\n",
    "plt.yscale('log')\n",
    "plt.show()"
   ]
  },
  {
   "cell_type": "markdown",
   "id": "9c0e5275",
   "metadata": {
    "slideshow": {
     "slide_type": "slide"
    }
   },
   "source": [
    " "
   ]
  },
  {
   "cell_type": "markdown",
   "id": "c65249a5",
   "metadata": {
    "slideshow": {
     "slide_type": "skip"
    }
   },
   "source": [
    "# Bibliografia\n",
    "\n",
    "- <a id='bib_Edwards'></a> Edwards, D., **2001**. *Guide to mathematical modelling*. Palgrave, Basingstoke.\n",
    "- <a id='bib_Dym'></a> Dym, Clive L., **2004**. *Principles of mathematical modeling*. Elsevier."
   ]
  },
  {
   "cell_type": "markdown",
   "id": "33787742",
   "metadata": {
    "slideshow": {
     "slide_type": "skip"
    }
   },
   "source": [
    "Copyright (C) 2022 Gabriel Jover Mañas\n",
    "\n",
    "    Permission is granted to copy, distribute and/or modify this document\n",
    "    under the terms of the GNU Free Documentation License, Version 1.3\n",
    "    or any later version published by the Free Software Foundation;\n",
    "    with no Invariant Sections, no Front-Cover Texts, and no Back-Cover Texts.\n",
    "    A copy of the license is included in the section entitled \"GNU\n",
    "    Free Documentation License\".\n",
    "\n",
    "![GFDL][GFDL]\n",
    "\n",
    "    This program is free software: you can redistribute it and/or modify\n",
    "    it under the terms of the GNU General Public License as published by\n",
    "    the Free Software Foundation, either version 3 of the License, or\n",
    "    (at your option) any later version.\n",
    "\n",
    "    This program is distributed in the hope that it will be useful,\n",
    "    but WITHOUT ANY WARRANTY; without even the implied warranty of\n",
    "    MERCHANTABILITY or FITNESS FOR A PARTICULAR PURPOSE.  See the\n",
    "    GNU General Public License for more details.\n",
    "\n",
    "    You should have received a copy of the GNU General Public License\n",
    "    along with this program.  If not, see <https://www.gnu.org/licenses/>.\n",
    "\n",
    "![GPL3][GPL3]\n",
    "\n",
    "[GFDL]: https://www.gnu.org/graphics/gfdl-logo.svg\n",
    "[GPL3]: https://www.gnu.org/graphics/gplv3-or-later.svg"
   ]
  }
 ],
 "metadata": {
  "jupytext": {
   "formats": "ipynb,py:percent"
  },
  "kernelspec": {
   "display_name": "Python 3 (ipykernel)",
   "language": "python",
   "name": "python3"
  },
  "language_info": {
   "codemirror_mode": {
    "name": "ipython",
    "version": 3
   },
   "file_extension": ".py",
   "mimetype": "text/x-python",
   "name": "python",
   "nbconvert_exporter": "python",
   "pygments_lexer": "ipython3",
   "version": "3.9.16"
  }
 },
 "nbformat": 4,
 "nbformat_minor": 5
}
