{
 "cells": [
  {
   "cell_type": "markdown",
   "id": "f3ef8ea1",
   "metadata": {
    "id": "f3ef8ea1"
   },
   "source": [
    "# Simulació\n"
   ]
  },
  {
   "cell_type": "markdown",
   "id": "51bd06c5",
   "metadata": {
    "id": "51bd06c5"
   },
   "source": [
    "- La realitat sol estar formada per sistemes complexos\n",
    "- Els sistemes senzills es poden modelitzar analíticament\n",
    "- Els més complexos pot caldre simular-los numèricament per estudiar el seu comportament.\n",
    "- Els sistemes els podem classificar amb tres categories:\n",
    "    - Estàtic - Dinàmic\n",
    "    - Deterministic - Estocàstic\n",
    "    - Continus - Discret\n",
    "- Per estudiar el comportament de sistemes discrets, dinàmics i estocàstics farem servir simulacions d'esdeveniments discrets (DES)"
   ]
  },
  {
   "cell_type": "markdown",
   "id": "d64724ca",
   "metadata": {
    "id": "d64724ca"
   },
   "source": [
    "## Simulació d'esdeveniments discrets (DES)"
   ]
  },
  {
   "cell_type": "markdown",
   "id": "d8053f1d",
   "metadata": {
    "id": "d8053f1d"
   },
   "source": [
    "- Rellotge de simulació\n",
    "    - Marca l'instant de tir de cada esdeveniment\n",
    "- Entitats\n",
    "    - Atributs\n",
    "    - Els estats de les entitats conformen l'estat del sistema\n",
    "    - Processos\n",
    "        - Generen canvis d'estat\n",
    "- Esdeveniments\n",
    "    - Canvis d'estat del sistema\n",
    "- Recursos\n",
    "    - Alguns processos generen o consumeixen recursos\n",
    "- Cues\n",
    "    - La limitació de recursos generen cues"
   ]
  },
  {
   "cell_type": "markdown",
   "id": "d1eea48b",
   "metadata": {
    "id": "d1eea48b"
   },
   "source": [
    "### Rellotge de simulació"
   ]
  },
  {
   "cell_type": "markdown",
   "id": "cbf1a54c",
   "metadata": {
    "id": "cbf1a54c"
   },
   "source": [
    "- Se solen donar dues implementacions: fixed-increment i next-event\n",
    "    - Fixed-increment: s'actualitza l'estat a cada increment processant l'esdeveniment del darrer increment\n",
    "    - Next-event: es registra el temps quan ocorreran esdeveniments"
   ]
  },
  {
   "cell_type": "markdown",
   "id": "1ed1da57",
   "metadata": {
    "id": "1ed1da57"
   },
   "source": [
    "- Cada esdeveniment inicia un o diversos processos\n",
    "- Aquests processos modifiquen el sistema i introdueixen esdeveniments"
   ]
  },
  {
   "cell_type": "markdown",
   "id": "06923a9a",
   "metadata": {
    "id": "06923a9a"
   },
   "source": [
    "### Estructura de la SED (DES)"
   ]
  },
  {
   "cell_type": "markdown",
   "id": "0f653296",
   "metadata": {
    "id": "0f653296"
   },
   "source": [
    "- Inicialització\n",
    "\n",
    "    - Init clock\n",
    "    - Init events\n",
    "    - Init system\n",
    "        - Init entities\n",
    "        - Init statistics\n",
    "\n",
    " - Loop\n",
    "     - Trigger next event\n",
    "     - Process event\n",
    "     - Update system\n",
    "     - Update statistics\n",
    "     - Generate future events\n",
    "\n",
    " - Report"
   ]
  },
  {
   "cell_type": "markdown",
   "id": "213fc176",
   "metadata": {
    "id": "213fc176"
   },
   "source": [
    "## Cua FIFO"
   ]
  },
  {
   "cell_type": "markdown",
   "id": "a3d02dad",
   "metadata": {
    "id": "a3d02dad"
   },
   "source": [
    "- Tenim un servei de venda per taquilla que triga una mitjana de 10s en atendre a cada client\n",
    "- Tenim un fluix d'arribada d'un client cada 8s\n",
    "- Assumim que la cua està buida per t=0"
   ]
  },
  {
   "cell_type": "code",
   "execution_count": null,
   "id": "a9vAks0baSVw",
   "metadata": {
    "colab": {
     "base_uri": "https://localhost:8080/"
    },
    "executionInfo": {
     "elapsed": 11120,
     "status": "ok",
     "timestamp": 1742202171412,
     "user": {
      "displayName": "Gabriel JM",
      "userId": "04913946655420947744"
     },
     "user_tz": -60
    },
    "id": "a9vAks0baSVw",
    "outputId": "9dc4be82-bf5d-488d-ea50-8700cda84330"
   },
   "outputs": [
    {
     "name": "stdout",
     "output_type": "stream",
     "text": [
      "Collecting simpy\n",
      "  Downloading simpy-4.1.1-py3-none-any.whl.metadata (6.1 kB)\n",
      "Downloading simpy-4.1.1-py3-none-any.whl (27 kB)\n",
      "Installing collected packages: simpy\n",
      "Successfully installed simpy-4.1.1\n"
     ]
    }
   ],
   "source": [
    "%pip install simpy"
   ]
  },
  {
   "cell_type": "code",
   "execution_count": null,
   "id": "0ae2664c",
   "metadata": {
    "id": "0ae2664c"
   },
   "outputs": [],
   "source": [
    "import simpy\n",
    "import numpy as np\n",
    "import pandas as pd"
   ]
  },
  {
   "cell_type": "code",
   "execution_count": null,
   "id": "0fc3400b",
   "metadata": {
    "id": "0fc3400b"
   },
   "outputs": [],
   "source": [
    "def venda(env, taquilla, cua):\n",
    "    \"\"\"\n",
    "    Simula el temps de venda\n",
    "    \"\"\"\n",
    "    with taquilla.request() as req:\n",
    "        yield req\n",
    "        temps = np.random.exponential(10)\n",
    "        print(\"venda\", env.now, \"trigarà\", temps)\n",
    "        yield env.timeout(temps)\n",
    "        cua.loc[env.now] = cua.iloc[-1].pers - 1\n",
    "        print(env.now, \"Següent!\")"
   ]
  },
  {
   "cell_type": "code",
   "execution_count": null,
   "id": "502eb5ce",
   "metadata": {
    "id": "502eb5ce"
   },
   "outputs": [],
   "source": [
    "def simulacio(env, n_taquilles, cua):\n",
    "    \"\"\"\n",
    "    Inicialitza la simulació\n",
    "    \"\"\"\n",
    "    # La taquilla és un recurs limitat\n",
    "    taquilla = simpy.Resource(env, capacity=n_taquilles)\n",
    "\n",
    "    # La cua comença buida\n",
    "    cua.loc[0] = 0\n",
    "\n",
    "    # Comença l'arribada de clients\n",
    "    while True:\n",
    "        temps = np.random.exponential(8)\n",
    "        yield env.timeout(temps)\n",
    "        print(\"arribat\", env.now)\n",
    "        cua.loc[env.now] = cua.iloc[-1].pers + 1\n",
    "        v = venda(env, taquilla, cua)\n",
    "        env.process(v)\n"
   ]
  },
  {
   "cell_type": "markdown",
   "id": "ee4ce93e",
   "metadata": {
    "id": "ee4ce93e"
   },
   "source": [
    "### Llaç de simulació"
   ]
  },
  {
   "cell_type": "code",
   "execution_count": null,
   "id": "41050a5b",
   "metadata": {
    "colab": {
     "base_uri": "https://localhost:8080/"
    },
    "executionInfo": {
     "elapsed": 44,
     "status": "ok",
     "timestamp": 1742202768624,
     "user": {
      "displayName": "Gabriel JM",
      "userId": "04913946655420947744"
     },
     "user_tz": -60
    },
    "id": "41050a5b",
    "outputId": "7a1ebbd5-337b-4dd8-80c8-821f381b6549"
   },
   "outputs": [
    {
     "name": "stdout",
     "output_type": "stream",
     "text": [
      "arribat 6.929899520204829\n",
      "venda 6.929899520204829 trigarà 17.776613170660987\n",
      "24.706512690865814 Seguent!\n",
      "arribat 29.56977730092202\n",
      "venda 29.56977730092202 trigarà 2.2110188738024297\n",
      "arribat 31.078141424431365\n",
      "venda 31.078141424431365 trigarà 6.836505240150512\n",
      "31.78079617472445 Seguent!\n",
      "37.91464666458188 Seguent!\n",
      "arribat 63.93124979943414\n",
      "venda 63.93124979943414 trigarà 49.4477357772555\n",
      "arribat 73.21886866356668\n",
      "venda 73.21886866356668 trigarà 19.736120213666773\n",
      "arribat 89.8627135295068\n",
      "92.95498887723346 Seguent!\n",
      "venda 92.95498887723346 trigarà 1.9528917097280276\n",
      "94.90788058696148 Seguent!\n",
      "arribat 101.20625494588198\n",
      "venda 101.20625494588198 trigarà 1.9318819936623524\n",
      "103.13813693954434 Seguent!\n",
      "113.37898557668964 Seguent!\n",
      "arribat 114.10202224478141\n",
      "venda 114.10202224478141 trigarà 36.50102192724582\n",
      "arribat 118.31079975984693\n",
      "venda 118.31079975984693 trigarà 2.725389926252518\n",
      "121.03618968609945 Seguent!\n",
      "arribat 136.1510006420132\n",
      "venda 136.1510006420132 trigarà 13.593084431204218\n",
      "arribat 141.94375612644703\n",
      "arribat 146.36790336214696\n",
      "arribat 147.73926608401132\n",
      "arribat 148.77430266332487\n",
      "149.74408507321743 Seguent!\n",
      "venda 149.74408507321743 trigarà 0.1450836840018568\n",
      "149.8891687572193 Seguent!\n",
      "venda 149.8891687572193 trigarà 9.872050264712929\n",
      "150.60304417202724 Seguent!\n",
      "venda 150.60304417202724 trigarà 0.5418301936734254\n",
      "151.14487436570067 Seguent!\n",
      "venda 151.14487436570067 trigarà 4.870426504424661\n",
      "arribat 153.31117764203924\n",
      "156.01530087012534 Seguent!\n",
      "venda 156.01530087012534 trigarà 9.91278957013504\n",
      "arribat 159.04602928728917\n",
      "159.76121902193222 Seguent!\n",
      "venda 159.76121902193222 trigarà 1.5395885574742914\n",
      "161.30080757940652 Seguent!\n",
      "165.92809044026038 Seguent!\n",
      "arribat 173.64688937950245\n",
      "venda 173.64688937950245 trigarà 66.85225870036777\n",
      "arribat 180.9522450647903\n",
      "venda 180.9522450647903 trigarà 0.8904973738955003\n",
      "181.8427424386858 Seguent!\n",
      "arribat 183.02445779801477\n",
      "venda 183.02445779801477 trigarà 17.404914350135112\n",
      "arribat 187.9978944519302\n",
      "arribat 199.13552674257946\n",
      "200.42937214814987 Seguent!\n",
      "venda 200.42937214814987 trigarà 5.7193452159424885\n",
      "206.14871736409236 Seguent!\n",
      "venda 206.14871736409236 trigarà 7.802564510296578\n",
      "arribat 209.3614809769143\n",
      "213.95128187438894 Seguent!\n",
      "venda 213.95128187438894 trigarà 5.467538047449865\n",
      "219.4188199218388 Seguent!\n",
      "arribat 236.77785563330957\n",
      "venda 236.77785563330957 trigarà 5.833679634256263\n",
      "240.49914807987022 Seguent!\n",
      "242.61153526756584 Seguent!\n",
      "arribat 246.50841299979976\n",
      "venda 246.50841299979976 trigarà 7.835111334320013\n",
      "arribat 254.20095374621363\n",
      "venda 254.20095374621363 trigarà 1.853248267435059\n",
      "254.34352433411976 Seguent!\n",
      "256.0542020136487 Seguent!\n",
      "arribat 261.56657930594207\n",
      "venda 261.56657930594207 trigarà 0.09463076562083063\n",
      "261.6612100715629 Seguent!\n",
      "arribat 265.25030358532445\n",
      "venda 265.25030358532445 trigarà 2.878629079708674\n",
      "268.1289326650331 Seguent!\n",
      "arribat 273.17782725458875\n",
      "venda 273.17782725458875 trigarà 36.30013749733047\n",
      "arribat 274.83592991547164\n",
      "venda 274.83592991547164 trigarà 2.5776361227852\n",
      "277.4135660382568 Seguent!\n",
      "arribat 292.9553123739355\n",
      "venda 292.9553123739355 trigarà 19.287440295170455\n",
      "arribat 299.3043219512957\n"
     ]
    }
   ],
   "source": [
    "env = simpy.Environment()\n",
    "n_taquilles = 2\n",
    "\n",
    "# Guardem l'evolució de la cua\n",
    "cua = pd.DataFrame(columns=['pers'])\n",
    "\n",
    "env.process(simulacio(env, n_taquilles, cua))\n",
    "env.run(until=300)"
   ]
  },
  {
   "cell_type": "markdown",
   "id": "e36bce14",
   "metadata": {
    "id": "e36bce14"
   },
   "source": [
    "### Report"
   ]
  },
  {
   "cell_type": "code",
   "execution_count": null,
   "id": "5451d542",
   "metadata": {
    "colab": {
     "base_uri": "https://localhost:8080/",
     "height": 363
    },
    "executionInfo": {
     "elapsed": 55,
     "status": "ok",
     "timestamp": 1742202425516,
     "user": {
      "displayName": "Gabriel JM",
      "userId": "04913946655420947744"
     },
     "user_tz": -60
    },
    "id": "5451d542",
    "outputId": "f4eec87a-0b5e-43ae-97d2-276dcfab8787"
   },
   "outputs": [
    {
     "data": {
      "application/vnd.google.colaboratory.intrinsic+json": {
       "summary": "{\n  \"name\": \"cua\",\n  \"rows\": 67,\n  \"fields\": [\n    {\n      \"column\": \"pers\",\n      \"properties\": {\n        \"dtype\": \"number\",\n        \"std\": 3,\n        \"min\": 0,\n        \"max\": 13,\n        \"num_unique_values\": 14,\n        \"samples\": [\n          9,\n          11,\n          0\n        ],\n        \"semantic_type\": \"\",\n        \"description\": \"\"\n      }\n    }\n  ]\n}",
       "type": "dataframe",
       "variable_name": "cua"
      },
      "text/html": [
       "\n",
       "  <div id=\"df-04d819a1-0318-49d7-adef-486a24ed40ec\" class=\"colab-df-container\">\n",
       "    <div>\n",
       "<style scoped>\n",
       "    .dataframe tbody tr th:only-of-type {\n",
       "        vertical-align: middle;\n",
       "    }\n",
       "\n",
       "    .dataframe tbody tr th {\n",
       "        vertical-align: top;\n",
       "    }\n",
       "\n",
       "    .dataframe thead th {\n",
       "        text-align: right;\n",
       "    }\n",
       "</style>\n",
       "<table border=\"1\" class=\"dataframe\">\n",
       "  <thead>\n",
       "    <tr style=\"text-align: right;\">\n",
       "      <th></th>\n",
       "      <th>pers</th>\n",
       "    </tr>\n",
       "  </thead>\n",
       "  <tbody>\n",
       "    <tr>\n",
       "      <th>0.000000</th>\n",
       "      <td>0</td>\n",
       "    </tr>\n",
       "    <tr>\n",
       "      <th>11.066690</th>\n",
       "      <td>1</td>\n",
       "    </tr>\n",
       "    <tr>\n",
       "      <th>11.253670</th>\n",
       "      <td>2</td>\n",
       "    </tr>\n",
       "    <tr>\n",
       "      <th>15.285012</th>\n",
       "      <td>3</td>\n",
       "    </tr>\n",
       "    <tr>\n",
       "      <th>24.823990</th>\n",
       "      <td>2</td>\n",
       "    </tr>\n",
       "    <tr>\n",
       "      <th>26.988114</th>\n",
       "      <td>3</td>\n",
       "    </tr>\n",
       "    <tr>\n",
       "      <th>31.060139</th>\n",
       "      <td>2</td>\n",
       "    </tr>\n",
       "    <tr>\n",
       "      <th>43.854288</th>\n",
       "      <td>1</td>\n",
       "    </tr>\n",
       "    <tr>\n",
       "      <th>53.839443</th>\n",
       "      <td>2</td>\n",
       "    </tr>\n",
       "    <tr>\n",
       "      <th>59.385668</th>\n",
       "      <td>1</td>\n",
       "    </tr>\n",
       "  </tbody>\n",
       "</table>\n",
       "</div>\n",
       "    <div class=\"colab-df-buttons\">\n",
       "\n",
       "  <div class=\"colab-df-container\">\n",
       "    <button class=\"colab-df-convert\" onclick=\"convertToInteractive('df-04d819a1-0318-49d7-adef-486a24ed40ec')\"\n",
       "            title=\"Convert this dataframe to an interactive table.\"\n",
       "            style=\"display:none;\">\n",
       "\n",
       "  <svg xmlns=\"http://www.w3.org/2000/svg\" height=\"24px\" viewBox=\"0 -960 960 960\">\n",
       "    <path d=\"M120-120v-720h720v720H120Zm60-500h600v-160H180v160Zm220 220h160v-160H400v160Zm0 220h160v-160H400v160ZM180-400h160v-160H180v160Zm440 0h160v-160H620v160ZM180-180h160v-160H180v160Zm440 0h160v-160H620v160Z\"/>\n",
       "  </svg>\n",
       "    </button>\n",
       "\n",
       "  <style>\n",
       "    .colab-df-container {\n",
       "      display:flex;\n",
       "      gap: 12px;\n",
       "    }\n",
       "\n",
       "    .colab-df-convert {\n",
       "      background-color: #E8F0FE;\n",
       "      border: none;\n",
       "      border-radius: 50%;\n",
       "      cursor: pointer;\n",
       "      display: none;\n",
       "      fill: #1967D2;\n",
       "      height: 32px;\n",
       "      padding: 0 0 0 0;\n",
       "      width: 32px;\n",
       "    }\n",
       "\n",
       "    .colab-df-convert:hover {\n",
       "      background-color: #E2EBFA;\n",
       "      box-shadow: 0px 1px 2px rgba(60, 64, 67, 0.3), 0px 1px 3px 1px rgba(60, 64, 67, 0.15);\n",
       "      fill: #174EA6;\n",
       "    }\n",
       "\n",
       "    .colab-df-buttons div {\n",
       "      margin-bottom: 4px;\n",
       "    }\n",
       "\n",
       "    [theme=dark] .colab-df-convert {\n",
       "      background-color: #3B4455;\n",
       "      fill: #D2E3FC;\n",
       "    }\n",
       "\n",
       "    [theme=dark] .colab-df-convert:hover {\n",
       "      background-color: #434B5C;\n",
       "      box-shadow: 0px 1px 3px 1px rgba(0, 0, 0, 0.15);\n",
       "      filter: drop-shadow(0px 1px 2px rgba(0, 0, 0, 0.3));\n",
       "      fill: #FFFFFF;\n",
       "    }\n",
       "  </style>\n",
       "\n",
       "    <script>\n",
       "      const buttonEl =\n",
       "        document.querySelector('#df-04d819a1-0318-49d7-adef-486a24ed40ec button.colab-df-convert');\n",
       "      buttonEl.style.display =\n",
       "        google.colab.kernel.accessAllowed ? 'block' : 'none';\n",
       "\n",
       "      async function convertToInteractive(key) {\n",
       "        const element = document.querySelector('#df-04d819a1-0318-49d7-adef-486a24ed40ec');\n",
       "        const dataTable =\n",
       "          await google.colab.kernel.invokeFunction('convertToInteractive',\n",
       "                                                    [key], {});\n",
       "        if (!dataTable) return;\n",
       "\n",
       "        const docLinkHtml = 'Like what you see? Visit the ' +\n",
       "          '<a target=\"_blank\" href=https://colab.research.google.com/notebooks/data_table.ipynb>data table notebook</a>'\n",
       "          + ' to learn more about interactive tables.';\n",
       "        element.innerHTML = '';\n",
       "        dataTable['output_type'] = 'display_data';\n",
       "        await google.colab.output.renderOutput(dataTable, element);\n",
       "        const docLink = document.createElement('div');\n",
       "        docLink.innerHTML = docLinkHtml;\n",
       "        element.appendChild(docLink);\n",
       "      }\n",
       "    </script>\n",
       "  </div>\n",
       "\n",
       "\n",
       "<div id=\"df-d5ad3140-dead-4803-8862-c93c99b0b4d9\">\n",
       "  <button class=\"colab-df-quickchart\" onclick=\"quickchart('df-d5ad3140-dead-4803-8862-c93c99b0b4d9')\"\n",
       "            title=\"Suggest charts\"\n",
       "            style=\"display:none;\">\n",
       "\n",
       "<svg xmlns=\"http://www.w3.org/2000/svg\" height=\"24px\"viewBox=\"0 0 24 24\"\n",
       "     width=\"24px\">\n",
       "    <g>\n",
       "        <path d=\"M19 3H5c-1.1 0-2 .9-2 2v14c0 1.1.9 2 2 2h14c1.1 0 2-.9 2-2V5c0-1.1-.9-2-2-2zM9 17H7v-7h2v7zm4 0h-2V7h2v10zm4 0h-2v-4h2v4z\"/>\n",
       "    </g>\n",
       "</svg>\n",
       "  </button>\n",
       "\n",
       "<style>\n",
       "  .colab-df-quickchart {\n",
       "      --bg-color: #E8F0FE;\n",
       "      --fill-color: #1967D2;\n",
       "      --hover-bg-color: #E2EBFA;\n",
       "      --hover-fill-color: #174EA6;\n",
       "      --disabled-fill-color: #AAA;\n",
       "      --disabled-bg-color: #DDD;\n",
       "  }\n",
       "\n",
       "  [theme=dark] .colab-df-quickchart {\n",
       "      --bg-color: #3B4455;\n",
       "      --fill-color: #D2E3FC;\n",
       "      --hover-bg-color: #434B5C;\n",
       "      --hover-fill-color: #FFFFFF;\n",
       "      --disabled-bg-color: #3B4455;\n",
       "      --disabled-fill-color: #666;\n",
       "  }\n",
       "\n",
       "  .colab-df-quickchart {\n",
       "    background-color: var(--bg-color);\n",
       "    border: none;\n",
       "    border-radius: 50%;\n",
       "    cursor: pointer;\n",
       "    display: none;\n",
       "    fill: var(--fill-color);\n",
       "    height: 32px;\n",
       "    padding: 0;\n",
       "    width: 32px;\n",
       "  }\n",
       "\n",
       "  .colab-df-quickchart:hover {\n",
       "    background-color: var(--hover-bg-color);\n",
       "    box-shadow: 0 1px 2px rgba(60, 64, 67, 0.3), 0 1px 3px 1px rgba(60, 64, 67, 0.15);\n",
       "    fill: var(--button-hover-fill-color);\n",
       "  }\n",
       "\n",
       "  .colab-df-quickchart-complete:disabled,\n",
       "  .colab-df-quickchart-complete:disabled:hover {\n",
       "    background-color: var(--disabled-bg-color);\n",
       "    fill: var(--disabled-fill-color);\n",
       "    box-shadow: none;\n",
       "  }\n",
       "\n",
       "  .colab-df-spinner {\n",
       "    border: 2px solid var(--fill-color);\n",
       "    border-color: transparent;\n",
       "    border-bottom-color: var(--fill-color);\n",
       "    animation:\n",
       "      spin 1s steps(1) infinite;\n",
       "  }\n",
       "\n",
       "  @keyframes spin {\n",
       "    0% {\n",
       "      border-color: transparent;\n",
       "      border-bottom-color: var(--fill-color);\n",
       "      border-left-color: var(--fill-color);\n",
       "    }\n",
       "    20% {\n",
       "      border-color: transparent;\n",
       "      border-left-color: var(--fill-color);\n",
       "      border-top-color: var(--fill-color);\n",
       "    }\n",
       "    30% {\n",
       "      border-color: transparent;\n",
       "      border-left-color: var(--fill-color);\n",
       "      border-top-color: var(--fill-color);\n",
       "      border-right-color: var(--fill-color);\n",
       "    }\n",
       "    40% {\n",
       "      border-color: transparent;\n",
       "      border-right-color: var(--fill-color);\n",
       "      border-top-color: var(--fill-color);\n",
       "    }\n",
       "    60% {\n",
       "      border-color: transparent;\n",
       "      border-right-color: var(--fill-color);\n",
       "    }\n",
       "    80% {\n",
       "      border-color: transparent;\n",
       "      border-right-color: var(--fill-color);\n",
       "      border-bottom-color: var(--fill-color);\n",
       "    }\n",
       "    90% {\n",
       "      border-color: transparent;\n",
       "      border-bottom-color: var(--fill-color);\n",
       "    }\n",
       "  }\n",
       "</style>\n",
       "\n",
       "  <script>\n",
       "    async function quickchart(key) {\n",
       "      const quickchartButtonEl =\n",
       "        document.querySelector('#' + key + ' button');\n",
       "      quickchartButtonEl.disabled = true;  // To prevent multiple clicks.\n",
       "      quickchartButtonEl.classList.add('colab-df-spinner');\n",
       "      try {\n",
       "        const charts = await google.colab.kernel.invokeFunction(\n",
       "            'suggestCharts', [key], {});\n",
       "      } catch (error) {\n",
       "        console.error('Error during call to suggestCharts:', error);\n",
       "      }\n",
       "      quickchartButtonEl.classList.remove('colab-df-spinner');\n",
       "      quickchartButtonEl.classList.add('colab-df-quickchart-complete');\n",
       "    }\n",
       "    (() => {\n",
       "      let quickchartButtonEl =\n",
       "        document.querySelector('#df-d5ad3140-dead-4803-8862-c93c99b0b4d9 button');\n",
       "      quickchartButtonEl.style.display =\n",
       "        google.colab.kernel.accessAllowed ? 'block' : 'none';\n",
       "    })();\n",
       "  </script>\n",
       "</div>\n",
       "\n",
       "    </div>\n",
       "  </div>\n"
      ],
      "text/plain": [
       "           pers\n",
       "0.000000      0\n",
       "11.066690     1\n",
       "11.253670     2\n",
       "15.285012     3\n",
       "24.823990     2\n",
       "26.988114     3\n",
       "31.060139     2\n",
       "43.854288     1\n",
       "53.839443     2\n",
       "59.385668     1"
      ]
     },
     "execution_count": 6,
     "metadata": {},
     "output_type": "execute_result"
    }
   ],
   "source": [
    "cua.head(10)"
   ]
  },
  {
   "cell_type": "code",
   "execution_count": null,
   "id": "f1330dac",
   "metadata": {
    "colab": {
     "base_uri": "https://localhost:8080/",
     "height": 447
    },
    "executionInfo": {
     "elapsed": 399,
     "status": "ok",
     "timestamp": 1742202771777,
     "user": {
      "displayName": "Gabriel JM",
      "userId": "04913946655420947744"
     },
     "user_tz": -60
    },
    "id": "f1330dac",
    "outputId": "fc7c651e-e05b-429f-f54d-00991b5b7d4a"
   },
   "outputs": [
    {
     "data": {
      "text/plain": [
       "<Axes: >"
      ]
     },
     "execution_count": 19,
     "metadata": {},
     "output_type": "execute_result"
    },
    {
     "data": {
      "image/png": "[encoded data removed]",
      "text/plain": [
       "<Figure size 640x480 with 1 Axes>"
      ]
     },
     "metadata": {},
     "output_type": "display_data"
    }
   ],
   "source": [
    "cua.plot()"
   ]
  },
  {
   "cell_type": "markdown",
   "id": "03756f77",
   "metadata": {
    "id": "03756f77"
   },
   "source": [
    "Per estimar el rendiment del nostre sistema podem mesurar diferents paràmetres\n",
    "\n",
    "- Quina és la llargària mitjana de la cua?\n",
    "- Quin és el temps mitjà fent cua?\n",
    "- Quin percentatge del temps estan les taquilles ocupades?\n"
   ]
  },
  {
   "cell_type": "markdown",
   "id": "d4826dff",
   "metadata": {
    "id": "d4826dff"
   },
   "source": [
    "- La simulació és una composició d'esdeveniments estocàstics\n",
    "    - El resultat té una component aleatòria\n",
    "    - Cal repetir la simulació prou cops per obtenir un resultat estable\n",
    "    - La distribució de resultats ens pot donar molta informació"
   ]
  },
  {
   "cell_type": "markdown",
   "id": "b62a14be",
   "metadata": {
    "id": "b62a14be"
   },
   "source": [
    "## Altres exemples"
   ]
  },
  {
   "cell_type": "markdown",
   "id": "d7601808",
   "metadata": {
    "id": "d7601808"
   },
   "source": [
    "- [Transport](https://colab.research.google.com/github/vitostamatti/discrete-event-simulation-simpy/blob/main/notebooks/02-transportation_examples.ipynb)\n",
    "- [Fluix d'entitats](https://colab.research.google.com/github/vitostamatti/discrete-event-simulation-simpy/blob/main/notebooks/03-entity_flow_examples.ipynb)\n",
    "- [Benzinera](https://colab.research.google.com/github/vitostamatti/discrete-event-simulation-simpy/blob/main/notebooks/04-fuel_station_example.ipynb)"
   ]
  },
  {
   "cell_type": "markdown",
   "id": "d928e593",
   "metadata": {
    "id": "d928e593"
   },
   "source": [
    "# Bibliografia\n",
    "\n",
    "\n",
    "- <a id='bib_Law'></a> Law, Averill M., **2015**. *Simulation modeling and analysis*. Mcgraw-Hill.\n",
    "- <a id='bib_Law'></a> Cantot, Pascal, **2011**. *Simulation and Modeling of Systems of Systems*. John Wiley & Sons.\n",
    "- <a id='bib_Law'></a> Kroese, Dirk P., **2011**. *Handbook of Monte Carlo Methods*. John Wiley & Sons."
   ]
  },
  {
   "cell_type": "markdown",
   "id": "c105f73a",
   "metadata": {
    "id": "c105f73a"
   },
   "source": [
    "# Referències\n",
    "\n",
    "- [SimPy](https://simpy.readthedocs.io)\n",
    "- [Discrete Event Simulation with Python](https://github.com/vitostamatti/discrete-event-simulation-python/)"
   ]
  },
  {
   "cell_type": "markdown",
   "id": "95e9c092",
   "metadata": {
    "id": "95e9c092"
   },
   "source": [
    "Copyright (C) 2025 Gabriel Jover Mañas\n",
    "\n",
    "    Permission is granted to copy, distribute and/or modify this document\n",
    "    under the terms of the GNU Free Documentation License, Version 1.3\n",
    "    or any later version published by the Free Software Foundation;\n",
    "    with no Invariant Sections, no Front-Cover Texts, and no Back-Cover Texts.\n",
    "    A copy of the license is included in the section entitled \"GNU\n",
    "    Free Documentation License\".\n",
    "\n",
    "![GFDL][GFDL]\n",
    "\n",
    "    This program is free software: you can redistribute it and/or modify\n",
    "    it under the terms of the GNU General Public License as published by\n",
    "    the Free Software Foundation, either version 3 of the License, or\n",
    "    (at your option) any later version.\n",
    "\n",
    "    This program is distributed in the hope that it will be useful,\n",
    "    but WITHOUT ANY WARRANTY; without even the implied warranty of\n",
    "    MERCHANTABILITY or FITNESS FOR A PARTICULAR PURPOSE.  See the\n",
    "    GNU General Public License for more details.\n",
    "\n",
    "    You should have received a copy of the GNU General Public License\n",
    "    along with this program.  If not, see <https://www.gnu.org/licenses/>.\n",
    "\n",
    "![GPL3][GPL3]\n",
    "\n",
    "[GFDL]: https://www.gnu.org/graphics/gfdl-logo.svg\n",
    "[GPL3]: https://www.gnu.org/graphics/gplv3-or-later.svg"
   ]
  }
 ],
 "metadata": {
  "colab": {
   "provenance": []
  },
  "jupytext": {
   "formats": "ipynb,py:percent"
  },
  "kernelspec": {
   "display_name": "Python 3 (ipykernel)",
   "language": "python",
   "name": "python3"
  },
  "language_info": {
   "codemirror_mode": {
    "name": "ipython",
    "version": 3
   },
   "file_extension": ".py",
   "mimetype": "text/x-python",
   "name": "python",
   "nbconvert_exporter": "python",
   "pygments_lexer": "ipython3",
   "version": "3.9.16"
  }
 },
 "nbformat": 4,
 "nbformat_minor": 5
}
