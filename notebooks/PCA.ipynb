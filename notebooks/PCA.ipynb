{
 "cells": [
  {
   "cell_type": "markdown",
   "id": "a47e3ba1",
   "metadata": {
    "slideshow": {
     "slide_type": "slide"
    }
   },
   "source": [
    "# Modelització\n",
    "## Anàlisi de components principals"
   ]
  },
  {
   "cell_type": "markdown",
   "id": "add9a53a",
   "metadata": {
    "slideshow": {
     "slide_type": "slide"
    }
   },
   "source": [
    "[<center><img src=./static/Many_features.png width=90%></center>](#img_Many_features)"
   ]
  },
  {
   "cell_type": "markdown",
   "id": "74f996db",
   "metadata": {
    "slideshow": {
     "slide_type": "notes"
    }
   },
   "source": [
    "- Quan tractem amb big data ens podem trobar amb un excés de factors\n",
    "- Per modelitzar hem de limitar la complexitat del model\n",
    "- PCA cerca un subespai de factors que maximitza la variabilitat de les dades"
   ]
  },
  {
   "cell_type": "markdown",
   "id": "8bce80dd",
   "metadata": {
    "slideshow": {
     "slide_type": "slide"
    }
   },
   "source": [
    "## Matriu de covariància\n",
    "- És una matriu $n \\times n$ amb la covariància de cada parell de variables\n",
    "- La diagonal conté les variàncies de cada variable\n",
    "- En ser una matriu simètrica (hermítica) és diagonalitzable i podem aplicar el teorema espectral"
   ]
  },
  {
   "cell_type": "markdown",
   "id": "f9c2d9ee",
   "metadata": {
    "slideshow": {
     "slide_type": "slide"
    }
   },
   "source": [
    "## Taula de dades\n",
    "- A partir d'una taula de dades amb $n$ factors i $m$ entrades podem construir una matriu de covariància\n"
   ]
  },
  {
   "cell_type": "markdown",
   "id": "39ec1e28",
   "metadata": {
    "slideshow": {
     "slide_type": "subslide"
    }
   },
   "source": [
    "- Sigui $\\bf x$ un vector representant n factors $\\{x_j |\\, j = 1, \\dots , n\\}$\n",
    "- Siguen $\\{{\\bf x^{\\alpha}} |\\, \\alpha = 1, \\dots , m \\}$ les mostres adquirides en el procés de mesura\n",
    "- La taula de dades és $X_{j, \\alpha} = x^\\alpha_j$\n",
    "- El primer moment és $${\\bf \\mu} \\equiv \\frac{1}{m}\\sum^m_{\\alpha = 1}{\\bf x^\\alpha}$$\n",
    "- La matriu de covariància és $$C \\equiv \\frac{1}{m}\\sum^m_{\\alpha = 1}{\\bf (x^\\alpha - \\mu)(x^\\alpha - \\mu)^T}$$\n",
    "- Sigui ${\\bf A}_{j, \\alpha} = x^\\alpha_j - \\mu_j$: $$C \\equiv \\frac{1}{m}{\\bf A A^T} $$"
   ]
  },
  {
   "cell_type": "markdown",
   "id": "166cb88f",
   "metadata": {
    "slideshow": {
     "slide_type": "slide"
    }
   },
   "source": [
    "## Anàlisi de components principals (PCA)\n",
    "- Volem trobar els factors que maximitzen la variància\n",
    "- Valorar quants components principals necessitem"
   ]
  },
  {
   "cell_type": "markdown",
   "id": "0110942a",
   "metadata": {
    "slideshow": {
     "slide_type": "notes"
    }
   },
   "source": [
    " Volem trobar els valors propis i la rotació que maximitza la variància del núvol de punts en els eixos principals"
   ]
  },
  {
   "cell_type": "markdown",
   "id": "b4fd36fd",
   "metadata": {
    "slideshow": {
     "slide_type": "subslide"
    }
   },
   "source": [
    "- Per trobar el PCA podem fer una descomposició de valors singulars $\\Gamma$\n",
    "- Sigui ${\\bf A} = {\\bf U \\Gamma V^T}$ i $\\bf V V^T = I$\n",
    "\n",
    "$$C \\equiv \\frac{1}{m}{\\bf A A^T} = \\frac{1}{m}{\\bf U \\Gamma^2 U^T}$$\n",
    "\n",
    "- Si $n < m$ les primeres $n$ columnes de $\\bf U$ seran els vectors propis  de $\\bf C$\n",
    "- En aquest cas podem ordenar i representar gràficament els valors singulars i decidir quants components farem servir.\n",
    "- La matriu pot ser mal condicionada si les variàncies estan per sota de la resolució numèrica"
   ]
  },
  {
   "cell_type": "markdown",
   "id": "fa44e812",
   "metadata": {
    "slideshow": {
     "slide_type": "subslide"
    }
   },
   "source": [
    "- Si tenim poques dades $n \\ge m$ \n",
    "- les primeres $m$ columnes de $\\bf U$ seran els vectors propis  de $\\bf C$ i podem escriure:\n",
    "\n",
    "$${\\bf Y} \\equiv {\\bf \\bar{U}^T A} = {\\bf \\bar{U}^T U \\Gamma V^T} = {\\bf \\Gamma V^T}$$\n",
    "\n",
    "- Reduint les components a $m$"
   ]
  },
  {
   "cell_type": "markdown",
   "id": "bd425ead",
   "metadata": {
    "slideshow": {
     "slide_type": "slide"
    }
   },
   "source": [
    "## Exemple \n",
    "### El mercat d'habitatge a Ames\n",
    "\n",
    "[Holbrook 2021](#bib_Holbrook)"
   ]
  },
  {
   "cell_type": "code",
   "execution_count": 290,
   "id": "84c58006",
   "metadata": {
    "slideshow": {
     "slide_type": "skip"
    }
   },
   "outputs": [],
   "source": [
    "import numpy as np\n",
    "import pandas as pd\n",
    "import matplotlib.pyplot as plt\n",
    "from sklearn.decomposition import PCA"
   ]
  },
  {
   "cell_type": "markdown",
   "id": "417273db",
   "metadata": {
    "slideshow": {
     "slide_type": "subslide"
    }
   },
   "source": [
    "- Ames és un dataset que podeu trobar a kaggle.com per fer diferents exercicis.\n",
    "- Descriu la venda d'habitatges a Ames (Iowa), entre 2006 i 2010.\n",
    "- Es va crear per tasques didàctiques i conté  2930 observacions de gran nombre de variables \n",
    "    - 23 nominals, 23 ordinals, 14 discretes i 20 contínues"
   ]
  },
  {
   "cell_type": "code",
   "execution_count": 291,
   "id": "efb2c215",
   "metadata": {
    "slideshow": {
     "slide_type": "fragment"
    }
   },
   "outputs": [
    {
     "name": "stdout",
     "output_type": "stream",
     "text": [
      "   Id  MSSubClass MSZoning  LotFrontage  LotArea Street Alley LotShape  \\\n",
      "0   1          60       RL         65.0     8450   Pave   NaN      Reg   \n",
      "1   2          20       RL         80.0     9600   Pave   NaN      Reg   \n",
      "2   3          60       RL         68.0    11250   Pave   NaN      IR1   \n",
      "3   4          70       RL         60.0     9550   Pave   NaN      IR1   \n",
      "4   5          60       RL         84.0    14260   Pave   NaN      IR1   \n",
      "\n",
      "  LandContour Utilities  ... PoolArea PoolQC Fence MiscFeature MiscVal MoSold  \\\n",
      "0         Lvl    AllPub  ...        0    NaN   NaN         NaN       0      2   \n",
      "1         Lvl    AllPub  ...        0    NaN   NaN         NaN       0      5   \n",
      "2         Lvl    AllPub  ...        0    NaN   NaN         NaN       0      9   \n",
      "3         Lvl    AllPub  ...        0    NaN   NaN         NaN       0      2   \n",
      "4         Lvl    AllPub  ...        0    NaN   NaN         NaN       0     12   \n",
      "\n",
      "  YrSold  SaleType  SaleCondition  SalePrice  \n",
      "0   2008        WD         Normal     208500  \n",
      "1   2007        WD         Normal     181500  \n",
      "2   2008        WD         Normal     223500  \n",
      "3   2006        WD        Abnorml     140000  \n",
      "4   2008        WD         Normal     250000  \n",
      "\n",
      "[5 rows x 81 columns]\n"
     ]
    }
   ],
   "source": [
    "df = pd.read_csv(\"../data/ames.csv\")\n",
    "print(df.head())"
   ]
  },
  {
   "cell_type": "markdown",
   "id": "074b2b99",
   "metadata": {
    "slideshow": {
     "slide_type": "subslide"
    }
   },
   "source": [
    "- Comencem triant només variables numerals\n",
    "- Construïm la matriu de dades centrades $\\bf A$"
   ]
  },
  {
   "cell_type": "code",
   "execution_count": 292,
   "id": "d5cd0fb9",
   "metadata": {
    "slideshow": {
     "slide_type": "fragment"
    }
   },
   "outputs": [],
   "source": [
    "X = df.select_dtypes(['number']).dropna().copy()\n",
    "m = len(X)\n",
    "A = (X - X.mean(axis=0)) / m"
   ]
  },
  {
   "cell_type": "markdown",
   "id": "c2d22fba",
   "metadata": {
    "slideshow": {
     "slide_type": "subslide"
    }
   },
   "source": [
    "- Calculant la matriu de covariància podem observar variables amb variàncies molt dispars"
   ]
  },
  {
   "cell_type": "code",
   "execution_count": 293,
   "id": "23675105",
   "metadata": {
    "slideshow": {
     "slide_type": "fragment"
    }
   },
   "outputs": [
    {
     "data": {
      "text/html": [
       "<div>\n",
       "<style scoped>\n",
       "    .dataframe tbody tr th:only-of-type {\n",
       "        vertical-align: middle;\n",
       "    }\n",
       "\n",
       "    .dataframe tbody tr th {\n",
       "        vertical-align: top;\n",
       "    }\n",
       "\n",
       "    .dataframe thead th {\n",
       "        text-align: right;\n",
       "    }\n",
       "</style>\n",
       "<table border=\"1\" class=\"dataframe\">\n",
       "  <thead>\n",
       "    <tr style=\"text-align: right;\">\n",
       "      <th></th>\n",
       "      <th>Id</th>\n",
       "      <th>MSSubClass</th>\n",
       "      <th>LotFrontage</th>\n",
       "      <th>LotArea</th>\n",
       "      <th>OverallQual</th>\n",
       "      <th>OverallCond</th>\n",
       "      <th>YearBuilt</th>\n",
       "      <th>YearRemodAdd</th>\n",
       "      <th>MasVnrArea</th>\n",
       "      <th>BsmtFinSF1</th>\n",
       "      <th>...</th>\n",
       "      <th>WoodDeckSF</th>\n",
       "      <th>OpenPorchSF</th>\n",
       "      <th>EnclosedPorch</th>\n",
       "      <th>3SsnPorch</th>\n",
       "      <th>ScreenPorch</th>\n",
       "      <th>PoolArea</th>\n",
       "      <th>MiscVal</th>\n",
       "      <th>MoSold</th>\n",
       "      <th>YrSold</th>\n",
       "      <th>SalePrice</th>\n",
       "    </tr>\n",
       "  </thead>\n",
       "  <tbody>\n",
       "    <tr>\n",
       "      <th>Id</th>\n",
       "      <td>0.140763</td>\n",
       "      <td>0.000307</td>\n",
       "      <td>-0.000108</td>\n",
       "      <td>-0.110716</td>\n",
       "      <td>-0.000027</td>\n",
       "      <td>1.567633e-06</td>\n",
       "      <td>-0.000216</td>\n",
       "      <td>-0.000195</td>\n",
       "      <td>-0.004658</td>\n",
       "      <td>-0.002155</td>\n",
       "      <td>...</td>\n",
       "      <td>-0.001022</td>\n",
       "      <td>-0.000042</td>\n",
       "      <td>0.000204</td>\n",
       "      <td>-6.656597e-04</td>\n",
       "      <td>0.000294</td>\n",
       "      <td>0.000646</td>\n",
       "      <td>0.002540</td>\n",
       "      <td>-5.124192e-07</td>\n",
       "      <td>5.987701e-06</td>\n",
       "      <td>-1.308401</td>\n",
       "    </tr>\n",
       "    <tr>\n",
       "      <th>MSSubClass</th>\n",
       "      <td>0.000307</td>\n",
       "      <td>0.001387</td>\n",
       "      <td>-0.000312</td>\n",
       "      <td>-0.053484</td>\n",
       "      <td>0.000001</td>\n",
       "      <td>-3.117086e-06</td>\n",
       "      <td>0.000027</td>\n",
       "      <td>0.000005</td>\n",
       "      <td>0.000253</td>\n",
       "      <td>-0.001095</td>\n",
       "      <td>...</td>\n",
       "      <td>-0.000073</td>\n",
       "      <td>0.000009</td>\n",
       "      <td>-0.000036</td>\n",
       "      <td>-3.929397e-05</td>\n",
       "      <td>-0.000042</td>\n",
       "      <td>0.000004</td>\n",
       "      <td>-0.000224</td>\n",
       "      <td>-2.425465e-06</td>\n",
       "      <td>-5.519279e-07</td>\n",
       "      <td>-0.242665</td>\n",
       "    </tr>\n",
       "    <tr>\n",
       "      <th>LotFrontage</th>\n",
       "      <td>-0.000108</td>\n",
       "      <td>-0.000312</td>\n",
       "      <td>0.000468</td>\n",
       "      <td>0.066060</td>\n",
       "      <td>0.000006</td>\n",
       "      <td>-9.544902e-07</td>\n",
       "      <td>0.000066</td>\n",
       "      <td>0.000035</td>\n",
       "      <td>0.000695</td>\n",
       "      <td>0.002181</td>\n",
       "      <td>...</td>\n",
       "      <td>0.000193</td>\n",
       "      <td>0.000201</td>\n",
       "      <td>0.000017</td>\n",
       "      <td>4.004615e-05</td>\n",
       "      <td>0.000040</td>\n",
       "      <td>0.000164</td>\n",
       "      <td>0.000005</td>\n",
       "      <td>9.756928e-07</td>\n",
       "      <td>3.417308e-07</td>\n",
       "      <td>0.551298</td>\n",
       "    </tr>\n",
       "    <tr>\n",
       "      <th>LotArea</th>\n",
       "      <td>-0.110716</td>\n",
       "      <td>-0.053484</td>\n",
       "      <td>0.066060</td>\n",
       "      <td>52.542141</td>\n",
       "      <td>0.001495</td>\n",
       "      <td>-2.371497e-04</td>\n",
       "      <td>0.005846</td>\n",
       "      <td>0.003649</td>\n",
       "      <td>0.129970</td>\n",
       "      <td>0.697618</td>\n",
       "      <td>...</td>\n",
       "      <td>0.105214</td>\n",
       "      <td>0.041272</td>\n",
       "      <td>-0.009360</td>\n",
       "      <td>2.409260e-03</td>\n",
       "      <td>0.027092</td>\n",
       "      <td>0.028375</td>\n",
       "      <td>0.013703</td>\n",
       "      <td>1.563253e-04</td>\n",
       "      <td>-5.957218e-05</td>\n",
       "      <td>160.914325</td>\n",
       "    </tr>\n",
       "    <tr>\n",
       "      <th>OverallQual</th>\n",
       "      <td>-0.000027</td>\n",
       "      <td>0.000001</td>\n",
       "      <td>0.000006</td>\n",
       "      <td>0.001495</td>\n",
       "      <td>0.000002</td>\n",
       "      <td>-1.913426e-07</td>\n",
       "      <td>0.000020</td>\n",
       "      <td>0.000013</td>\n",
       "      <td>0.000088</td>\n",
       "      <td>0.000128</td>\n",
       "      <td>...</td>\n",
       "      <td>0.000038</td>\n",
       "      <td>0.000024</td>\n",
       "      <td>-0.000010</td>\n",
       "      <td>5.664724e-07</td>\n",
       "      <td>0.000004</td>\n",
       "      <td>0.000004</td>\n",
       "      <td>-0.000011</td>\n",
       "      <td>2.357571e-07</td>\n",
       "      <td>-1.304819e-08</td>\n",
       "      <td>0.072703</td>\n",
       "    </tr>\n",
       "  </tbody>\n",
       "</table>\n",
       "<p>5 rows × 38 columns</p>\n",
       "</div>"
      ],
      "text/plain": [
       "                   Id  MSSubClass  LotFrontage    LotArea  OverallQual  \\\n",
       "Id           0.140763    0.000307    -0.000108  -0.110716    -0.000027   \n",
       "MSSubClass   0.000307    0.001387    -0.000312  -0.053484     0.000001   \n",
       "LotFrontage -0.000108   -0.000312     0.000468   0.066060     0.000006   \n",
       "LotArea     -0.110716   -0.053484     0.066060  52.542141     0.001495   \n",
       "OverallQual -0.000027    0.000001     0.000006   0.001495     0.000002   \n",
       "\n",
       "              OverallCond  YearBuilt  YearRemodAdd  MasVnrArea  BsmtFinSF1  \\\n",
       "Id           1.567633e-06  -0.000216     -0.000195   -0.004658   -0.002155   \n",
       "MSSubClass  -3.117086e-06   0.000027      0.000005    0.000253   -0.001095   \n",
       "LotFrontage -9.544902e-07   0.000066      0.000035    0.000695    0.002181   \n",
       "LotArea     -2.371497e-04   0.005846      0.003649    0.129970    0.697618   \n",
       "OverallQual -1.913426e-07   0.000020      0.000013    0.000088    0.000128   \n",
       "\n",
       "             ...  WoodDeckSF  OpenPorchSF  EnclosedPorch     3SsnPorch  \\\n",
       "Id           ...   -0.001022    -0.000042       0.000204 -6.656597e-04   \n",
       "MSSubClass   ...   -0.000073     0.000009      -0.000036 -3.929397e-05   \n",
       "LotFrontage  ...    0.000193     0.000201       0.000017  4.004615e-05   \n",
       "LotArea      ...    0.105214     0.041272      -0.009360  2.409260e-03   \n",
       "OverallQual  ...    0.000038     0.000024      -0.000010  5.664724e-07   \n",
       "\n",
       "             ScreenPorch  PoolArea   MiscVal        MoSold        YrSold  \\\n",
       "Id              0.000294  0.000646  0.002540 -5.124192e-07  5.987701e-06   \n",
       "MSSubClass     -0.000042  0.000004 -0.000224 -2.425465e-06 -5.519279e-07   \n",
       "LotFrontage     0.000040  0.000164  0.000005  9.756928e-07  3.417308e-07   \n",
       "LotArea         0.027092  0.028375  0.013703  1.563253e-04 -5.957218e-05   \n",
       "OverallQual     0.000004  0.000004 -0.000011  2.357571e-07 -1.304819e-08   \n",
       "\n",
       "              SalePrice  \n",
       "Id            -1.308401  \n",
       "MSSubClass    -0.242665  \n",
       "LotFrontage    0.551298  \n",
       "LotArea      160.914325  \n",
       "OverallQual    0.072703  \n",
       "\n",
       "[5 rows x 38 columns]"
      ]
     },
     "execution_count": 293,
     "metadata": {},
     "output_type": "execute_result"
    }
   ],
   "source": [
    "C = A.T @ A / m\n",
    "C.head()"
   ]
  },
  {
   "cell_type": "markdown",
   "id": "0f2bba37",
   "metadata": {
    "slideshow": {
     "slide_type": "subslide"
    }
   },
   "source": [
    "- És més convenient normalitzar les dades per la desviació estàndard"
   ]
  },
  {
   "cell_type": "code",
   "execution_count": 294,
   "id": "f937cf11",
   "metadata": {
    "slideshow": {
     "slide_type": "fragment"
    }
   },
   "outputs": [],
   "source": [
    "A = (X - X.mean(axis=0)) / X.std(axis=0)\n",
    "C = A.T @ A / m"
   ]
  },
  {
   "cell_type": "markdown",
   "id": "5b0e5ff6",
   "metadata": {
    "slideshow": {
     "slide_type": "subslide"
    }
   },
   "source": [
    "- Podem obtenir els valor singulars de la matriu manualment\n",
    "- Trobar els vectors propis de la rotació"
   ]
  },
  {
   "cell_type": "code",
   "execution_count": 295,
   "id": "1b985587",
   "metadata": {
    "slideshow": {
     "slide_type": "fragment"
    }
   },
   "outputs": [
    {
     "data": {
      "text/plain": [
       "array([ 9.20659637e+03,  3.53832152e+03,  3.03095027e+03,  2.28808910e+03,\n",
       "        1.71970713e+03,  1.14163497e+02,  1.32426683e+02,  1.57486579e+02,\n",
       "        1.69336511e+02,  1.96442561e+02,  2.30356428e+02,  2.83799531e+02,\n",
       "        3.04110647e+02,  3.60674098e+02,  4.43256894e+02,  4.30043077e+02,\n",
       "        1.40940714e+03,  1.36984937e+03,  5.27854100e+02,  1.27796158e+03,\n",
       "        1.27165216e+03,  1.23872579e+03,  1.20897225e+03,  1.16046543e+03,\n",
       "        1.14947920e+03,  5.92743532e+02,  1.03555582e+03,  1.02531618e+03,\n",
       "        9.99036120e+02,  6.74934192e+02,  9.44168065e+02,  7.22852851e+02,\n",
       "        7.67659807e+02,  8.86074372e+02,  8.36207511e+02,  8.55323640e+02,\n",
       "       -2.56002691e-13,  7.17770016e-13])"
      ]
     },
     "execution_count": 295,
     "metadata": {},
     "output_type": "execute_result"
    }
   ],
   "source": [
    "l, U = np.linalg.eig(C)\n",
    "gamma2 = np.diagonal(np.linalg.inv(U) @ (m*C) @ U)\n",
    "gamma2"
   ]
  },
  {
   "cell_type": "markdown",
   "id": "9fe812de",
   "metadata": {
    "slideshow": {
     "slide_type": "subslide"
    }
   },
   "source": [
    "- Podem veure que $\\bf \\Gamma^2$ està mal condicionada\n",
    "- Per obtenir els valors singulars eliminarem els dos darrer valor per fer l'arrel\n",
    "- Normalitzant els valors propis obtindrem el percentatge de variància (PoV) de cada component"
   ]
  },
  {
   "cell_type": "code",
   "execution_count": 296,
   "id": "b1c84868",
   "metadata": {
    "slideshow": {
     "slide_type": "fragment"
    }
   },
   "outputs": [
    {
     "name": "stdout",
     "output_type": "stream",
     "text": [
      "[95.95101027 59.48379204 55.05406682 47.83397435 41.46935171 37.5420716\n",
      " 37.01147614 35.74858854 35.66023222 35.19553656 34.77027823 34.06560474\n",
      " 33.90397022 32.18005311 32.02055866 31.60753265 30.72731789 29.76700139\n",
      " 29.24591664 28.91725282 27.70667441 26.88592292 25.9794956  24.34632482\n",
      " 22.97507562 21.05366699 20.73748002 18.99142168 17.43876849 16.84635068\n",
      " 15.17749743 14.01579685 13.01293629 12.5493657  11.5076793  10.68473194]\n"
     ]
    },
    {
     "data": {
      "text/plain": [
       "[<matplotlib.lines.Line2D at 0x7f8a2f42c160>]"
      ]
     },
     "execution_count": 296,
     "metadata": {},
     "output_type": "execute_result"
    },
    {
     "data": {
      "image/png": "[encoded data removed]",
      "text/plain": [
       "<Figure size 432x288 with 1 Axes>"
      ]
     },
     "metadata": {
      "needs_background": "light"
     },
     "output_type": "display_data"
    }
   ],
   "source": [
    "gamma = np.sqrt(gamma2[:-2])\n",
    "print(np.sort(gamma)[::-1])\n",
    "norm = np.sum(l)\n",
    "plt.plot(np.sort(l)[::-1] / norm)"
   ]
  },
  {
   "cell_type": "markdown",
   "id": "d9acbef6",
   "metadata": {
    "slideshow": {
     "slide_type": "subslide"
    }
   },
   "source": [
    "- El mateix ho podem fer amb scikit introduint directament les dades centrades"
   ]
  },
  {
   "cell_type": "code",
   "execution_count": 297,
   "id": "2f358a7b",
   "metadata": {
    "slideshow": {
     "slide_type": "fragment"
    }
   },
   "outputs": [
    {
     "name": "stdout",
     "output_type": "stream",
     "text": [
      "[9.59510103e+01 5.94837920e+01 5.50540668e+01 4.78339744e+01\n",
      " 4.14693517e+01 3.75420716e+01 3.70114761e+01 3.57485885e+01\n",
      " 3.56602322e+01 3.51955366e+01 3.47702782e+01 3.40656047e+01\n",
      " 3.39039702e+01 3.21800531e+01 3.20205587e+01 3.16075327e+01\n",
      " 3.07273179e+01 2.97670014e+01 2.92459166e+01 2.89172528e+01\n",
      " 2.77066744e+01 2.68859229e+01 2.59794956e+01 2.43463248e+01\n",
      " 2.29750756e+01 2.10536670e+01 2.07374800e+01 1.89914217e+01\n",
      " 1.74387685e+01 1.68463507e+01 1.51774974e+01 1.40157968e+01\n",
      " 1.30129363e+01 1.25493657e+01 1.15076793e+01 1.06847319e+01\n",
      " 4.26108083e-14 6.10485938e-15]\n"
     ]
    },
    {
     "data": {
      "text/plain": [
       "[<matplotlib.lines.Line2D at 0x7f8a2f472560>]"
      ]
     },
     "execution_count": 297,
     "metadata": {},
     "output_type": "execute_result"
    },
    {
     "data": {
      "image/png": "[encoded data removed]",
      "text/plain": [
       "<Figure size 432x288 with 1 Axes>"
      ]
     },
     "metadata": {
      "needs_background": "light"
     },
     "output_type": "display_data"
    }
   ],
   "source": [
    "pca = PCA()\n",
    "A_pca = pca.fit_transform(A)\n",
    "print(pca.singular_values_)\n",
    "plt.plot(pca.explained_variance_ratio_)"
   ]
  },
  {
   "cell_type": "markdown",
   "id": "26e0612c",
   "metadata": {
    "slideshow": {
     "slide_type": "subslide"
    }
   },
   "source": [
    "- Podem representar les dades en funció de les components principals"
   ]
  },
  {
   "cell_type": "code",
   "execution_count": 298,
   "id": "6abfe8a7",
   "metadata": {
    "slideshow": {
     "slide_type": "fragment"
    }
   },
   "outputs": [
    {
     "data": {
      "text/html": [
       "<div>\n",
       "<style scoped>\n",
       "    .dataframe tbody tr th:only-of-type {\n",
       "        vertical-align: middle;\n",
       "    }\n",
       "\n",
       "    .dataframe tbody tr th {\n",
       "        vertical-align: top;\n",
       "    }\n",
       "\n",
       "    .dataframe thead th {\n",
       "        text-align: right;\n",
       "    }\n",
       "</style>\n",
       "<table border=\"1\" class=\"dataframe\">\n",
       "  <thead>\n",
       "    <tr style=\"text-align: right;\">\n",
       "      <th></th>\n",
       "      <th>PC1</th>\n",
       "      <th>PC2</th>\n",
       "      <th>PC3</th>\n",
       "      <th>PC4</th>\n",
       "      <th>PC5</th>\n",
       "      <th>PC6</th>\n",
       "      <th>PC7</th>\n",
       "      <th>PC8</th>\n",
       "      <th>PC9</th>\n",
       "      <th>PC10</th>\n",
       "      <th>...</th>\n",
       "      <th>PC29</th>\n",
       "      <th>PC30</th>\n",
       "      <th>PC31</th>\n",
       "      <th>PC32</th>\n",
       "      <th>PC33</th>\n",
       "      <th>PC34</th>\n",
       "      <th>PC35</th>\n",
       "      <th>PC36</th>\n",
       "      <th>PC37</th>\n",
       "      <th>PC38</th>\n",
       "    </tr>\n",
       "  </thead>\n",
       "  <tbody>\n",
       "    <tr>\n",
       "      <th>0</th>\n",
       "      <td>1.319731</td>\n",
       "      <td>0.460809</td>\n",
       "      <td>-1.281159</td>\n",
       "      <td>-2.148942</td>\n",
       "      <td>0.346890</td>\n",
       "      <td>-0.601457</td>\n",
       "      <td>-1.211502</td>\n",
       "      <td>-0.895835</td>\n",
       "      <td>-0.527543</td>\n",
       "      <td>-0.650879</td>\n",
       "      <td>...</td>\n",
       "      <td>0.139580</td>\n",
       "      <td>-0.104417</td>\n",
       "      <td>0.172636</td>\n",
       "      <td>-0.237479</td>\n",
       "      <td>-0.461278</td>\n",
       "      <td>-0.245835</td>\n",
       "      <td>-0.087474</td>\n",
       "      <td>0.077977</td>\n",
       "      <td>1.140644e-14</td>\n",
       "      <td>-5.882233e-16</td>\n",
       "    </tr>\n",
       "    <tr>\n",
       "      <th>1</th>\n",
       "      <td>-0.257477</td>\n",
       "      <td>-1.002063</td>\n",
       "      <td>1.212648</td>\n",
       "      <td>0.054882</td>\n",
       "      <td>-1.603195</td>\n",
       "      <td>-2.665921</td>\n",
       "      <td>1.383727</td>\n",
       "      <td>2.961815</td>\n",
       "      <td>-0.901601</td>\n",
       "      <td>1.239452</td>\n",
       "      <td>...</td>\n",
       "      <td>-0.810160</td>\n",
       "      <td>-1.079134</td>\n",
       "      <td>0.160015</td>\n",
       "      <td>-0.388965</td>\n",
       "      <td>-0.050488</td>\n",
       "      <td>-0.523719</td>\n",
       "      <td>0.183410</td>\n",
       "      <td>0.002743</td>\n",
       "      <td>2.001131e-14</td>\n",
       "      <td>-9.825173e-17</td>\n",
       "    </tr>\n",
       "    <tr>\n",
       "      <th>2</th>\n",
       "      <td>1.563844</td>\n",
       "      <td>0.349138</td>\n",
       "      <td>-1.134329</td>\n",
       "      <td>-1.554725</td>\n",
       "      <td>-0.263598</td>\n",
       "      <td>-0.608339</td>\n",
       "      <td>0.310285</td>\n",
       "      <td>-0.958591</td>\n",
       "      <td>0.178902</td>\n",
       "      <td>-0.549020</td>\n",
       "      <td>...</td>\n",
       "      <td>0.230559</td>\n",
       "      <td>-0.792103</td>\n",
       "      <td>0.335500</td>\n",
       "      <td>0.204970</td>\n",
       "      <td>-0.099878</td>\n",
       "      <td>0.627959</td>\n",
       "      <td>-0.040716</td>\n",
       "      <td>-0.010966</td>\n",
       "      <td>6.172921e-15</td>\n",
       "      <td>2.230990e-15</td>\n",
       "    </tr>\n",
       "    <tr>\n",
       "      <th>3</th>\n",
       "      <td>-0.591799</td>\n",
       "      <td>1.102228</td>\n",
       "      <td>0.720629</td>\n",
       "      <td>0.013560</td>\n",
       "      <td>0.921279</td>\n",
       "      <td>-0.745528</td>\n",
       "      <td>-0.823362</td>\n",
       "      <td>-2.302580</td>\n",
       "      <td>-1.965097</td>\n",
       "      <td>1.350839</td>\n",
       "      <td>...</td>\n",
       "      <td>0.043222</td>\n",
       "      <td>0.835301</td>\n",
       "      <td>0.758032</td>\n",
       "      <td>0.207866</td>\n",
       "      <td>-0.553493</td>\n",
       "      <td>-0.079595</td>\n",
       "      <td>1.339580</td>\n",
       "      <td>0.697179</td>\n",
       "      <td>-1.034185e-15</td>\n",
       "      <td>6.184501e-16</td>\n",
       "    </tr>\n",
       "    <tr>\n",
       "      <th>4</th>\n",
       "      <td>4.368248</td>\n",
       "      <td>1.401823</td>\n",
       "      <td>-0.354410</td>\n",
       "      <td>-1.294764</td>\n",
       "      <td>0.142606</td>\n",
       "      <td>-1.208472</td>\n",
       "      <td>0.781910</td>\n",
       "      <td>-0.285644</td>\n",
       "      <td>0.836919</td>\n",
       "      <td>-0.404440</td>\n",
       "      <td>...</td>\n",
       "      <td>0.168737</td>\n",
       "      <td>0.060059</td>\n",
       "      <td>-0.060488</td>\n",
       "      <td>0.175750</td>\n",
       "      <td>-0.509391</td>\n",
       "      <td>-0.179464</td>\n",
       "      <td>-0.050883</td>\n",
       "      <td>-0.127301</td>\n",
       "      <td>-1.980440e-15</td>\n",
       "      <td>1.440352e-15</td>\n",
       "    </tr>\n",
       "  </tbody>\n",
       "</table>\n",
       "<p>5 rows × 38 columns</p>\n",
       "</div>"
      ],
      "text/plain": [
       "        PC1       PC2       PC3       PC4       PC5       PC6       PC7  \\\n",
       "0  1.319731  0.460809 -1.281159 -2.148942  0.346890 -0.601457 -1.211502   \n",
       "1 -0.257477 -1.002063  1.212648  0.054882 -1.603195 -2.665921  1.383727   \n",
       "2  1.563844  0.349138 -1.134329 -1.554725 -0.263598 -0.608339  0.310285   \n",
       "3 -0.591799  1.102228  0.720629  0.013560  0.921279 -0.745528 -0.823362   \n",
       "4  4.368248  1.401823 -0.354410 -1.294764  0.142606 -1.208472  0.781910   \n",
       "\n",
       "        PC8       PC9      PC10  ...      PC29      PC30      PC31      PC32  \\\n",
       "0 -0.895835 -0.527543 -0.650879  ...  0.139580 -0.104417  0.172636 -0.237479   \n",
       "1  2.961815 -0.901601  1.239452  ... -0.810160 -1.079134  0.160015 -0.388965   \n",
       "2 -0.958591  0.178902 -0.549020  ...  0.230559 -0.792103  0.335500  0.204970   \n",
       "3 -2.302580 -1.965097  1.350839  ...  0.043222  0.835301  0.758032  0.207866   \n",
       "4 -0.285644  0.836919 -0.404440  ...  0.168737  0.060059 -0.060488  0.175750   \n",
       "\n",
       "       PC33      PC34      PC35      PC36          PC37          PC38  \n",
       "0 -0.461278 -0.245835 -0.087474  0.077977  1.140644e-14 -5.882233e-16  \n",
       "1 -0.050488 -0.523719  0.183410  0.002743  2.001131e-14 -9.825173e-17  \n",
       "2 -0.099878  0.627959 -0.040716 -0.010966  6.172921e-15  2.230990e-15  \n",
       "3 -0.553493 -0.079595  1.339580  0.697179 -1.034185e-15  6.184501e-16  \n",
       "4 -0.509391 -0.179464 -0.050883 -0.127301 -1.980440e-15  1.440352e-15  \n",
       "\n",
       "[5 rows x 38 columns]"
      ]
     },
     "execution_count": 298,
     "metadata": {},
     "output_type": "execute_result"
    }
   ],
   "source": [
    "component_names = [f\"PC{i+1}\" for i in range(A_pca.shape[1])]\n",
    "A_pca = pd.DataFrame(A_pca, columns=component_names)\n",
    "A_pca.head()"
   ]
  },
  {
   "cell_type": "markdown",
   "id": "260b0b6c",
   "metadata": {
    "slideshow": {
     "slide_type": "subslide"
    }
   },
   "source": [
    "- I veure la seva composició"
   ]
  },
  {
   "cell_type": "code",
   "execution_count": 299,
   "id": "355a8729",
   "metadata": {
    "slideshow": {
     "slide_type": "fragment"
    }
   },
   "outputs": [
    {
     "data": {
      "text/html": [
       "<div>\n",
       "<style scoped>\n",
       "    .dataframe tbody tr th:only-of-type {\n",
       "        vertical-align: middle;\n",
       "    }\n",
       "\n",
       "    .dataframe tbody tr th {\n",
       "        vertical-align: top;\n",
       "    }\n",
       "\n",
       "    .dataframe thead th {\n",
       "        text-align: right;\n",
       "    }\n",
       "</style>\n",
       "<table border=\"1\" class=\"dataframe\">\n",
       "  <thead>\n",
       "    <tr style=\"text-align: right;\">\n",
       "      <th></th>\n",
       "      <th>PC1</th>\n",
       "      <th>PC2</th>\n",
       "      <th>PC3</th>\n",
       "      <th>PC4</th>\n",
       "      <th>PC5</th>\n",
       "      <th>PC6</th>\n",
       "      <th>PC7</th>\n",
       "      <th>PC8</th>\n",
       "      <th>PC9</th>\n",
       "      <th>PC10</th>\n",
       "      <th>...</th>\n",
       "      <th>PC29</th>\n",
       "      <th>PC30</th>\n",
       "      <th>PC31</th>\n",
       "      <th>PC32</th>\n",
       "      <th>PC33</th>\n",
       "      <th>PC34</th>\n",
       "      <th>PC35</th>\n",
       "      <th>PC36</th>\n",
       "      <th>PC37</th>\n",
       "      <th>PC38</th>\n",
       "    </tr>\n",
       "  </thead>\n",
       "  <tbody>\n",
       "    <tr>\n",
       "      <th>Id</th>\n",
       "      <td>-0.011307</td>\n",
       "      <td>0.018298</td>\n",
       "      <td>0.009619</td>\n",
       "      <td>-0.012039</td>\n",
       "      <td>0.084735</td>\n",
       "      <td>0.308716</td>\n",
       "      <td>-0.140325</td>\n",
       "      <td>0.135343</td>\n",
       "      <td>0.306803</td>\n",
       "      <td>0.140013</td>\n",
       "      <td>...</td>\n",
       "      <td>-0.022691</td>\n",
       "      <td>0.004167</td>\n",
       "      <td>-0.009188</td>\n",
       "      <td>0.033649</td>\n",
       "      <td>-0.005944</td>\n",
       "      <td>0.012082</td>\n",
       "      <td>-0.014294</td>\n",
       "      <td>-0.008531</td>\n",
       "      <td>1.001741e-16</td>\n",
       "      <td>-0.000000e+00</td>\n",
       "    </tr>\n",
       "    <tr>\n",
       "      <th>MSSubClass</th>\n",
       "      <td>-0.019118</td>\n",
       "      <td>0.177757</td>\n",
       "      <td>-0.210979</td>\n",
       "      <td>-0.328512</td>\n",
       "      <td>0.249552</td>\n",
       "      <td>0.163405</td>\n",
       "      <td>0.144024</td>\n",
       "      <td>0.059874</td>\n",
       "      <td>-0.247494</td>\n",
       "      <td>0.088560</td>\n",
       "      <td>...</td>\n",
       "      <td>0.025760</td>\n",
       "      <td>0.145729</td>\n",
       "      <td>-0.101108</td>\n",
       "      <td>-0.072858</td>\n",
       "      <td>0.119909</td>\n",
       "      <td>-0.027203</td>\n",
       "      <td>-0.075539</td>\n",
       "      <td>0.031236</td>\n",
       "      <td>5.761635e-17</td>\n",
       "      <td>1.219657e-17</td>\n",
       "    </tr>\n",
       "    <tr>\n",
       "      <th>LotFrontage</th>\n",
       "      <td>0.155740</td>\n",
       "      <td>0.000166</td>\n",
       "      <td>0.288545</td>\n",
       "      <td>0.187242</td>\n",
       "      <td>-0.003007</td>\n",
       "      <td>-0.160580</td>\n",
       "      <td>-0.131319</td>\n",
       "      <td>-0.089405</td>\n",
       "      <td>0.197585</td>\n",
       "      <td>-0.030284</td>\n",
       "      <td>...</td>\n",
       "      <td>-0.003105</td>\n",
       "      <td>-0.029249</td>\n",
       "      <td>0.009261</td>\n",
       "      <td>-0.001355</td>\n",
       "      <td>0.050662</td>\n",
       "      <td>-0.034643</td>\n",
       "      <td>0.005789</td>\n",
       "      <td>0.077730</td>\n",
       "      <td>5.123729e-17</td>\n",
       "      <td>2.653378e-16</td>\n",
       "    </tr>\n",
       "    <tr>\n",
       "      <th>LotArea</th>\n",
       "      <td>0.115377</td>\n",
       "      <td>-0.011128</td>\n",
       "      <td>0.285973</td>\n",
       "      <td>0.053399</td>\n",
       "      <td>-0.017216</td>\n",
       "      <td>-0.139527</td>\n",
       "      <td>-0.095455</td>\n",
       "      <td>-0.087529</td>\n",
       "      <td>0.237081</td>\n",
       "      <td>-0.103077</td>\n",
       "      <td>...</td>\n",
       "      <td>-0.046675</td>\n",
       "      <td>0.043449</td>\n",
       "      <td>-0.021645</td>\n",
       "      <td>-0.002588</td>\n",
       "      <td>-0.048216</td>\n",
       "      <td>-0.016845</td>\n",
       "      <td>0.007443</td>\n",
       "      <td>-0.019610</td>\n",
       "      <td>1.493128e-16</td>\n",
       "      <td>-6.161955e-17</td>\n",
       "    </tr>\n",
       "    <tr>\n",
       "      <th>OverallQual</th>\n",
       "      <td>0.288091</td>\n",
       "      <td>-0.017955</td>\n",
       "      <td>-0.093024</td>\n",
       "      <td>-0.015544</td>\n",
       "      <td>-0.142597</td>\n",
       "      <td>0.007924</td>\n",
       "      <td>0.018064</td>\n",
       "      <td>-0.026411</td>\n",
       "      <td>-0.138855</td>\n",
       "      <td>0.027744</td>\n",
       "      <td>...</td>\n",
       "      <td>-0.560660</td>\n",
       "      <td>0.197094</td>\n",
       "      <td>-0.149492</td>\n",
       "      <td>0.171325</td>\n",
       "      <td>-0.518680</td>\n",
       "      <td>0.085696</td>\n",
       "      <td>0.079192</td>\n",
       "      <td>0.060716</td>\n",
       "      <td>-2.085868e-16</td>\n",
       "      <td>2.146063e-16</td>\n",
       "    </tr>\n",
       "  </tbody>\n",
       "</table>\n",
       "<p>5 rows × 38 columns</p>\n",
       "</div>"
      ],
      "text/plain": [
       "                  PC1       PC2       PC3       PC4       PC5       PC6  \\\n",
       "Id          -0.011307  0.018298  0.009619 -0.012039  0.084735  0.308716   \n",
       "MSSubClass  -0.019118  0.177757 -0.210979 -0.328512  0.249552  0.163405   \n",
       "LotFrontage  0.155740  0.000166  0.288545  0.187242 -0.003007 -0.160580   \n",
       "LotArea      0.115377 -0.011128  0.285973  0.053399 -0.017216 -0.139527   \n",
       "OverallQual  0.288091 -0.017955 -0.093024 -0.015544 -0.142597  0.007924   \n",
       "\n",
       "                  PC7       PC8       PC9      PC10  ...      PC29      PC30  \\\n",
       "Id          -0.140325  0.135343  0.306803  0.140013  ... -0.022691  0.004167   \n",
       "MSSubClass   0.144024  0.059874 -0.247494  0.088560  ...  0.025760  0.145729   \n",
       "LotFrontage -0.131319 -0.089405  0.197585 -0.030284  ... -0.003105 -0.029249   \n",
       "LotArea     -0.095455 -0.087529  0.237081 -0.103077  ... -0.046675  0.043449   \n",
       "OverallQual  0.018064 -0.026411 -0.138855  0.027744  ... -0.560660  0.197094   \n",
       "\n",
       "                 PC31      PC32      PC33      PC34      PC35      PC36  \\\n",
       "Id          -0.009188  0.033649 -0.005944  0.012082 -0.014294 -0.008531   \n",
       "MSSubClass  -0.101108 -0.072858  0.119909 -0.027203 -0.075539  0.031236   \n",
       "LotFrontage  0.009261 -0.001355  0.050662 -0.034643  0.005789  0.077730   \n",
       "LotArea     -0.021645 -0.002588 -0.048216 -0.016845  0.007443 -0.019610   \n",
       "OverallQual -0.149492  0.171325 -0.518680  0.085696  0.079192  0.060716   \n",
       "\n",
       "                     PC37          PC38  \n",
       "Id           1.001741e-16 -0.000000e+00  \n",
       "MSSubClass   5.761635e-17  1.219657e-17  \n",
       "LotFrontage  5.123729e-17  2.653378e-16  \n",
       "LotArea      1.493128e-16 -6.161955e-17  \n",
       "OverallQual -2.085868e-16  2.146063e-16  \n",
       "\n",
       "[5 rows x 38 columns]"
      ]
     },
     "execution_count": 299,
     "metadata": {},
     "output_type": "execute_result"
    }
   ],
   "source": [
    "loadings = pd.DataFrame(\n",
    "    pca.components_.T,\n",
    "    columns=component_names,\n",
    "    index=A.columns,\n",
    ")\n",
    "loadings.head()"
   ]
  },
  {
   "cell_type": "code",
   "execution_count": 300,
   "id": "43f5bd7e",
   "metadata": {
    "scrolled": true,
    "slideshow": {
     "slide_type": "subslide"
    }
   },
   "outputs": [
    {
     "data": {
      "image/png": "[encoded data removed]",
      "text/plain": [
       "<Figure size 432x288 with 25 Axes>"
      ]
     },
     "metadata": {
      "needs_background": "light"
     },
     "output_type": "display_data"
    }
   ],
   "source": [
    "plt = pd.plotting.scatter_matrix(A_pca[A_pca.columns[:5]])"
   ]
  },
  {
   "cell_type": "markdown",
   "id": "ac3fdc5b",
   "metadata": {
    "slideshow": {
     "slide_type": "slide"
    }
   },
   "source": [
    " "
   ]
  },
  {
   "cell_type": "markdown",
   "id": "349fab8b",
   "metadata": {
    "slideshow": {
     "slide_type": "skip"
    }
   },
   "source": [
    "# Referències\n",
    "\n",
    "- Elsborg Madsen, R. et.al. **2004**. *Singular Value Decomposition and Principal Component Analysis*.\n",
    "- <a id='bib_Holbrook'></a> Holbrook, R. **2021**. *Exercise: Principal Component Analysis*. kaggle.com\n",
    "- <a id='img_Many_features'></a> El.Sherbini, M.M. **2020**. *Jane_street_Extensive_EDA & PCA starter*. kaggle.com\n",
    "- De Cock, D. **2011**. *Ames, Iowa: Alternative to the Boston Housing Data as an End of Semester Regression Project*. Journal of Statistics Education Volume 19, Number 3(2011),"
   ]
  },
  {
   "cell_type": "markdown",
   "id": "d3fd205b",
   "metadata": {
    "slideshow": {
     "slide_type": "skip"
    }
   },
   "source": [
    "Copyright (C) 2022 Gabriel Jover Mañas\n",
    "\n",
    "    Permission is granted to copy, distribute and/or modify this document\n",
    "    under the terms of the GNU Free Documentation License, Version 1.3\n",
    "    or any later version published by the Free Software Foundation;\n",
    "    with no Invariant Sections, no Front-Cover Texts, and no Back-Cover Texts.\n",
    "    A copy of the license is included in the section entitled \"GNU\n",
    "    Free Documentation License\".\n",
    "\n",
    "![GFDL][GFDL]\n",
    "\n",
    "    This program is free software: you can redistribute it and/or modify\n",
    "    it under the terms of the GNU General Public License as published by\n",
    "    the Free Software Foundation, either version 3 of the License, or\n",
    "    (at your option) any later version.\n",
    "\n",
    "    This program is distributed in the hope that it will be useful,\n",
    "    but WITHOUT ANY WARRANTY; without even the implied warranty of\n",
    "    MERCHANTABILITY or FITNESS FOR A PARTICULAR PURPOSE.  See the\n",
    "    GNU General Public License for more details.\n",
    "\n",
    "    You should have received a copy of the GNU General Public License\n",
    "    along with this program.  If not, see <https://www.gnu.org/licenses/>.\n",
    "\n",
    "![GPL3][GPL3]\n",
    "\n",
    "[GFDL]: https://www.gnu.org/graphics/gfdl-logo.svg\n",
    "[GPL3]: https://www.gnu.org/graphics/gplv3-or-later.svg"
   ]
  }
 ],
 "metadata": {
  "celltoolbar": "Slideshow",
  "kernelspec": {
   "display_name": "Python 3 (ipykernel)",
   "language": "python",
   "name": "python3"
  },
  "language_info": {
   "codemirror_mode": {
    "name": "ipython",
    "version": 3
   },
   "file_extension": ".py",
   "mimetype": "text/x-python",
   "name": "python",
   "nbconvert_exporter": "python",
   "pygments_lexer": "ipython3",
   "version": "3.10.2"
  },
  "livereveal": {
   "autolaunch": true
  },
  "rise": {
   "autolaunch": true,
   "scroll": true
  }
 },
 "nbformat": 4,
 "nbformat_minor": 5
}
