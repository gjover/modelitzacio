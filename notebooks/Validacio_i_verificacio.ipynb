{
 "cells": [
  {
   "cell_type": "markdown",
   "id": "06bbfffe",
   "metadata": {
    "slideshow": {
     "slide_type": "slide"
    }
   },
   "source": [
    "# Modelització\n",
    "## Validació i verificació"
   ]
  },
  {
   "cell_type": "markdown",
   "id": "c587399a",
   "metadata": {
    "slideshow": {
     "slide_type": "subslide"
    }
   },
   "source": [
    "- Per tancar el cicle de modelització hem de validar, verificar el nostre model i interpretar els resultats\n",
    "- Per una banda, hem de verificar que els nostres càlculs representen el model que hem descrit\n",
    "- Per altra banda, hem de validar que el model es correspon amb les dades"
   ]
  },
  {
   "cell_type": "markdown",
   "id": "06af19e1",
   "metadata": {
    "slideshow": {
     "slide_type": "subslide"
    }
   },
   "source": [
    "<center></br>\n",
    "<img src=./static/cicle_modelitzacio_VV.png width=75%>\n",
    "</center>"
   ]
  },
  {
   "cell_type": "code",
   "execution_count": 1,
   "id": "71a6bb41",
   "metadata": {
    "execution": {
     "iopub.execute_input": "2023-03-11T19:08:18.641378Z",
     "iopub.status.busy": "2023-03-11T19:08:18.641212Z",
     "iopub.status.idle": "2023-03-11T19:08:19.187582Z",
     "shell.execute_reply": "2023-03-11T19:08:19.186956Z"
    },
    "slideshow": {
     "slide_type": "skip"
    }
   },
   "outputs": [],
   "source": [
    "import numpy as np\n",
    "from scipy import optimize\n",
    "import pandas as pd\n",
    "import matplotlib.pyplot as plt"
   ]
  },
  {
   "cell_type": "markdown",
   "id": "0c327ba3",
   "metadata": {
    "slideshow": {
     "slide_type": "slide"
    }
   },
   "source": [
    "### Verificar\n",
    "- Determinar en quina mesura el resultat del càlcul que hem fet es correspon amb el model que hem dissenyat"
   ]
  },
  {
   "cell_type": "markdown",
   "id": "784316ab",
   "metadata": {
    "slideshow": {
     "slide_type": "notes"
    }
   },
   "source": [
    "- Durant la resolució del model solem verificar que el resultat és l'esperat\n",
    "- En algunes simulacions haurem de determinar l'incertesa numèrica del càlcul\n",
    "- Quan desenvolupem codi podem escriure tests funcionals per verificar els diferents mòduls que componen el programari."
   ]
  },
  {
   "cell_type": "markdown",
   "id": "e9a2b6cb",
   "metadata": {
    "slideshow": {
     "slide_type": "subslide"
    }
   },
   "source": [
    "- Verificació del codi\n",
    "    - Comprovar que el codi funciona com s'espera\n",
    "    - Control de qualitat del codi\n",
    "    - Testatge funcional"
   ]
  },
  {
   "cell_type": "markdown",
   "id": "29bceacb",
   "metadata": {
    "slideshow": {
     "slide_type": "notes"
    }
   },
   "source": [
    "- Comprovar que el codi funciona com s'ha dissenyat\n",
    "- Comprovar que és repetible i estable\n",
    "    - Per tant, els tests han de ser repetibles"
   ]
  },
  {
   "cell_type": "markdown",
   "id": "c35439c8",
   "metadata": {
    "slideshow": {
     "slide_type": "subslide"
    }
   },
   "source": [
    "- Verificació del càlcul\n",
    "    - Quantificar l'error numèric\n",
    "    - Comprovar la convergència de la simulació\n",
    "    - Verificació de dades d'entrada i sortida"
   ]
  },
  {
   "cell_type": "markdown",
   "id": "03132da9",
   "metadata": {
    "slideshow": {
     "slide_type": "slide"
    }
   },
   "source": [
    "### Validar\n",
    "- Estimar el nivell de precisió amb què el model representa la realitat al context modelat.\n",
    "    - Avaluar l'error del model\n",
    "- Quantificar el nivell de confiança en el resultat del model\n",
    "- El criteri per validar el model és el definit a l'inici del cicle de modelització"
   ]
  },
  {
   "cell_type": "markdown",
   "id": "b62afcce",
   "metadata": {
    "slideshow": {
     "slide_type": "notes"
    }
   },
   "source": [
    "- Hem d'estimar l'error del model, la difèrencia entre el valor mesurat i la predicció del model\n",
    "- A partir de les incerteses de les mesures i les incerteses del resultat del model avaluarem aquest error\n",
    "- Si l'error del model és superior al necessari, haurem de revisar el model o les mesures"
   ]
  },
  {
   "cell_type": "markdown",
   "id": "2b7a0211",
   "metadata": {
    "slideshow": {
     "slide_type": "slide"
    }
   },
   "source": [
    "### Error experimental i de simulació\n",
    "- L'error de les dades experimentals es compon dels errors estadístics i sistemàtics\n",
    "\n",
    "$$\\delta_D = \\epsilon_i + \\beta_j$$\n",
    "\n",
    "- A les simulacions podem distingir els errors del model, els numèrics i els dels paramètrics\n",
    "\n",
    "$$\\delta_S = \\delta_m +  \\delta_n + \\delta_p$$"
   ]
  },
  {
   "cell_type": "markdown",
   "id": "0c2dba65",
   "metadata": {
    "slideshow": {
     "slide_type": "subslide"
    }
   },
   "source": [
    "- Els errors del model provenen de les aproximacions i assumpcions fetes\n",
    "- Els errors numèrics provenen de la solució numèrica dels càlculs\n",
    "- Els errors paramètrics provenen de l'estimació dels paràmetres"
   ]
  },
  {
   "cell_type": "markdown",
   "id": "796883b8",
   "metadata": {
    "slideshow": {
     "slide_type": "subslide"
    }
   },
   "source": [
    "- Les incerteses degudes als errors numèrics i paramètrics els podem estimar\n",
    "- No podem calcular o avaluar directament les incerteses degudes al model\n",
    "- Podem avaluar la discrepància del model $E$ indirectament mitjançant els valors de les mesures i la simulació\n",
    "\n",
    "$$D + E = S$$"
   ]
  },
  {
   "cell_type": "code",
   "execution_count": 2,
   "id": "ef54c220",
   "metadata": {
    "execution": {
     "iopub.execute_input": "2023-03-11T19:08:19.190217Z",
     "iopub.status.busy": "2023-03-11T19:08:19.189983Z",
     "iopub.status.idle": "2023-03-11T19:08:19.399408Z",
     "shell.execute_reply": "2023-03-11T19:08:19.398964Z"
    },
    "hideCode": true,
    "hidePrompt": false,
    "slideshow": {
     "slide_type": "subslide"
    }
   },
   "outputs": [
    {
     "data": {
      "image/png": "[encoded data removed]",
      "text/plain": [
       "<Figure size 640x480 with 1 Axes>"
      ]
     },
     "metadata": {},
     "output_type": "display_data"
    }
   ],
   "source": [
    "d = np.random.normal(np.zeros(100000) + 2.8)\n",
    "s = np.random.normal(np.zeros(100000) + 3.6) * 1.5\n",
    "plt.hist(s, bins=40)\n",
    "plt.hist(d, bins=40)\n",
    "plt.legend([\"simulació\", \"dades\"])\n",
    "l = plt.plot([2, 2], [0, 10000], [2.8, 3.6 * 1.5], [8000, 8000], \"r\")"
   ]
  },
  {
   "cell_type": "markdown",
   "id": "afcd0e21",
   "metadata": {
    "slideshow": {
     "slide_type": "subslide"
    }
   },
   "source": [
    "### Discrepància experiment i model\n",
    "- El valor real i els errors absoluts de la mesura i la simulació són desconeguts\n",
    "- Podem relacionar els errors amb la discrepància del model com\n",
    "\n",
    "$$E = S - D = \\delta_S - \\delta_D = \\delta_m +  \\delta_n + \\delta_p - \\delta_D$$"
   ]
  },
  {
   "cell_type": "markdown",
   "id": "be052fd2",
   "metadata": {
    "slideshow": {
     "slide_type": "subslide"
    }
   },
   "source": [
    "- Indirectament podem obtenir que l'error del model és\n",
    "\n",
    "$$\\delta_m = E - (\\delta_n + \\delta_p - \\delta_D)$$\n",
    "\n",
    "- Que ens pot servir per a avaluar la validesa del model"
   ]
  },
  {
   "cell_type": "markdown",
   "id": "cfa97e69",
   "metadata": {
    "slideshow": {
     "slide_type": "subslide"
    }
   },
   "source": [
    "- Fent una estimació dels errors mitjançant les incerteses podem construir l'incertesa de la validació\n",
    "\n",
    "$$u_v = \\sqrt{u_n^2 + u_p^2 + u_D^2}$$\n",
    "\n",
    "- Podem interpretar que $E$ és una estimació de l'error del model i $u_v$ l'incertesa d'aquesta estimació\n",
    "\n",
    "$$E \\pm u_v$$\n",
    "\n",
    "- Com a altres incerteses, podem expandir l'incertesa $u_v$ per diferents nivells de confiança"
   ]
  },
  {
   "cell_type": "markdown",
   "id": "000611bb",
   "metadata": {
    "slideshow": {
     "slide_type": "slide"
    }
   },
   "source": [
    "## Presentació dels resultats\n",
    "- Un cop tenim un model satisfactori, hem d'interpretar el resultat\n",
    "- Redactarem els resultats i conclusions"
   ]
  },
  {
   "cell_type": "markdown",
   "id": "2fe1569d",
   "metadata": {
    "slideshow": {
     "slide_type": "subslide"
    }
   },
   "source": [
    "### Introducció\n",
    "- Fem una breu introducció per al públic general explicant el problema i els objectius\n",
    "- Una breu explicació del mètode\n",
    "- Les conclusions més destacades"
   ]
  },
  {
   "cell_type": "markdown",
   "id": "535a9902",
   "metadata": {
    "slideshow": {
     "slide_type": "notes"
    }
   },
   "source": [
    "- Expliquem:\n",
    "    - Perquè, com i resultat principal\n",
    "- En un petit resum hem d'atraure el lector perquè el motiu de l'estudi i les seves conclusións són d'interès\n",
    "- Pensa que necessita saber el lector i que és el que ja sap."
   ]
  },
  {
   "cell_type": "markdown",
   "id": "c22357d7",
   "metadata": {
    "slideshow": {
     "slide_type": "subslide"
    }
   },
   "source": [
    "### Informe\n",
    "- Desenvolupem amb detall el problema, els objectius i el context\n",
    "- Expliquem l'anàlisi del sistema\n",
    "- Defensem argumentadament les assumpcions que hem fet i les confirmem amb dades o referències"
   ]
  },
  {
   "cell_type": "markdown",
   "id": "9e70108e",
   "metadata": {
    "slideshow": {
     "slide_type": "subslide"
    }
   },
   "source": [
    "- Expliquem el desenvolupament del model, la formulació i resolució\n",
    "    - Aquesta és la part central de l'informe\n",
    "- Presentem com hem verificat i validat el model\n",
    "- Analitzem els resultats i extraiem conclusions\n",
    "    - Podem fer una anàlisi crític del model indicant les seves limitacions o context de validesa"
   ]
  },
  {
   "cell_type": "markdown",
   "id": "56ea01d0",
   "metadata": {
    "slideshow": {
     "slide_type": "notes"
    }
   },
   "source": [
    "- Després es poden afegir apèndixs amb informació rellevant de l'estudi\n",
    "- També és convenient afegir un apartat de referències o bibliografia"
   ]
  },
  {
   "cell_type": "markdown",
   "id": "b581420c",
   "metadata": {
    "slideshow": {
     "slide_type": "subslide"
    }
   },
   "source": [
    " "
   ]
  },
  {
   "cell_type": "markdown",
   "id": "e345f812",
   "metadata": {
    "slideshow": {
     "slide_type": "skip"
    }
   },
   "source": [
    "# Bibliografia\n",
    "\n",
    "- <a id='bib_Edwards'></a> Edwards, D., **2001**. *Guide to mathematical modelling*. Palgrave, Basingstoke.\n",
    "- <a id='bib_Schaller'></a>Schaller, Ch., **2004**. *Concepts of Model Verification and Validation*. Los Alamos N.L.\n",
    "- <a id='bib_Coleman'></a> Coleman, Hugh W. & Steele, W. Glenn, **2018**. *Experimentation, validation, and uncertainty analysis for engineers*. Wiley."
   ]
  },
  {
   "cell_type": "markdown",
   "id": "41fbc904",
   "metadata": {
    "slideshow": {
     "slide_type": "skip"
    }
   },
   "source": [
    "Copyright (C) 2022 Gabriel Jover Mañas\n",
    "\n",
    "    Permission is granted to copy, distribute and/or modify this document\n",
    "    under the terms of the GNU Free Documentation License, Version 1.3\n",
    "    or any later version published by the Free Software Foundation;\n",
    "    with no Invariant Sections, no Front-Cover Texts, and no Back-Cover Texts.\n",
    "    A copy of the license is included in the section entitled \"GNU\n",
    "    Free Documentation License\".\n",
    "\n",
    "![GFDL][GFDL]\n",
    "\n",
    "    This program is free software: you can redistribute it and/or modify\n",
    "    it under the terms of the GNU General Public License as published by\n",
    "    the Free Software Foundation, either version 3 of the License, or\n",
    "    (at your option) any later version.\n",
    "\n",
    "    This program is distributed in the hope that it will be useful,\n",
    "    but WITHOUT ANY WARRANTY; without even the implied warranty of\n",
    "    MERCHANTABILITY or FITNESS FOR A PARTICULAR PURPOSE.  See the\n",
    "    GNU General Public License for more details.\n",
    "\n",
    "    You should have received a copy of the GNU General Public License\n",
    "    along with this program.  If not, see <https://www.gnu.org/licenses/>.\n",
    "\n",
    "![GPL3][GPL3]\n",
    "\n",
    "[GFDL]: https://www.gnu.org/graphics/gfdl-logo.svg\n",
    "[GPL3]: https://www.gnu.org/graphics/gplv3-or-later.svg"
   ]
  }
 ],
 "metadata": {
  "jupytext": {
   "formats": "ipynb,py:percent"
  },
  "kernelspec": {
   "display_name": "Python 3 (ipykernel)",
   "language": "python",
   "name": "python3"
  },
  "language_info": {
   "codemirror_mode": {
    "name": "ipython",
    "version": 3
   },
   "file_extension": ".py",
   "mimetype": "text/x-python",
   "name": "python",
   "nbconvert_exporter": "python",
   "pygments_lexer": "ipython3",
   "version": "3.9.16"
  }
 },
 "nbformat": 4,
 "nbformat_minor": 5
}
