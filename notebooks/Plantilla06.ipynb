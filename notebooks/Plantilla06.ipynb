{
 "cells": [
  {
   "cell_type": "markdown",
   "id": "f231752c",
   "metadata": {
    "slideshow": {
     "slide_type": "slide"
    }
   },
   "source": [
    "## Pràctica 6\n",
    "### Gestió de residus\n",
    "\n",
    "[<center><img src=./static/Deer_Island_digesters.jpg width=50%></center>](#img_Deer_Island)"
   ]
  },
  {
   "cell_type": "code",
   "execution_count": 1,
   "id": "3e81cf04",
   "metadata": {
    "slideshow": {
     "slide_type": "skip"
    }
   },
   "outputs": [],
   "source": [
    "import numpy as np\n",
    "import pandas as pd\n",
    "import scipy\n",
    "from scipy import stats\n",
    "import matplotlib.pyplot as plt\n",
    "from IPython.display import Math, display\n",
    "import sympy as sp\n",
    "from sympy.physics.units.systems import SI\n",
    "from sympy.physics.units import meter, second, liter, hour, degree, convert_to\n",
    "from sympy import sin, cos, pi, Abs\n",
    "\n",
    "sp.init_printing()\n",
    "\n",
    "def show(*args):\n",
    "    out = \"\"\n",
    "    for arg in args:\n",
    "        if isinstance(arg, (sp.Expr, sp.Eq)):\n",
    "            arg = sp.latex(arg)\n",
    "        else:\n",
    "            arg = str(arg)\n",
    "        out += arg\n",
    "    display(Math(out))\n",
    "    \n",
    "qq = \"\\quad \""
   ]
  },
  {
   "cell_type": "markdown",
   "id": "7bc60942",
   "metadata": {
    "slideshow": {
     "slide_type": "slide"
    }
   },
   "source": [
    "## Gestió de residus\n",
    "- Tenim una planta de gestió de residus i hem de limitar la concentració d'un reactiu\n",
    "- El nostre reactor està compost de 2 dipòsits connectats en sèrie amb un cabal continu.\n",
    "- Volem saber quin ha de ser el cabal d'aigua per no superar a la sortida una concentració de $0.05 \\pm 0.01\\, mg/l$ amb un CL del 99%\n",
    "- Al primer dipòsit es carrega el reactiu\n",
    "- Del primer dipòsit passen al segon i d'ací surten cap a la següent fase.\n",
    "- El volum dels dipòsits és de $100.0 \\pm 0.1 \\,m^3$\n",
    "- Cada càrrega és de $80.0 \\pm 0.1 \\,g$ de reactiu\n",
    "- El reactiu té una taxa de descomposició de $0.10 \\pm 0.01\\, min^{-1}$ reaccions per segon"
   ]
  },
  {
   "cell_type": "markdown",
   "id": "33ea0809",
   "metadata": {
    "slideshow": {
     "slide_type": "subslide"
    }
   },
   "source": [
    "### Dades\n",
    "- Per validar el model hem contractat un laboratori d'assaigs que ha fet les següents mesures:\n",
    "    - Volum d'aigua dels tancs de proves $1.0000 \\pm 1\\times10^{-4} m^3$\n",
    "    - Concentració inicial $10.0 \\pm 0.1 \\,mg/l$\n",
    "    - Flux d'aigua $60.000 \\pm 0.001 \\,l/s$"
   ]
  },
  {
   "cell_type": "code",
   "execution_count": 2,
   "id": "51b10096",
   "metadata": {
    "slideshow": {
     "slide_type": "subslide"
    }
   },
   "outputs": [
    {
     "name": "stdout",
     "output_type": "stream",
     "text": [
      "Index(['t (min)', 'Concentració (mg/l)', 'Flux (l/min)'], dtype='object')\n"
     ]
    },
    {
     "data": {
      "image/png": "[encoded data removed]",
      "text/plain": [
       "<Figure size 432x288 with 9 Axes>"
      ]
     },
     "metadata": {
      "needs_background": "light"
     },
     "output_type": "display_data"
    }
   ],
   "source": [
    "# Dades\n",
    "data = pd.read_csv(\"../data/reactiu.csv\")\n",
    "print(data.columns)\n",
    "l = pd.plotting.scatter_matrix(data[data.columns])"
   ]
  },
  {
   "cell_type": "markdown",
   "id": "e7428d0b",
   "metadata": {
    "slideshow": {
     "slide_type": "slide"
    }
   },
   "source": [
    "## Apartats\n",
    "- Descriu i analitza el sistema rellevant per a l'estudi (5 punts)\n",
    "- Fes les assumpcions pertinents i argumenta-les adequadament (5 punts)\n",
    "- Modelitza i resol el model (10 punts)\n",
    "- Verifica i valida el model (10 punts)\n",
    "- Fes una anàlisi crítica dels resultats (5 punts)"
   ]
  },
  {
   "cell_type": "markdown",
   "id": "3991fe20",
   "metadata": {
    "slideshow": {
     "slide_type": "slide"
    }
   },
   "source": [
    "## Anàlisi del sistema"
   ]
  },
  {
   "cell_type": "markdown",
   "id": "1008763f",
   "metadata": {
    "slideshow": {
     "slide_type": "subslide"
    }
   },
   "source": [
    "### Context"
   ]
  },
  {
   "cell_type": "markdown",
   "id": "45ffcbb3",
   "metadata": {
    "slideshow": {
     "slide_type": "subslide"
    }
   },
   "source": [
    "### Paràmetres"
   ]
  },
  {
   "cell_type": "code",
   "execution_count": 3,
   "id": "79fc72ba",
   "metadata": {
    "slideshow": {
     "slide_type": "subslide"
    }
   },
   "outputs": [],
   "source": [
    "# Visualització de dades\n",
    "# l = data.plot(x=\"\", y=\"\")"
   ]
  },
  {
   "cell_type": "markdown",
   "id": "f6c99236",
   "metadata": {
    "slideshow": {
     "slide_type": "slide"
    }
   },
   "source": [
    "## Assumpcions"
   ]
  },
  {
   "cell_type": "markdown",
   "id": "e49d7bcb",
   "metadata": {
    "slideshow": {
     "slide_type": "slide"
    }
   },
   "source": [
    "## Modelització"
   ]
  },
  {
   "cell_type": "code",
   "execution_count": 4,
   "id": "c333f05a",
   "metadata": {},
   "outputs": [],
   "source": [
    "# P = sp.Function()(x)\n",
    "# Pp = sp.diff(P, x)\n",
    "# fP = \n",
    "# eq = sp.Eq(Pp, fP)"
   ]
  },
  {
   "cell_type": "code",
   "execution_count": 5,
   "id": "07f1a06f",
   "metadata": {},
   "outputs": [],
   "source": [
    "# sp.classify_ode(eq)"
   ]
  },
  {
   "cell_type": "code",
   "execution_count": 6,
   "id": "d0452a28",
   "metadata": {},
   "outputs": [],
   "source": [
    "# sp.dsolve(eq, P)"
   ]
  },
  {
   "cell_type": "code",
   "execution_count": 7,
   "id": "4bf1dad9",
   "metadata": {},
   "outputs": [],
   "source": [
    "#valors = {}\n",
    "#par = {}\n",
    "\n",
    "#ft = sp.lambdify(t, f.subs(valors).subs(par))\n",
    "\n",
    "#temps = np.linspace(0, 60, 50)\n",
    "#y = ft(temps)\n",
    "\n",
    "#l = plt.plot(temps, y)"
   ]
  },
  {
   "cell_type": "markdown",
   "id": "fa23e197",
   "metadata": {
    "slideshow": {
     "slide_type": "slide"
    }
   },
   "source": [
    "### Coeficients de sensitivitat del model"
   ]
  },
  {
   "cell_type": "code",
   "execution_count": 8,
   "id": "709f4e26",
   "metadata": {
    "slideshow": {
     "slide_type": "subslide"
    }
   },
   "outputs": [],
   "source": [
    "# CX = X / F * sp.diff(F, X)"
   ]
  },
  {
   "cell_type": "markdown",
   "id": "e27f9faa",
   "metadata": {
    "slideshow": {
     "slide_type": "slide"
    }
   },
   "source": [
    "## Verificació i validació"
   ]
  },
  {
   "cell_type": "markdown",
   "id": "696ce194",
   "metadata": {
    "slideshow": {
     "slide_type": "subslide"
    }
   },
   "source": [
    "### Verificació"
   ]
  },
  {
   "cell_type": "markdown",
   "id": "502d9266",
   "metadata": {
    "slideshow": {
     "slide_type": "subslide"
    }
   },
   "source": [
    "### Validació"
   ]
  },
  {
   "cell_type": "code",
   "execution_count": 9,
   "id": "1851df72",
   "metadata": {},
   "outputs": [],
   "source": [
    "# Dades"
   ]
  },
  {
   "cell_type": "code",
   "execution_count": 10,
   "id": "4f8527a7",
   "metadata": {
    "slideshow": {
     "slide_type": "subslide"
    }
   },
   "outputs": [],
   "source": [
    "# Simulació"
   ]
  },
  {
   "cell_type": "code",
   "execution_count": 11,
   "id": "8faabffb",
   "metadata": {
    "slideshow": {
     "slide_type": "subslide"
    }
   },
   "outputs": [],
   "source": [
    "# Discrepància\n",
    "# E = S - D\n",
    "# E"
   ]
  },
  {
   "cell_type": "code",
   "execution_count": 12,
   "id": "53b978b3",
   "metadata": {
    "slideshow": {
     "slide_type": "subslide"
    }
   },
   "outputs": [],
   "source": [
    "# Derivades parcials\n",
    "# mesures = {}\n",
    "# SX = sp.diff(E, X).subs(valors).subs(mesures).n()"
   ]
  },
  {
   "cell_type": "code",
   "execution_count": 13,
   "id": "40a521be",
   "metadata": {
    "slideshow": {
     "slide_type": "subslide"
    }
   },
   "outputs": [],
   "source": [
    "# Incertesa dels paràmetres al quadrat\n",
    "# up2 = np.sum(np.power([\n",
    "#     SX * EX,\n",
    "# ], 2))\n",
    "# up2"
   ]
  },
  {
   "cell_type": "code",
   "execution_count": 14,
   "id": "aaf15579",
   "metadata": {
    "slideshow": {
     "slide_type": "subslide"
    }
   },
   "outputs": [],
   "source": [
    "# Incertesa de l'estimació de la discrepància\n",
    "# uV = np.sqrt(up2)\n",
    "\n",
    "# Discrepància\n",
    "# show(\"E = %0.3f \\pm %0.3f\" % (E, uV))"
   ]
  },
  {
   "cell_type": "code",
   "execution_count": 15,
   "id": "ac8a3cc9",
   "metadata": {
    "slideshow": {
     "slide_type": "subslide"
    }
   },
   "outputs": [],
   "source": [
    "# Nivell de confiança per un error del 5% amb nu graus de llibertat\n",
    "# t = 0.05 / ur\n",
    "# l, h = stats.t.cdf([-t, t], nu)\n",
    "# CL = h - l"
   ]
  },
  {
   "cell_type": "code",
   "execution_count": 16,
   "id": "bec205ee",
   "metadata": {
    "slideshow": {
     "slide_type": "subslide"
    }
   },
   "outputs": [],
   "source": [
    "# Interval de t per un cert nivell de confiança amb nu graus de llibertat\n",
    "# stats.t.interval(CL, nu) "
   ]
  },
  {
   "cell_type": "markdown",
   "id": "47e3a0ef",
   "metadata": {
    "slideshow": {
     "slide_type": "slide"
    }
   },
   "source": [
    "## Anàlisi crítica"
   ]
  },
  {
   "cell_type": "code",
   "execution_count": 17,
   "id": "dfc376cf",
   "metadata": {
    "slideshow": {
     "slide_type": "subslide"
    }
   },
   "outputs": [],
   "source": [
    "# Resultat\n"
   ]
  },
  {
   "cell_type": "markdown",
   "id": "e2cbe7a7",
   "metadata": {
    "slideshow": {
     "slide_type": "slide"
    }
   },
   "source": [
    " "
   ]
  },
  {
   "cell_type": "markdown",
   "id": "349fab8b",
   "metadata": {
    "slideshow": {
     "slide_type": "skip"
    }
   },
   "source": [
    "# Referències\n",
    "\n",
    "- <a id='bib_Edwards'></a> Edwards, D., **2001**. *Guide to mathematical modelling*. Palgrave, Basingstoke.\n",
    "- <a id='img_Deer_Island'></a> https://commons.wikimedia.org/wiki/File:Deer_Island_P1110304.jpg"
   ]
  },
  {
   "cell_type": "markdown",
   "id": "d3fd205b",
   "metadata": {
    "slideshow": {
     "slide_type": "skip"
    }
   },
   "source": [
    "Copyright (C) 2022 Gabriel Jover Mañas\n",
    "\n",
    "    Permission is granted to copy, distribute and/or modify this document\n",
    "    under the terms of the GNU Free Documentation License, Version 1.3\n",
    "    or any later version published by the Free Software Foundation;\n",
    "    with no Invariant Sections, no Front-Cover Texts, and no Back-Cover Texts.\n",
    "    A copy of the license is included in the section entitled \"GNU\n",
    "    Free Documentation License\".\n",
    "\n",
    "![GFDL][GFDL]\n",
    "\n",
    "    This program is free software: you can redistribute it and/or modify\n",
    "    it under the terms of the GNU General Public License as published by\n",
    "    the Free Software Foundation, either version 3 of the License, or\n",
    "    (at your option) any later version.\n",
    "\n",
    "    This program is distributed in the hope that it will be useful,\n",
    "    but WITHOUT ANY WARRANTY; without even the implied warranty of\n",
    "    MERCHANTABILITY or FITNESS FOR A PARTICULAR PURPOSE.  See the\n",
    "    GNU General Public License for more details.\n",
    "\n",
    "    You should have received a copy of the GNU General Public License\n",
    "    along with this program.  If not, see <https://www.gnu.org/licenses/>.\n",
    "\n",
    "![GPL3][GPL3]\n",
    "\n",
    "[GFDL]: static/gfdl-logo-small.png\n",
    "[GPL3]: static/gplv3-127x51.png"
   ]
  }
 ],
 "metadata": {
  "celltoolbar": "Slideshow",
  "jupytext": {
   "formats": "ipynb,auto:percent"
  },
  "kernelspec": {
   "display_name": "Python 3",
   "language": "python",
   "name": "python3"
  },
  "language_info": {
   "codemirror_mode": {
    "name": "ipython",
    "version": 3
   },
   "file_extension": ".py",
   "mimetype": "text/x-python",
   "name": "python",
   "nbconvert_exporter": "python",
   "pygments_lexer": "ipython3",
   "version": "3.9.9"
  },
  "livereveal": {
   "autolaunch": true
  },
  "rise": {
   "autolaunch": true,
   "scroll": false
  }
 },
 "nbformat": 4,
 "nbformat_minor": 5
}
