{
 "cells": [
  {
   "cell_type": "markdown",
   "id": "a47e3ba1",
   "metadata": {
    "slideshow": {
     "slide_type": "slide"
    }
   },
   "source": [
    "# Modelització\n",
    "## Introducció"
   ]
  },
  {
   "cell_type": "markdown",
   "id": "8bce80dd",
   "metadata": {
    "slideshow": {
     "slide_type": "slide"
    }
   },
   "source": [
    "## Què és un model?"
   ]
  },
  {
   "cell_type": "markdown",
   "id": "c975ae4a",
   "metadata": {
    "slideshow": {
     "slide_type": "fragment"
    }
   },
   "source": [
    "* Eina per resoldre problemes amb precisió"
   ]
  },
  {
   "cell_type": "markdown",
   "id": "54a4dfe3",
   "metadata": {
    "slideshow": {
     "slide_type": "fragment"
    }
   },
   "source": [
    "* Simplificat i eficient"
   ]
  },
  {
   "cell_type": "markdown",
   "id": "e44b0cf4",
   "metadata": {
    "slideshow": {
     "slide_type": "fragment"
    }
   },
   "source": [
    "* Validat vers la realitat"
   ]
  },
  {
   "cell_type": "markdown",
   "id": "6c0660a0",
   "metadata": {
    "slideshow": {
     "slide_type": "slide"
    }
   },
   "source": [
    "## El Cicle de modelització\n",
    "\n",
    "<center></br>\n",
    "<img src=./static/cicle_modelitzacio.png width=75%>\n",
    "</center>\n"
   ]
  },
  {
   "cell_type": "markdown",
   "id": "566169ef",
   "metadata": {
    "slideshow": {
     "slide_type": "notes"
    }
   },
   "source": [
    "- És una guia de bones pràctiques\n",
    "- No és un cicle rígid"
   ]
  },
  {
   "cell_type": "markdown",
   "id": "587ab80e",
   "metadata": {
    "slideshow": {
     "slide_type": "slide"
    }
   },
   "source": [
    "## Formulació del problema\n",
    "- Àmbit d'estudi\n",
    "- Objectiu que es busca\n",
    "    - Precisió de l'estudi"
   ]
  },
  {
   "cell_type": "markdown",
   "id": "f483cf3f",
   "metadata": {
    "slideshow": {
     "slide_type": "slide"
    }
   },
   "source": [
    "## Anàlisis del sistema\n",
    "- Context\n",
    "- Factors i esdeveniments mesurables\n",
    "- Relacions, comportament i estats"
   ]
  },
  {
   "cell_type": "markdown",
   "id": "f0f4cf09",
   "metadata": {
    "slideshow": {
     "slide_type": "slide"
    }
   },
   "source": [
    "## Modelat\n",
    "- Representació matemàtica de variables i relacions\n",
    "- Anàlisi del model\n",
    "- Interpretació del model en el context"
   ]
  },
  {
   "cell_type": "markdown",
   "id": "4ddfb239",
   "metadata": {
    "slideshow": {
     "slide_type": "slide"
    }
   },
   "source": [
    "## Recol·lecció i anàlisis de dades\n",
    "- Experiment\n",
    "- Procés de mesura\n",
    "- Ajust del model a les dades"
   ]
  },
  {
   "cell_type": "markdown",
   "id": "8257e650",
   "metadata": {
    "slideshow": {
     "slide_type": "slide"
    }
   },
   "source": [
    "## Validació i verificació del model\n",
    "- El model serveix per resoldre el problema\n",
    "- El model és prou precís"
   ]
  },
  {
   "cell_type": "markdown",
   "id": "6eaffca3",
   "metadata": {
    "slideshow": {
     "slide_type": "slide"
    }
   },
   "source": [
    "## Interpretació dels resultats\n",
    "- Anàlisi crítica\n",
    "- Revisió i millora del model\n",
    "    - [Tancant el cicle](#/slide-2-0)"
   ]
  },
  {
   "cell_type": "markdown",
   "id": "f40c1f81",
   "metadata": {
    "slideshow": {
     "slide_type": "slide"
    }
   },
   "source": [
    " "
   ]
  },
  {
   "cell_type": "markdown",
   "id": "349fab8b",
   "metadata": {
    "slideshow": {
     "slide_type": "skip"
    }
   },
   "source": [
    "# Bibliografia\n",
    "\n",
    "- <a id='bib_Edwards'></a> Edwards, D., **2001**. *Guide to mathematical modelling*. Palgrave, Basingstoke."
   ]
  },
  {
   "cell_type": "markdown",
   "id": "d3fd205b",
   "metadata": {
    "slideshow": {
     "slide_type": "skip"
    }
   },
   "source": [
    "Copyright (C) 2022 Gabriel Jover Mañas\n",
    "\n",
    "    Permission is granted to copy, distribute and/or modify this document\n",
    "    under the terms of the GNU Free Documentation License, Version 1.3\n",
    "    or any later version published by the Free Software Foundation;\n",
    "    with no Invariant Sections, no Front-Cover Texts, and no Back-Cover Texts.\n",
    "    A copy of the license is included in the section entitled \"GNU\n",
    "    Free Documentation License\".\n",
    "\n",
    "![GFDL][GFDL]\n",
    "\n",
    "    This program is free software: you can redistribute it and/or modify\n",
    "    it under the terms of the GNU General Public License as published by\n",
    "    the Free Software Foundation, either version 3 of the License, or\n",
    "    (at your option) any later version.\n",
    "\n",
    "    This program is distributed in the hope that it will be useful,\n",
    "    but WITHOUT ANY WARRANTY; without even the implied warranty of\n",
    "    MERCHANTABILITY or FITNESS FOR A PARTICULAR PURPOSE.  See the\n",
    "    GNU General Public License for more details.\n",
    "\n",
    "    You should have received a copy of the GNU General Public License\n",
    "    along with this program.  If not, see <https://www.gnu.org/licenses/>.\n",
    "\n",
    "![GPL3][GPL3]\n",
    "\n",
    "[GFDL]: https://www.gnu.org/graphics/gfdl-logo.svg\n",
    "[GPL3]: https://www.gnu.org/graphics/gplv3-or-later.svg"
   ]
  }
 ],
 "metadata": {
  "celltoolbar": "Slideshow",
  "kernelspec": {
   "display_name": "Python 3 (ipykernel)",
   "language": "python",
   "name": "python3"
  },
  "language_info": {
   "codemirror_mode": {
    "name": "ipython",
    "version": 3
   },
   "file_extension": ".py",
   "mimetype": "text/x-python",
   "name": "python",
   "nbconvert_exporter": "python",
   "pygments_lexer": "ipython3",
   "version": "3.10.1"
  },
  "livereveal": {
   "autolaunch": true
  },
  "rise": {
   "autolaunch": true,
   "scroll": true
  }
 },
 "nbformat": 4,
 "nbformat_minor": 5
}
