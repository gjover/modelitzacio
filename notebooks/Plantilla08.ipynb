{
 "cells": [
  {
   "cell_type": "markdown",
   "id": "f231752c",
   "metadata": {
    "slideshow": {
     "slide_type": "slide"
    }
   },
   "source": [
    "## Pràctica 8\n",
    "### Publicitat\n",
    "\n",
    "[<center><img src=https://upload.wikimedia.org/wikipedia/commons/thumb/0/0b/Mejores_Productos_Online.jpg/800px-Mejores_Productos_Online.jpg width=50%></center>](#img_Productos)"
   ]
  },
  {
   "cell_type": "code",
   "execution_count": 1,
   "id": "3e81cf04",
   "metadata": {
    "slideshow": {
     "slide_type": "skip"
    }
   },
   "outputs": [],
   "source": [
    "import numpy as np\n",
    "import pandas as pd\n",
    "import scipy\n",
    "from scipy import stats\n",
    "import matplotlib.pyplot as plt\n",
    "from IPython.display import Math, display\n",
    "import sympy as sp\n",
    "from sympy.physics.units.systems import SI\n",
    "from sympy.physics.units import meter, second, liter, hour, degree, convert_to\n",
    "from sympy import sin, cos, pi, Abs\n",
    "\n",
    "sp.init_printing()\n",
    "\n",
    "def show(*args):\n",
    "    out = \"\"\n",
    "    for arg in args:\n",
    "        if isinstance(arg, (sp.Expr, sp.Eq)):\n",
    "            arg = sp.latex(arg)\n",
    "        else:\n",
    "            arg = str(arg)\n",
    "        out += arg\n",
    "    display(Math(out))\n",
    "    \n",
    "qq = \"\\quad \""
   ]
  },
  {
   "cell_type": "markdown",
   "id": "7bc60942",
   "metadata": {
    "slideshow": {
     "slide_type": "slide"
    }
   },
   "source": [
    "## Publicitat\n",
    "- Un grup de publicistes vol que estudiem l'impacte de les campanyes publicitaries mitjançant «difusió social».\n",
    "- S'estima que el públic objectiu és de 220.000 possibles compradors.\n",
    "- Estudis previs han mostrat que el boca-orella fa que les vendes augmenten un 1% al mes per cada 500 vendes fetes.\n",
    "- Volen saber amb un CL 95% a quin percentatge de la població poden arribar en 1 any amb una promoció inicial on es regalen 4000 unitats."
   ]
  },
  {
   "cell_type": "markdown",
   "id": "33ea0809",
   "metadata": {
    "slideshow": {
     "slide_type": "subslide"
    }
   },
   "source": [
    "### Dades\n",
    "- Per validar el model s'ha fet un estudi estadístic a una població de 30.000 individus amb una promoció inicial de 1000 unitats."
   ]
  },
  {
   "cell_type": "code",
   "execution_count": 2,
   "id": "51b10096",
   "metadata": {
    "slideshow": {
     "slide_type": "subslide"
    }
   },
   "outputs": [
    {
     "name": "stdout",
     "output_type": "stream",
     "text": [
      "Index(['t (day)', 'Sales'], dtype='object')\n"
     ]
    },
    {
     "data": {
      "image/png": "[encoded data removed]",
      "text/plain": [
       "<Figure size 640x480 with 4 Axes>"
      ]
     },
     "metadata": {},
     "output_type": "display_data"
    }
   ],
   "source": [
    "# Dades\n",
    "data = pd.read_csv(\"../data/sales.csv\")\n",
    "print(data.columns)\n",
    "l = pd.plotting.scatter_matrix(data[data.columns])"
   ]
  },
  {
   "cell_type": "markdown",
   "id": "e7428d0b",
   "metadata": {
    "slideshow": {
     "slide_type": "slide"
    }
   },
   "source": [
    "## Apartats\n",
    "- Descriu i analitza el sistema rellevant per a l'estudi (5 punts)\n",
    "- Fes les assumpcions pertinents i argumenta-les adequadament (5 punts)\n",
    "- Modelitza i resol el model (10 punts)\n",
    "- Verifica i valida el model (10 punts)\n",
    "- Fes una anàlisi crítica dels resultats (5 punts)"
   ]
  },
  {
   "cell_type": "markdown",
   "id": "3991fe20",
   "metadata": {
    "slideshow": {
     "slide_type": "slide"
    }
   },
   "source": [
    "## Anàlisi del sistema"
   ]
  },
  {
   "cell_type": "markdown",
   "id": "1008763f",
   "metadata": {
    "slideshow": {
     "slide_type": "subslide"
    }
   },
   "source": [
    "### Context"
   ]
  },
  {
   "cell_type": "markdown",
   "id": "45ffcbb3",
   "metadata": {
    "slideshow": {
     "slide_type": "subslide"
    }
   },
   "source": [
    "### Paràmetres"
   ]
  },
  {
   "cell_type": "markdown",
   "id": "c5fb50c6",
   "metadata": {
    "slideshow": {
     "slide_type": "subslide"
    }
   },
   "source": [
    "### Paràmetres de l'assaig"
   ]
  },
  {
   "cell_type": "code",
   "execution_count": 3,
   "id": "79fc72ba",
   "metadata": {
    "slideshow": {
     "slide_type": "subslide"
    }
   },
   "outputs": [],
   "source": [
    "# Visualització de dades\n",
    "# l = data.plot(x=\"\", y=\"\")"
   ]
  },
  {
   "cell_type": "markdown",
   "id": "f6c99236",
   "metadata": {
    "slideshow": {
     "slide_type": "slide"
    }
   },
   "source": [
    "## Assumpcions"
   ]
  },
  {
   "cell_type": "markdown",
   "id": "e49d7bcb",
   "metadata": {
    "slideshow": {
     "slide_type": "slide"
    }
   },
   "source": [
    "## Modelització"
   ]
  },
  {
   "cell_type": "code",
   "execution_count": 4,
   "id": "c333f05a",
   "metadata": {
    "slideshow": {
     "slide_type": "subslide"
    }
   },
   "outputs": [],
   "source": [
    "# from sympy.abc import t\n",
    "# S = sp.Function('S', positive=True)(t)\n",
    "\n",
    "# Sp = sp.diff(S, t)\n",
    "# fS = ...\n",
    "\n",
    "# eq = sp.Eq(Sp, fS)\n",
    "# ics = {...}\n",
    "\n",
    "# sol = sp.dsolve(eq, S, ics=ics)\n",
    "# St = sol.rhs\n",
    "# St = sp.separatevars(St)\n",
    "# St"
   ]
  },
  {
   "cell_type": "code",
   "execution_count": 5,
   "id": "4bf1dad9",
   "metadata": {
    "slideshow": {
     "slide_type": "subslide"
    }
   },
   "outputs": [],
   "source": [
    "# Comportament del model\n",
    "# valors = {...} # Posa les unitats\n",
    "\n",
    "# fSt = sp.lambdify(t, St.subs(valors))\n",
    "\n",
    "# temps = np.linspace(0, 300, 30)\n",
    "# y = fSt(temps)\n",
    "# plt.plot(temps, y)\n",
    "# plt.legend([\"y (unitats)\"])\n",
    "# plt.show()"
   ]
  },
  {
   "cell_type": "code",
   "execution_count": 6,
   "id": "a7f8ec10",
   "metadata": {
    "slideshow": {
     "slide_type": "subslide"
    }
   },
   "outputs": [],
   "source": [
    "# Calcular el percentatge de la població que ha comprat després d'un any "
   ]
  },
  {
   "cell_type": "markdown",
   "id": "fa23e197",
   "metadata": {
    "slideshow": {
     "slide_type": "subslide"
    }
   },
   "source": [
    "### Coeficients de sensitivitat del model"
   ]
  },
  {
   "cell_type": "code",
   "execution_count": 7,
   "id": "709f4e26",
   "metadata": {
    "slideshow": {
     "slide_type": "subslide"
    }
   },
   "outputs": [],
   "source": [
    "# CX = X / F * sp.diff(F, X)"
   ]
  },
  {
   "cell_type": "markdown",
   "id": "e27f9faa",
   "metadata": {
    "slideshow": {
     "slide_type": "slide"
    }
   },
   "source": [
    "## Verificació i validació"
   ]
  },
  {
   "cell_type": "markdown",
   "id": "696ce194",
   "metadata": {
    "slideshow": {
     "slide_type": "subslide"
    }
   },
   "source": [
    "### Verificació"
   ]
  },
  {
   "cell_type": "markdown",
   "id": "502d9266",
   "metadata": {
    "slideshow": {
     "slide_type": "subslide"
    }
   },
   "source": [
    "### Validació"
   ]
  },
  {
   "cell_type": "code",
   "execution_count": 8,
   "id": "1851df72",
   "metadata": {
    "slideshow": {
     "slide_type": "subslide"
    }
   },
   "outputs": [],
   "source": [
    "# Dades"
   ]
  },
  {
   "cell_type": "code",
   "execution_count": 9,
   "id": "4f8527a7",
   "metadata": {
    "slideshow": {
     "slide_type": "subslide"
    }
   },
   "outputs": [],
   "source": [
    "# Simulació"
   ]
  },
  {
   "cell_type": "code",
   "execution_count": 10,
   "id": "8faabffb",
   "metadata": {
    "slideshow": {
     "slide_type": "subslide"
    }
   },
   "outputs": [],
   "source": [
    "# Discrepància\n",
    "# E = S - D"
   ]
  },
  {
   "cell_type": "code",
   "execution_count": 11,
   "id": "53b978b3",
   "metadata": {
    "lines_to_next_cell": 2,
    "slideshow": {
     "slide_type": "subslide"
    }
   },
   "outputs": [],
   "source": [
    "# Derivades parcials\n",
    "# SX = sp.diff(E, X).subs(valors).n()"
   ]
  },
  {
   "cell_type": "code",
   "execution_count": 12,
   "id": "40a521be",
   "metadata": {
    "slideshow": {
     "slide_type": "subslide"
    }
   },
   "outputs": [],
   "source": [
    "# Incertesa de l'estimació de la discrepància\n",
    "# up2 = np.sum(np.power([\n",
    "#     SX * EX,\n",
    "# ], 2))\n",
    "\n",
    "# uV = sp.sqrt(up2 + uD**2)"
   ]
  },
  {
   "cell_type": "code",
   "execution_count": 13,
   "id": "9ac49170",
   "metadata": {
    "slideshow": {
     "slide_type": "subslide"
    }
   },
   "outputs": [],
   "source": [
    "# Discrepància\n",
    "# show(\"E = %0.3f \\pm %0.3f\" % (E, uV))"
   ]
  },
  {
   "cell_type": "code",
   "execution_count": 14,
   "id": "bec205ee",
   "metadata": {
    "slideshow": {
     "slide_type": "subslide"
    }
   },
   "outputs": [],
   "source": [
    "# Interval de t per un nivell de confiança del X%\n",
    "# ti = stats.t.interval(X, ndata)[1]"
   ]
  },
  {
   "cell_type": "code",
   "execution_count": 15,
   "id": "6eb13357",
   "metadata": {
    "slideshow": {
     "slide_type": "subslide"
    }
   },
   "outputs": [],
   "source": [
    "# Percentatge de la població que ha comprat després d'un any amb un nivell de confiança del 95%"
   ]
  },
  {
   "cell_type": "code",
   "execution_count": 16,
   "id": "ff35e34d",
   "metadata": {
    "slideshow": {
     "slide_type": "subslide"
    }
   },
   "outputs": [],
   "source": [
    "# Incertesa en el percentatge\n",
    "# SX = sp.diff(F, X).subs(valors).n()\n",
    "\n",
    "# uF = np.sum(np.power([\n",
    "#     SX * EX,\n",
    "# ], 2)).subs(valors)"
   ]
  },
  {
   "cell_type": "code",
   "execution_count": 17,
   "id": "75a18e50",
   "metadata": {
    "slideshow": {
     "slide_type": "subslide"
    }
   },
   "outputs": [],
   "source": [
    "# Comprovació"
   ]
  },
  {
   "cell_type": "markdown",
   "id": "47e3a0ef",
   "metadata": {
    "slideshow": {
     "slide_type": "slide"
    }
   },
   "source": [
    "## Anàlisi crítica"
   ]
  },
  {
   "cell_type": "markdown",
   "id": "f4190393",
   "metadata": {
    "slideshow": {
     "slide_type": "subslide"
    }
   },
   "source": []
  },
  {
   "cell_type": "markdown",
   "id": "e2cbe7a7",
   "metadata": {
    "slideshow": {
     "slide_type": "slide"
    }
   },
   "source": [
    " "
   ]
  },
  {
   "cell_type": "markdown",
   "id": "349fab8b",
   "metadata": {
    "slideshow": {
     "slide_type": "skip"
    }
   },
   "source": [
    "# Referències\n",
    "\n",
    "- <a id='img_Productos'></a> https://commons.wikimedia.org/wiki/File:Mejores_Productos_Online.jpg"
   ]
  },
  {
   "cell_type": "markdown",
   "id": "d3fd205b",
   "metadata": {
    "slideshow": {
     "slide_type": "skip"
    }
   },
   "source": [
    "Copyright (C) 2022 Gabriel Jover Mañas\n",
    "\n",
    "    Permission is granted to copy, distribute and/or modify this document\n",
    "    under the terms of the GNU Free Documentation License, Version 1.3\n",
    "    or any later version published by the Free Software Foundation;\n",
    "    with no Invariant Sections, no Front-Cover Texts, and no Back-Cover Texts.\n",
    "    A copy of the license is included in the section entitled \"GNU\n",
    "    Free Documentation License\".\n",
    "\n",
    "![GFDL][GFDL]\n",
    "\n",
    "    This program is free software: you can redistribute it and/or modify\n",
    "    it under the terms of the GNU General Public License as published by\n",
    "    the Free Software Foundation, either version 3 of the License, or\n",
    "    (at your option) any later version.\n",
    "\n",
    "    This program is distributed in the hope that it will be useful,\n",
    "    but WITHOUT ANY WARRANTY; without even the implied warranty of\n",
    "    MERCHANTABILITY or FITNESS FOR A PARTICULAR PURPOSE.  See the\n",
    "    GNU General Public License for more details.\n",
    "\n",
    "    You should have received a copy of the GNU General Public License\n",
    "    along with this program.  If not, see <https://www.gnu.org/licenses/>.\n",
    "\n",
    "![GPL3][GPL3]\n",
    "\n",
    "[GFDL]: static/gfdl-logo-small.png\n",
    "[GPL3]: static/gplv3-127x51.png"
   ]
  }
 ],
 "metadata": {
  "celltoolbar": "Slideshow",
  "jupytext": {
   "formats": "ipynb,py:percent"
  },
  "kernelspec": {
   "display_name": "Python 3 (ipykernel)",
   "language": "python",
   "name": "python3"
  },
  "language_info": {
   "codemirror_mode": {
    "name": "ipython",
    "version": 3
   },
   "file_extension": ".py",
   "mimetype": "text/x-python",
   "name": "python",
   "nbconvert_exporter": "python",
   "pygments_lexer": "ipython3",
   "version": "3.9.16"
  },
  "livereveal": {
   "autolaunch": true
  },
  "rise": {
   "autolaunch": true,
   "scroll": false
  }
 },
 "nbformat": 4,
 "nbformat_minor": 5
}
