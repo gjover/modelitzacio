{
 "cells": [
  {
   "cell_type": "markdown",
   "id": "936fb441",
   "metadata": {
    "slideshow": {
     "slide_type": "slide"
    }
   },
   "source": [
    "# Modelització\n",
    "## Formulació del problema\n",
    "## i anàlisis del sistema "
   ]
  },
  {
   "cell_type": "markdown",
   "id": "753bbb97",
   "metadata": {
    "slideshow": {
     "slide_type": "notes"
    }
   },
   "source": [
    "- L'objecte dels models és resoldre problemes\n",
    "- La modelització comença acotant el problema"
   ]
  },
  {
   "cell_type": "markdown",
   "id": "6915b15c",
   "metadata": {
    "slideshow": {
     "slide_type": "slide"
    }
   },
   "source": [
    "## Formulació del problema\n",
    "- Àmbit d'estudi\n",
    "- Objectiu que es busca\n",
    "    - Precisió de l'estudi"
   ]
  },
  {
   "cell_type": "markdown",
   "id": "531ccbe7",
   "metadata": {
    "slideshow": {
     "slide_type": "slide"
    }
   },
   "source": [
    "### Àmbit d'estudi"
   ]
  },
  {
   "cell_type": "markdown",
   "id": "8bdb0778",
   "metadata": {
    "slideshow": {
     "slide_type": "fragment"
    }
   },
   "source": [
    "- Acotar l'abast de l'objecte d'estudi"
   ]
  },
  {
   "cell_type": "markdown",
   "id": "51ba3ae6",
   "metadata": {
    "slideshow": {
     "slide_type": "fragment"
    }
   },
   "source": [
    "- Revisar el context present, passat i futur"
   ]
  },
  {
   "cell_type": "markdown",
   "id": "36c363f3",
   "metadata": {
    "slideshow": {
     "slide_type": "notes"
    }
   },
   "source": [
    "- Exemples: Guerra de preus, dimensionat d'un aljub, propagació d'una malaltia.\n",
    "- Què, perquè, on, quan, qui, exclusions i primeres assumpcions."
   ]
  },
  {
   "cell_type": "markdown",
   "id": "44539a54",
   "metadata": {
    "slideshow": {
     "slide_type": "slide"
    }
   },
   "source": [
    "### Objectiu que es busca"
   ]
  },
  {
   "cell_type": "markdown",
   "id": "39490a52",
   "metadata": {
    "slideshow": {
     "slide_type": "fragment"
    }
   },
   "source": [
    "- **S**pecific\n",
    "- **M**easurable\n",
    "- **A**ssignable\n",
    "- **R**ealistic\n",
    "- **T**ime-bound"
   ]
  },
  {
   "cell_type": "markdown",
   "id": "babcef34",
   "metadata": {},
   "source": [
    "- Específic: Sobre un aspecte molt concret i acotat.\n",
    "- Mesurable: El nivell de millora ha de ser mesurable.\n",
    "- Assignable: Les responsabilitats han d'estar ben definides.\n",
    "- Realista: L'abast dels objectius ha de ser possible amb els recursos disponibles.\n",
    "- Acotat temporalment: L'evolució temporal del desenvolupament i els resultats esperats ha d'estar ben definit."
   ]
  },
  {
   "cell_type": "markdown",
   "id": "54cb69f4",
   "metadata": {
    "slideshow": {
     "slide_type": "fragment"
    }
   },
   "source": [
    "### Precisió de l'estudi"
   ]
  },
  {
   "cell_type": "markdown",
   "id": "1a8145b3",
   "metadata": {
    "slideshow": {
     "slide_type": "notes"
    }
   },
   "source": [
    "- És un atribut dels objectius, però d'especial importància\n",
    "- Cal establir un criteri de qualitat per verificar el model"
   ]
  },
  {
   "cell_type": "markdown",
   "id": "ed018838",
   "metadata": {
    "slideshow": {
     "slide_type": "slide"
    }
   },
   "source": [
    "## Anàlisis del sistema\n",
    "- Context\n",
    "- Factors i esdeveniments mesurables\n",
    "- Relacions, comportament i estats"
   ]
  },
  {
   "cell_type": "markdown",
   "id": "cc34bd29",
   "metadata": {
    "slideshow": {
     "slide_type": "slide"
    }
   },
   "source": [
    "### Context\n",
    "- Espacial\n",
    "- Temporal\n",
    "- Sistemàtic\n",
    "- Econòmic\n",
    "- Casos d'ús\n",
    "- Afectació\n",
    "- Personal"
   ]
  },
  {
   "cell_type": "markdown",
   "id": "08d025c8",
   "metadata": {
    "slideshow": {
     "slide_type": "notes"
    }
   },
   "source": [
    "- Partint de la definició dels objectius i del seu àmbit podem començar a identificar el sistema i el seu context\n",
    "- Fer assumpcions sobre els límits del context per acotar-lo"
   ]
  },
  {
   "cell_type": "markdown",
   "id": "2806a43d",
   "metadata": {
    "slideshow": {
     "slide_type": "slide"
    }
   },
   "source": [
    "### Factors i esdeveniments mesurables\n",
    "- Identificar els factors més rellevants\n",
    "    - Recerca de coneixements previs\n",
    "    - Mantenir un model senzill\n",
    "    - Identificar unitats i magnituds"
   ]
  },
  {
   "cell_type": "markdown",
   "id": "e7536a67",
   "metadata": {
    "slideshow": {
     "slide_type": "notes"
    }
   },
   "source": [
    "- Triarem factors que a priori afectaran més al resultat\n",
    "  - Posteriorment analitzarem la sensibilitat del model\n",
    "- En el cicle de modelització podem afegir o eliminar factors"
   ]
  },
  {
   "cell_type": "markdown",
   "id": "dee70ff7",
   "metadata": {
    "slideshow": {
     "slide_type": "slide"
    }
   },
   "source": [
    "### Observem la realitat\n",
    "- Documentar-se i cercar coneixements previs de sistemes similars\n",
    "- Cercar fonts de dades rellevants\n",
    "- Mesurar els factors, el seu canvi i com afecten els uns als altres"
   ]
  },
  {
   "cell_type": "markdown",
   "id": "40f8cdd5",
   "metadata": {
    "slideshow": {
     "slide_type": "slide"
    }
   },
   "source": [
    "### Relacions, comportament i estats\n",
    "- Agrupar i relacionar factors\n",
    "- Identificar relacions i comportament dels factors\n",
    "- Identificar estats i esdeveniments"
   ]
  },
  {
   "cell_type": "markdown",
   "id": "59734dd6",
   "metadata": {
    "slideshow": {
     "slide_type": "notes"
    }
   },
   "source": [
    "- Podem agrupar factors per subsistema o per categories\n",
    "- Hem d'identificar relacions entre factors i comportaments que després modelitzarem\n",
    "- Alguns comportaments poden dependre de l'estat del sistema\n",
    "- Si el sistema canvia d'estat, hem d'identificar els esdeveniments i transicions\n",
    "\n",
    "- En aquest procés d'anàlisi poden sortir nous factors que hem d'avaluar i relacionar"
   ]
  },
  {
   "cell_type": "markdown",
   "id": "848ecb95",
   "metadata": {
    "slideshow": {
     "slide_type": "slide"
    }
   },
   "source": [
    " "
   ]
  },
  {
   "cell_type": "markdown",
   "id": "a674b79c",
   "metadata": {
    "slideshow": {
     "slide_type": "skip"
    }
   },
   "source": [
    "# Bibliografia\n",
    "\n",
    "- <a id='bib_Edwards'></a> Edwards, D., **2001**. *Guide to mathematical modelling*. Palgrave, Basingstoke."
   ]
  },
  {
   "cell_type": "markdown",
   "id": "e17a5166",
   "metadata": {
    "slideshow": {
     "slide_type": "skip"
    }
   },
   "source": [
    "Copyright (C) 2022 Gabriel Jover Mañas\n",
    "\n",
    "    Permission is granted to copy, distribute and/or modify this document\n",
    "    under the terms of the GNU Free Documentation License, Version 1.3\n",
    "    or any later version published by the Free Software Foundation;\n",
    "    with no Invariant Sections, no Front-Cover Texts, and no Back-Cover Texts.\n",
    "    A copy of the license is included in the section entitled \"GNU\n",
    "    Free Documentation License\".\n",
    "\n",
    "![GFDL][GFDL]\n",
    "\n",
    "    This program is free software: you can redistribute it and/or modify\n",
    "    it under the terms of the GNU General Public License as published by\n",
    "    the Free Software Foundation, either version 3 of the License, or\n",
    "    (at your option) any later version.\n",
    "\n",
    "    This program is distributed in the hope that it will be useful,\n",
    "    but WITHOUT ANY WARRANTY; without even the implied warranty of\n",
    "    MERCHANTABILITY or FITNESS FOR A PARTICULAR PURPOSE.  See the\n",
    "    GNU General Public License for more details.\n",
    "\n",
    "    You should have received a copy of the GNU General Public License\n",
    "    along with this program.  If not, see <https://www.gnu.org/licenses/>.\n",
    "\n",
    "![GPL3][GPL3]\n",
    "\n",
    "[GFDL]: https://www.gnu.org/graphics/gfdl-logo.svg\n",
    "[GPL3]: https://www.gnu.org/graphics/gplv3-or-later.svg"
   ]
  }
 ],
 "metadata": {
  "jupytext": {
   "formats": "ipynb,py:percent"
  },
  "kernelspec": {
   "display_name": "Python 3 (ipykernel)",
   "language": "python",
   "name": "python3"
  },
  "language_info": {
   "codemirror_mode": {
    "name": "ipython",
    "version": 3
   },
   "file_extension": ".py",
   "mimetype": "text/x-python",
   "name": "python",
   "nbconvert_exporter": "python",
   "pygments_lexer": "ipython3",
   "version": "3.9.16"
  }
 },
 "nbformat": 4,
 "nbformat_minor": 5
}
