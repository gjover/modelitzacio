{
 "cells": [
  {
   "cell_type": "markdown",
   "id": "a47e3ba1",
   "metadata": {
    "slideshow": {
     "slide_type": "slide"
    }
   },
   "source": [
    "# Modelització\n",
    "## Formulació del problema\n",
    "## i anàlisis del sistema "
   ]
  },
  {
   "cell_type": "markdown",
   "id": "74f996db",
   "metadata": {
    "slideshow": {
     "slide_type": "notes"
    }
   },
   "source": [
    "- L'objecte dels models és resoldre problemes\n",
    "- La modelització comença acotant el problema"
   ]
  },
  {
   "cell_type": "markdown",
   "id": "8bce80dd",
   "metadata": {
    "slideshow": {
     "slide_type": "slide"
    }
   },
   "source": [
    "## Formulació del problema\n",
    "- Àmbit d'estudi\n",
    "- Objectiu que es busca\n",
    "    - Precisió de l'estudi"
   ]
  },
  {
   "cell_type": "markdown",
   "id": "39ec1e28",
   "metadata": {
    "slideshow": {
     "slide_type": "slide"
    }
   },
   "source": [
    "### Àmbit d'estudi"
   ]
  },
  {
   "cell_type": "markdown",
   "id": "166cb88f",
   "metadata": {
    "slideshow": {
     "slide_type": "fragment"
    }
   },
   "source": [
    "- Acotar l'abast de l'objecte d'estudi"
   ]
  },
  {
   "cell_type": "markdown",
   "id": "a4fc482b",
   "metadata": {
    "slideshow": {
     "slide_type": "fragment"
    }
   },
   "source": [
    "- Revisar el context present, passat i futur"
   ]
  },
  {
   "cell_type": "markdown",
   "id": "82a63ef0",
   "metadata": {
    "slideshow": {
     "slide_type": "notes"
    }
   },
   "source": [
    "- Exemples: Guerra de preus, dimensionat d'un aljub, propagació d'una malaltia.\n",
    "- Què, perquè, on, quan, qui, exclusions i primeres assumpcions."
   ]
  },
  {
   "cell_type": "markdown",
   "id": "1abe0cfc",
   "metadata": {
    "slideshow": {
     "slide_type": "slide"
    }
   },
   "source": [
    "### Objectiu que es busca"
   ]
  },
  {
   "cell_type": "markdown",
   "id": "771a1d91",
   "metadata": {
    "slideshow": {
     "slide_type": "fragment"
    }
   },
   "source": [
    "- Mesurable\n",
    "- Raonable\n",
    "- Útil"
   ]
  },
  {
   "cell_type": "markdown",
   "id": "60ee5358",
   "metadata": {
    "slideshow": {
     "slide_type": "notes"
    }
   },
   "source": [
    "- Els resultats del model han d'estar vinculat a un **objectiu mesurable**\n",
    "- Valorar si l'**abast de/dels objectius** és possible amb els **recursos** per modelitzar\n",
    "- Tenir clar la utilitat dels objectius\n",
    "    - E. Musk: First step: Make your requirements less dumb"
   ]
  },
  {
   "cell_type": "markdown",
   "id": "f93bc534",
   "metadata": {
    "slideshow": {
     "slide_type": "fragment"
    }
   },
   "source": [
    "### Precisió de l'estudi"
   ]
  },
  {
   "cell_type": "markdown",
   "id": "5a9f0c16",
   "metadata": {
    "slideshow": {
     "slide_type": "notes"
    }
   },
   "source": [
    "- És un atribut dels objectius, però d'especial importància\n",
    "- Cal establir un criteri de qualitat per verificar el model"
   ]
  },
  {
   "cell_type": "markdown",
   "id": "705fa02a",
   "metadata": {
    "slideshow": {
     "slide_type": "slide"
    }
   },
   "source": [
    "## Anàlisis del sistema\n",
    "- Context\n",
    "- Factors i esdeveniments mesurables\n",
    "- Relacions, comportament i estats"
   ]
  },
  {
   "cell_type": "markdown",
   "id": "de1f4241",
   "metadata": {
    "slideshow": {
     "slide_type": "slide"
    }
   },
   "source": [
    "### Context\n",
    "- Espacial\n",
    "- Temporal\n",
    "- Sistemàtic\n",
    "- Econòmic\n",
    "- Casos d'ús\n",
    "- Afectació\n",
    "- Personal"
   ]
  },
  {
   "cell_type": "markdown",
   "id": "c1e19cf5",
   "metadata": {
    "slideshow": {
     "slide_type": "notes"
    }
   },
   "source": [
    "- Partint de la definició dels objectius i del seu àmbit podem començar a identificar el sistema i el seu context\n",
    "- Fer assumpcions sobre els límits del context per acotar-lo"
   ]
  },
  {
   "cell_type": "markdown",
   "id": "b917f0cb",
   "metadata": {
    "slideshow": {
     "slide_type": "slide"
    }
   },
   "source": [
    "### Factors i esdeveniments mesurables\n",
    "- Identificar els factors més rellevants\n",
    "    - Recerca de coneixements previs\n",
    "    - Mantenir un model senzill\n",
    "    - Identificar unitats i magnituds"
   ]
  },
  {
   "cell_type": "markdown",
   "id": "ff7fac54",
   "metadata": {
    "slideshow": {
     "slide_type": "notes"
    }
   },
   "source": [
    "- Triarem factors que a priori afectaran més al resultat\n",
    "- En el cicle de modelització podem afegir o eliminar factors"
   ]
  },
  {
   "cell_type": "markdown",
   "id": "bd19ef85",
   "metadata": {
    "slideshow": {
     "slide_type": "slide"
    }
   },
   "source": [
    "### Relacions, comportament i estats\n",
    "- Agrupar i relacionar factors\n",
    "- Identificar relacions i comportament dels factors\n",
    "- Identificar estats i esdeveniments"
   ]
  },
  {
   "cell_type": "markdown",
   "id": "fdaa10ba",
   "metadata": {
    "slideshow": {
     "slide_type": "notes"
    }
   },
   "source": [
    "- Podem agrupar factors per subsistema o per categories\n",
    "- Hem d'identificar relacions entre factors i comportaments que després modelitzarem\n",
    "- Alguns comportaments poden dependre de l'estat del sistema\n",
    "- Si el sistema canvia d'estat, hem d'identificar els esdeveniments i transicions\n",
    "\n",
    "- En aquest procés d'anàlisi poden sortir nous factors que hem d'avaluar i relacionar"
   ]
  },
  {
   "cell_type": "markdown",
   "id": "d64b3c69",
   "metadata": {
    "slideshow": {
     "slide_type": "slide"
    }
   },
   "source": [
    " "
   ]
  },
  {
   "cell_type": "markdown",
   "id": "349fab8b",
   "metadata": {
    "slideshow": {
     "slide_type": "skip"
    }
   },
   "source": [
    "# Bibliografia\n",
    "\n",
    "- <a id='bib_Edwards'></a> Edwards, D., **2001**. *Guide to mathematical modelling*. Palgrave, Basingstoke."
   ]
  },
  {
   "cell_type": "markdown",
   "id": "d3fd205b",
   "metadata": {
    "slideshow": {
     "slide_type": "skip"
    }
   },
   "source": [
    "Copyright (C) 2022 Gabriel Jover Mañas\n",
    "\n",
    "    Permission is granted to copy, distribute and/or modify this document\n",
    "    under the terms of the GNU Free Documentation License, Version 1.3\n",
    "    or any later version published by the Free Software Foundation;\n",
    "    with no Invariant Sections, no Front-Cover Texts, and no Back-Cover Texts.\n",
    "    A copy of the license is included in the section entitled \"GNU\n",
    "    Free Documentation License\".\n",
    "\n",
    "![GFDL][GFDL]\n",
    "\n",
    "    This program is free software: you can redistribute it and/or modify\n",
    "    it under the terms of the GNU General Public License as published by\n",
    "    the Free Software Foundation, either version 3 of the License, or\n",
    "    (at your option) any later version.\n",
    "\n",
    "    This program is distributed in the hope that it will be useful,\n",
    "    but WITHOUT ANY WARRANTY; without even the implied warranty of\n",
    "    MERCHANTABILITY or FITNESS FOR A PARTICULAR PURPOSE.  See the\n",
    "    GNU General Public License for more details.\n",
    "\n",
    "    You should have received a copy of the GNU General Public License\n",
    "    along with this program.  If not, see <https://www.gnu.org/licenses/>.\n",
    "\n",
    "![GPL3][GPL3]\n",
    "\n",
    "[GFDL]: https://www.gnu.org/graphics/gfdl-logo.svg\n",
    "[GPL3]: https://www.gnu.org/graphics/gplv3-or-later.svg"
   ]
  }
 ],
 "metadata": {
  "celltoolbar": "Slideshow",
  "kernelspec": {
   "display_name": "Python 3 (ipykernel)",
   "language": "python",
   "name": "python3"
  },
  "language_info": {
   "codemirror_mode": {
    "name": "ipython",
    "version": 3
   },
   "file_extension": ".py",
   "mimetype": "text/x-python",
   "name": "python",
   "nbconvert_exporter": "python",
   "pygments_lexer": "ipython3",
   "version": "3.10.2"
  },
  "livereveal": {
   "autolaunch": true
  },
  "rise": {
   "autolaunch": true,
   "scroll": true
  }
 },
 "nbformat": 4,
 "nbformat_minor": 5
}
