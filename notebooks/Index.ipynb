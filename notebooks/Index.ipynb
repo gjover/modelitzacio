{
 "cells": [
  {
   "cell_type": "markdown",
   "id": "01758a1b",
   "metadata": {},
   "source": [
    "# Modelització\n",
    "\n",
    "## Index\n",
    "\n",
    "- [Introducció](Introduccio.ipynb)\n",
    "- [Anàlisi del sistema](Analisi_del_sistema.ipynb)\n",
    "- [Exemple 1](Exemple01.ipynb) Plou a bots i barrals\n",
    "- [Modelització](Modelitzacio.ipynb)\n",
    "- [Exemple 2](Exemple02.ipynb) Dissolució\n",
    "- [Anàlisi d'incerteses](Analisi_d_incerteses.ipynb)\n",
    "- [Exemple 3](Exemple03.ipynb) Transmissòmetre\n",
    "- [Validació i verificació](Validacio_i_verificacio.ipynb)\n",
    "- [Exemple 4]()\n",
    "- [Plantilla 5](Plantilla05.ipynb) Una teulada per un canaló\n",
    "- [Plantilla 6]()\n"
   ]
  }
 ],
 "metadata": {
  "kernelspec": {
   "display_name": "Python 3 (ipykernel)",
   "language": "python",
   "name": "python3"
  },
  "language_info": {
   "codemirror_mode": {
    "name": "ipython",
    "version": 3
   },
   "file_extension": ".py",
   "mimetype": "text/x-python",
   "name": "python",
   "nbconvert_exporter": "python",
   "pygments_lexer": "ipython3",
   "version": "3.9.16"
  }
 },
 "nbformat": 4,
 "nbformat_minor": 5
}
