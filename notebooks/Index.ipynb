{
 "cells": [
  {
   "cell_type": "markdown",
   "id": "be7876e3",
   "metadata": {},
   "source": [
    "# Modelització\n",
    "\n",
    "## Index\n",
    "\n",
    "- [Introducció](Introduccio.py)\n",
    "- [Anàlisi del sistema](Analisi_del_sistema.py)\n",
    "- [Exemple 1](Exemple01.py) Plou a bots i barrals\n",
    "- [Modelització](Modelitzacio.py)\n",
    "- [Exemple 2](Exemple02.py) Dissolució\n",
    "- [Anàlisi d'incerteses](Analisi_d_incerteses.py)\n",
    "- [Exemple 3](Exemple03.py) Transmissòmetre\n",
    "- [Validació i verificació](Validacio_i_verificacio.py)\n",
    "- [Exemple 4]()\n",
    "- [Plantilla 5](Plantilla05.py) Una teulada per un canaló\n",
    "- [Plantilla 6]()\n"
   ]
  }
 ],
 "metadata": {
  "kernelspec": {
   "display_name": "Python 3 (ipykernel)",
   "language": "python",
   "name": "python3"
  },
  "language_info": {
   "codemirror_mode": {
    "name": "ipython",
    "version": 3
   },
   "file_extension": ".py",
   "mimetype": "text/x-python",
   "name": "python",
   "nbconvert_exporter": "python",
   "pygments_lexer": "ipython3",
   "version": "3.9.16"
  }
 },
 "nbformat": 4,
 "nbformat_minor": 5
}
