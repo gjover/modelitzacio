{
 "cells": [
  {
   "cell_type": "markdown",
   "id": "d8fc8c7e-90cb-4e34-8e35-75a22cc5354d",
   "metadata": {},
   "source": [
    "## Pràctica 9\n",
    "### Simulació d' Esdeveniment Discrets\n",
    "\n",
    "[<center><img src=https://raw.githubusercontent.com/gjover/modelitzacio/refs/heads/main/notebooks/static/Taller.png width=50%></center>](#bib_Law)"
   ]
  },
  {
   "cell_type": "markdown",
   "id": "3359e5fc",
   "metadata": {},
   "source": [
    "Tenim una fàbrica amb 5 estacions de treball amb un nombre diferent de màquines cada una.\n",
    "\n",
    "- Estació 1: 2 màquines\n",
    "- Estació 2: 1 màquina\n",
    "- Estació 3: 3 màquines\n",
    "- Estació 4: 3 màquines\n",
    "- Estació 5: 4 màquines\n",
    "\n",
    "Totes les màquines d'una mateixa estació són iguals.\n",
    "\n",
    "A aquesta fàbrica produïm tres productes i cada producte té un circuit diferent.\n",
    "\n",
    "- Producte A: 4, 3, 5\n",
    "- Producte B: 5, 3, 1, 2\n",
    "- Producte C: 1, 2, 3, 4, 5\n",
    "\n",
    "Hem modelitzat el temps d'execució de les tasques com la suma de dues distribucions exponencials amb mitjana $\\lambda/2$, és a dir, amb una distribució Erlang $(k=2, \\lambda)$.\n",
    "\n",
    "El temps mitjà de cada tasca depèn del producte:\n",
    "\n",
    "- Tasques del producte A: 1.10, 0.80, 0.75 h \n",
    "- Tasques del producte B: 0.50, 0.60, 0.85, 0.50 h \n",
    "- Tasques del producte C: 1.20, 0.25, 0.70, 0.90, 1.00 h \n",
    "\n",
    "L'arribada d'encàrrecs segueix una distribució exponencial amb una mitjana de 15 minuts i les probabilitats de què es demane cada producte són A: 50%, B: 30%, C: 20%.\n",
    "\n",
    "Simula la producció anual considerant 219 dies laborables amb jornades de 7.5h diàries.\n",
    "\n",
    "Estima les mitjanes de:\n",
    "- El temps d'espera total de cada producte\n",
    "- El temps d'espera total del conjunt\n",
    "- El temps de producció de cada producte a cada estació\n",
    "- El nombre de productes en cua a cada estació\n",
    "- El percentatge d'ús de les màquines de cada estació\n",
    "- El temps d'espera a cada estació."
   ]
  },
  {
   "cell_type": "markdown",
   "id": "f2a903bd",
   "metadata": {},
   "source": [
    "( A continuació teniu el codi de l'exercici fet a classe perquè el pugueu fer servir com a exemple)"
   ]
  },
  {
   "cell_type": "code",
   "execution_count": 1,
   "id": "6aa656cd-1922-4909-8886-fd2985e94149",
   "metadata": {},
   "outputs": [],
   "source": [
    "import simpy\n",
    "import numpy as np\n",
    "import pandas as pd"
   ]
  },
  {
   "cell_type": "code",
   "execution_count": 2,
   "id": "7fe01e1e-1f7a-4d76-9dc1-22f48ec5ccc1",
   "metadata": {},
   "outputs": [],
   "source": [
    "def venda(env, taquilla, cua):\n",
    "    \"\"\"\n",
    "    Simula el procés de venda\n",
    "    \"\"\"\n",
    "    with taquilla.request() as req:\n",
    "        yield req\n",
    "        temps = np.random.exponential(10)\n",
    "        print(\"venda\", env.now, \"trigarà\", temps)\n",
    "        yield env.timeout(temps)\n",
    "        cua.loc[env.now] = cua.iloc[-1].pers - 1\n",
    "        print(env.now, \"Següent!\")"
   ]
  },
  {
   "cell_type": "code",
   "execution_count": 3,
   "id": "e16ab23e-9ac5-4150-af0f-0ce06206f6bb",
   "metadata": {},
   "outputs": [],
   "source": [
    "def arribada(env, taquilla, cua):\n",
    "    \"\"\"\n",
    "    Simula el procés d'arribada\n",
    "    \"\"\"\n",
    "    # La cua comença buida\n",
    "    cua.loc[0] = 0\n",
    "\n",
    "    # Comença l'arribada de clients\n",
    "    while True:\n",
    "        temps = np.random.exponential(8)\n",
    "        yield env.timeout(temps)\n",
    "        print(\"arribat\", env.now)\n",
    "        cua.loc[env.now] = cua.iloc[-1].pers + 1\n",
    "        v = venda(env, taquilla, cua)\n",
    "        env.process(v)"
   ]
  },
  {
   "cell_type": "code",
   "execution_count": 4,
   "id": "0d98e58f-dc16-4b28-86e9-581bc4cc4432",
   "metadata": {},
   "outputs": [],
   "source": [
    "def simulacio(n_taquilles, cua, temps):\n",
    "    \"\"\"\n",
    "    Realitza la simulació\n",
    "    \"\"\"\n",
    "    env = simpy.Environment()\n",
    "\n",
    "    # La taquilla és un recurs limitat\n",
    "    taquilla = simpy.Resource(env, capacity=n_taquilles)\n",
    "\n",
    "    env.process(arribada(env, taquilla, cua))\n",
    "    env.run(until=temps)\n",
    "    return cua"
   ]
  },
  {
   "cell_type": "code",
   "execution_count": 5,
   "id": "f2042735-6cad-4b36-ac62-d472fb1bb195",
   "metadata": {},
   "outputs": [
    {
     "name": "stdout",
     "output_type": "stream",
     "text": [
      "arribat 23.815643228326657\n",
      "venda 23.815643228326657 trigarà 46.82589896962461\n",
      "arribat 42.89516050714808\n",
      "venda 42.89516050714808 trigarà 8.270797312251348\n",
      "arribat 48.856096312695485\n",
      "arribat 50.129889119617495\n",
      "51.165957819399424 Següent!\n",
      "venda 51.165957819399424 trigarà 10.992920972149223\n",
      "arribat 53.49226332614787\n",
      "62.158878791548645 Següent!\n",
      "venda 62.158878791548645 trigarà 4.354773798223014\n",
      "arribat 62.594492906551366\n",
      "66.51365258977165 Següent!\n",
      "venda 66.51365258977165 trigarà 20.657724406376673\n",
      "70.64154219795127 Següent!\n",
      "venda 70.64154219795127 trigarà 5.869975876320529\n",
      "arribat 73.23420172571116\n",
      "76.51151807427179 Següent!\n",
      "venda 76.51151807427179 trigarà 4.794146607417484\n",
      "arribat 79.45333975874182\n",
      "81.30566468168928 Següent!\n",
      "venda 81.30566468168928 trigarà 18.394469851604786\n",
      "arribat 82.95994536571187\n",
      "87.17137699614833 Següent!\n",
      "venda 87.17137699614833 trigarà 0.4773022566039287\n",
      "87.64867925275226 Següent!\n",
      "arribat 90.6905431660502\n",
      "venda 90.6905431660502 trigarà 2.6667548154229803\n",
      "arribat 90.74159587047889\n",
      "arribat 91.46878859484406\n",
      "arribat 92.9009171969247\n",
      "93.35729798147318 Següent!\n",
      "venda 93.35729798147318 trigarà 10.65941601923442\n",
      "arribat 98.10283161384729\n",
      "99.70013453329406 Següent!\n",
      "venda 99.70013453329406 trigarà 5.179067791215115\n",
      "104.0167140007076 Següent!\n",
      "venda 104.0167140007076 trigarà 17.99476181308387\n",
      "104.87920232450918 Següent!\n",
      "venda 104.87920232450918 trigarà 4.683627257072137\n",
      "109.56282958158131 Següent!\n",
      "122.01147581379146 Següent!\n",
      "arribat 128.221789409905\n",
      "venda 128.221789409905 trigarà 3.8531689093221404\n",
      "132.07495831922714 Següent!\n",
      "arribat 143.66862898807264\n",
      "venda 143.66862898807264 trigarà 0.6802294040245415\n",
      "144.34885839209718 Següent!\n",
      "arribat 144.44367909793223\n",
      "venda 144.44367909793223 trigarà 1.7652955736950409\n",
      "146.20897467162726 Següent!\n",
      "arribat 150.13676665377403\n",
      "venda 150.13676665377403 trigarà 13.738491413995927\n",
      "arribat 152.46998684491277\n",
      "venda 152.46998684491277 trigarà 10.496099164047177\n",
      "arribat 154.34919339615314\n",
      "arribat 157.23620770880746\n",
      "arribat 162.72549179953432\n",
      "162.96608600895993 Següent!\n",
      "venda 162.96608600895993 trigarà 2.1443079469440502\n",
      "163.87525806776995 Següent!\n",
      "venda 163.87525806776995 trigarà 9.003054246180888\n",
      "165.110393955904 Següent!\n",
      "venda 165.110393955904 trigarà 2.435119239395104\n",
      "arribat 166.29590302753502\n",
      "167.5455131952991 Següent!\n",
      "venda 167.5455131952991 trigarà 10.346542199048688\n",
      "172.87831231395083 Següent!\n",
      "arribat 176.18422708159034\n",
      "venda 176.18422708159034 trigarà 21.3395313448428\n",
      "arribat 176.52156819513908\n",
      "177.89205539434778 Següent!\n",
      "venda 177.89205539434778 trigarà 19.367202662641322\n",
      "197.2592580569891 Següent!\n",
      "arribat 197.40278426672901\n",
      "venda 197.40278426672901 trigarà 4.1795803335860295\n",
      "197.52375842643315 Següent!\n",
      "201.58236460031503 Següent!\n",
      "arribat 207.776482573068\n",
      "venda 207.776482573068 trigarà 14.340156994473322\n",
      "222.1166395675413 Següent!\n",
      "arribat 229.23145819606714\n",
      "venda 229.23145819606714 trigarà 2.8621930833524303\n",
      "arribat 229.71692267770334\n",
      "venda 229.71692267770334 trigarà 12.955964828483907\n",
      "232.09365127941956 Següent!\n",
      "arribat 241.9825078493932\n",
      "venda 241.9825078493932 trigarà 15.437768992891472\n",
      "242.67288750618724 Següent!\n",
      "arribat 249.15474179376838\n",
      "venda 249.15474179376838 trigarà 61.495860021705546\n",
      "arribat 251.40609917876714\n",
      "257.42027684228464 Següent!\n",
      "venda 257.42027684228464 trigarà 22.753345400987502\n",
      "arribat 257.5138820879907\n",
      "arribat 262.05283003631445\n",
      "arribat 268.52997924944526\n",
      "arribat 271.5240249099663\n",
      "arribat 272.5809359686176\n",
      "arribat 275.1310569532742\n",
      "arribat 276.8269933806195\n",
      "arribat 279.36138741920934\n",
      "arribat 279.7313010681919\n",
      "280.1736222432721 Següent!\n",
      "venda 280.1736222432721 trigarà 2.134018951759872\n",
      "282.307641195032 Següent!\n",
      "venda 282.307641195032 trigarà 13.716663632690018\n",
      "arribat 291.3689502223002\n",
      "arribat 293.6950206904293\n",
      "296.024304827722 Següent!\n",
      "venda 296.024304827722 trigarà 13.03931170655656\n"
     ]
    }
   ],
   "source": [
    "n_taquilles = 2\n",
    "cua = pd.DataFrame(columns=['pers'])\n",
    "\n",
    "cua = simulacio(n_taquilles, cua, 300)"
   ]
  },
  {
   "cell_type": "code",
   "execution_count": 6,
   "id": "96146dad-a17f-47cb-8e06-d6a48f7b0bf4",
   "metadata": {},
   "outputs": [
    {
     "data": {
      "text/plain": [
       "<Axes: >"
      ]
     },
     "execution_count": 6,
     "metadata": {},
     "output_type": "execute_result"
    },
    {
     "data": {
      "image/png": "[encoded data removed]",
      "text/plain": [
       "<Figure size 640x480 with 1 Axes>"
      ]
     },
     "metadata": {},
     "output_type": "display_data"
    }
   ],
   "source": [
    "cua.plot()"
   ]
  },
  {
   "cell_type": "markdown",
   "id": "96ba8dec",
   "metadata": {},
   "source": [
    "# Referències\n",
    "\n",
    "- <a id='bib_Law'></a> Law, Averill M., **2015**. *Simulation modeling and analysis*. Mcgraw-Hill."
   ]
  },
  {
   "cell_type": "markdown",
   "id": "a41d3d21",
   "metadata": {},
   "source": [
    "Copyright (C) 2022 Gabriel Jover Mañas\n",
    "\n",
    "    Permission is granted to copy, distribute and/or modify this document\n",
    "    under the terms of the GNU Free Documentation License, Version 1.3\n",
    "    or any later version published by the Free Software Foundation;\n",
    "    with no Invariant Sections, no Front-Cover Texts, and no Back-Cover Texts.\n",
    "    A copy of the license is included in the section entitled \"GNU\n",
    "    Free Documentation License\".\n",
    "\n",
    "![GFDL][GFDL]\n",
    "\n",
    "    This program is free software: you can redistribute it and/or modify\n",
    "    it under the terms of the GNU General Public License as published by\n",
    "    the Free Software Foundation, either version 3 of the License, or\n",
    "    (at your option) any later version.\n",
    "\n",
    "    This program is distributed in the hope that it will be useful,\n",
    "    but WITHOUT ANY WARRANTY; without even the implied warranty of\n",
    "    MERCHANTABILITY or FITNESS FOR A PARTICULAR PURPOSE.  See the\n",
    "    GNU General Public License for more details.\n",
    "\n",
    "    You should have received a copy of the GNU General Public License\n",
    "    along with this program.  If not, see <https://www.gnu.org/licenses/>.\n",
    "\n",
    "![GPL3][GPL3]\n",
    "\n",
    "[GFDL]: static/gfdl-logo-small.png\n",
    "[GPL3]: static/gplv3-127x51.png"
   ]
  }
 ],
 "metadata": {
  "kernelspec": {
   "display_name": "Python 3 (ipykernel)",
   "language": "python",
   "name": "python3"
  },
  "language_info": {
   "codemirror_mode": {
    "name": "ipython",
    "version": 3
   },
   "file_extension": ".py",
   "mimetype": "text/x-python",
   "name": "python",
   "nbconvert_exporter": "python",
   "pygments_lexer": "ipython3",
   "version": "3.9.16"
  }
 },
 "nbformat": 4,
 "nbformat_minor": 5
}
